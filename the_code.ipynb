{
 "cells": [
  {
   "cell_type": "code",
   "execution_count": 2,
   "metadata": {},
   "outputs": [],
   "source": [
    "import pandas as pd\n",
    "import numpy as np"
   ]
  },
  {
   "cell_type": "markdown",
   "metadata": {},
   "source": [
    "# Project introduction\n",
    "\n",
    "For our machine learning project, we want to try and predict a Airbnb's avaliability for a given month using listing data."
   ]
  },
  {
   "cell_type": "markdown",
   "metadata": {},
   "source": [
    "# Data Preperation"
   ]
  },
  {
   "cell_type": "code",
   "execution_count": 3,
   "metadata": {},
   "outputs": [
    {
     "name": "stdout",
     "output_type": "stream",
     "text": [
      "home_rentals/Amsterdam\\listings.csv.gz\n",
      "home_rentals/Amsterdam\\calendar.csv.gz\n",
      "home_rentals/Barcelona\\listings.csv.gz\n",
      "home_rentals/Barcelona\\calendar.csv.gz\n",
      "home_rentals/Euskadi\\listings.csv.gz\n",
      "home_rentals/Euskadi\\calendar.csv.gz\n",
      "home_rentals/Geneva\\listings.csv.gz\n",
      "home_rentals/Geneva\\calendar.csv.gz\n",
      "home_rentals/Ireland\\listings.csv.gz\n",
      "home_rentals/Ireland\\calendar.csv.gz\n",
      "home_rentals/Lisbon\\listings.csv.gz\n",
      "home_rentals/Lisbon\\calendar.csv.gz\n",
      "home_rentals/Los Angeles\\listings.csv.gz\n",
      "home_rentals/Los Angeles\\calendar.csv.gz\n",
      "home_rentals/Madrid\\listings.csv.gz\n",
      "home_rentals/Madrid\\calendar.csv.gz\n",
      "home_rentals/Malaga\\listings.csv.gz\n",
      "home_rentals/Malaga\\calendar.csv.gz\n",
      "home_rentals/Mallorca\\listings.csv.gz\n",
      "home_rentals/Mallorca\\calendar.csv.gz\n",
      "home_rentals/Malta\\listings.csv.gz\n",
      "home_rentals/Malta\\calendar.csv.gz\n",
      "home_rentals/Menorca\\listings.csv.gz\n",
      "home_rentals/Menorca\\calendar.csv.gz\n",
      "home_rentals/Mexico City\\listings.csv.gz\n",
      "home_rentals/Mexico City\\calendar.csv.gz\n",
      "home_rentals/Milan\\listings.csv.gz\n",
      "home_rentals/Milan\\calendar.csv.gz\n",
      "home_rentals/Naples\\listings.csv.gz\n",
      "home_rentals/Naples\\calendar.csv.gz\n",
      "home_rentals/Rome\\listings.csv.gz\n",
      "home_rentals/Rome\\calendar.csv.gz\n",
      "home_rentals/Rotterdam\\listings.csv.gz\n",
      "home_rentals/Rotterdam\\calendar.csv.gz\n",
      "home_rentals/San Diego\\listings.csv.gz\n",
      "home_rentals/San Diego\\calendar.csv.gz\n",
      "home_rentals/San Francisco\\listings.csv.gz\n",
      "home_rentals/San Francisco\\calendar.csv.gz\n",
      "home_rentals/Tokyo\\listings.csv.gz\n",
      "home_rentals/Tokyo\\calendar.csv.gz\n",
      "home_rentals/Toronto\\listings.csv.gz\n",
      "home_rentals/Toronto\\calendar.csv.gz\n",
      "home_rentals/Valencia\\listings.csv.gz\n",
      "home_rentals/Valencia\\calendar.csv.gz\n",
      "home_rentals/Vancouver\\listings.csv.gz\n",
      "home_rentals/Vancouver\\calendar.csv.gz\n",
      "home_rentals/Vienna\\listings.csv.gz\n",
      "home_rentals/Vienna\\calendar.csv.gz\n",
      "home_rentals/Washington\\listings.csv.gz\n",
      "home_rentals/Washington\\calendar.csv.gz\n",
      "home_rentals/Winnipeg\\listings.csv.gz\n",
      "home_rentals/Winnipeg\\calendar.csv.gz\n",
      "home_rentals/Zurich\\listings.csv.gz\n",
      "home_rentals/Zurich\\calendar.csv.gz\n"
     ]
    }
   ],
   "source": [
    "# generate two data frames containing all of the listing and calendar data for each location\n",
    "import os\n",
    "import pandas as pd\n",
    "\n",
    "directory_path = 'home_rentals/'\n",
    "\n",
    "# Initialize an empty list to store DataFrames\n",
    "listing_df = []\n",
    "calendar_df = []\n",
    "\n",
    "# Iterate through subdirectories\n",
    "for subdirectory in os.listdir(directory_path):\n",
    "    subdirectory_path = os.path.join(directory_path, subdirectory) \n",
    "\n",
    "    csv_listing_file_path = os.path.join(subdirectory_path, \"listings.csv.gz\")\n",
    "    csv_calendar_file_path = os.path.join(subdirectory_path, \"calendar.csv.gz\")\n",
    "    print(csv_listing_file_path)\n",
    "    print(csv_calendar_file_path)\n",
    "\n",
    "    df1 = pd.read_csv(csv_listing_file_path)\n",
    "    df2 = pd.read_csv(csv_calendar_file_path)\n",
    "\n",
    "    df1['location'] = subdirectory\n",
    "    df2['location'] = subdirectory\n",
    "\n",
    "    listing_df.append(df1)\n",
    "    calendar_df.append(df2)\n",
    "\n",
    "\n",
    "# Concatenate all DataFrames into a single DataFrame\n",
    "all_listing_df = pd.concat(listing_df, ignore_index=True)\n",
    "all_calendar_df = pd.concat(calendar_df, ignore_index=True)"
   ]
  },
  {
   "cell_type": "code",
   "execution_count": 4,
   "metadata": {},
   "outputs": [
    {
     "data": {
      "text/html": [
       "<div>\n",
       "<style scoped>\n",
       "    .dataframe tbody tr th:only-of-type {\n",
       "        vertical-align: middle;\n",
       "    }\n",
       "\n",
       "    .dataframe tbody tr th {\n",
       "        vertical-align: top;\n",
       "    }\n",
       "\n",
       "    .dataframe thead th {\n",
       "        text-align: right;\n",
       "    }\n",
       "</style>\n",
       "<table border=\"1\" class=\"dataframe\">\n",
       "  <thead>\n",
       "    <tr style=\"text-align: right;\">\n",
       "      <th></th>\n",
       "      <th>listing_id</th>\n",
       "      <th>date</th>\n",
       "      <th>available</th>\n",
       "      <th>price</th>\n",
       "      <th>adjusted_price</th>\n",
       "      <th>minimum_nights</th>\n",
       "      <th>maximum_nights</th>\n",
       "      <th>location</th>\n",
       "    </tr>\n",
       "  </thead>\n",
       "  <tbody>\n",
       "    <tr>\n",
       "      <th>0</th>\n",
       "      <td>2818</td>\n",
       "      <td>2022-09-07</td>\n",
       "      <td>f</td>\n",
       "      <td>$49.00</td>\n",
       "      <td>$49.00</td>\n",
       "      <td>3.0</td>\n",
       "      <td>1125.0</td>\n",
       "      <td>Amsterdam</td>\n",
       "    </tr>\n",
       "    <tr>\n",
       "      <th>1</th>\n",
       "      <td>2818</td>\n",
       "      <td>2022-09-08</td>\n",
       "      <td>f</td>\n",
       "      <td>$49.00</td>\n",
       "      <td>$49.00</td>\n",
       "      <td>3.0</td>\n",
       "      <td>1125.0</td>\n",
       "      <td>Amsterdam</td>\n",
       "    </tr>\n",
       "    <tr>\n",
       "      <th>2</th>\n",
       "      <td>2818</td>\n",
       "      <td>2022-09-09</td>\n",
       "      <td>f</td>\n",
       "      <td>$49.00</td>\n",
       "      <td>$49.00</td>\n",
       "      <td>3.0</td>\n",
       "      <td>1125.0</td>\n",
       "      <td>Amsterdam</td>\n",
       "    </tr>\n",
       "    <tr>\n",
       "      <th>3</th>\n",
       "      <td>2818</td>\n",
       "      <td>2022-09-10</td>\n",
       "      <td>f</td>\n",
       "      <td>$49.00</td>\n",
       "      <td>$49.00</td>\n",
       "      <td>3.0</td>\n",
       "      <td>1125.0</td>\n",
       "      <td>Amsterdam</td>\n",
       "    </tr>\n",
       "    <tr>\n",
       "      <th>4</th>\n",
       "      <td>2818</td>\n",
       "      <td>2022-09-11</td>\n",
       "      <td>f</td>\n",
       "      <td>$49.00</td>\n",
       "      <td>$49.00</td>\n",
       "      <td>3.0</td>\n",
       "      <td>1125.0</td>\n",
       "      <td>Amsterdam</td>\n",
       "    </tr>\n",
       "    <tr>\n",
       "      <th>...</th>\n",
       "      <td>...</td>\n",
       "      <td>...</td>\n",
       "      <td>...</td>\n",
       "      <td>...</td>\n",
       "      <td>...</td>\n",
       "      <td>...</td>\n",
       "      <td>...</td>\n",
       "      <td>...</td>\n",
       "    </tr>\n",
       "    <tr>\n",
       "      <th>124889345</th>\n",
       "      <td>2869130</td>\n",
       "      <td>2023-09-18</td>\n",
       "      <td>t</td>\n",
       "      <td>$575.00</td>\n",
       "      <td>$575.00</td>\n",
       "      <td>27.0</td>\n",
       "      <td>57.0</td>\n",
       "      <td>Zurich</td>\n",
       "    </tr>\n",
       "    <tr>\n",
       "      <th>124889346</th>\n",
       "      <td>2869130</td>\n",
       "      <td>2023-09-19</td>\n",
       "      <td>t</td>\n",
       "      <td>$575.00</td>\n",
       "      <td>$575.00</td>\n",
       "      <td>27.0</td>\n",
       "      <td>57.0</td>\n",
       "      <td>Zurich</td>\n",
       "    </tr>\n",
       "    <tr>\n",
       "      <th>124889347</th>\n",
       "      <td>2869130</td>\n",
       "      <td>2023-09-20</td>\n",
       "      <td>t</td>\n",
       "      <td>$575.00</td>\n",
       "      <td>$575.00</td>\n",
       "      <td>27.0</td>\n",
       "      <td>57.0</td>\n",
       "      <td>Zurich</td>\n",
       "    </tr>\n",
       "    <tr>\n",
       "      <th>124889348</th>\n",
       "      <td>2869130</td>\n",
       "      <td>2023-09-21</td>\n",
       "      <td>t</td>\n",
       "      <td>$575.00</td>\n",
       "      <td>$575.00</td>\n",
       "      <td>27.0</td>\n",
       "      <td>57.0</td>\n",
       "      <td>Zurich</td>\n",
       "    </tr>\n",
       "    <tr>\n",
       "      <th>124889349</th>\n",
       "      <td>2869130</td>\n",
       "      <td>2023-09-22</td>\n",
       "      <td>t</td>\n",
       "      <td>$575.00</td>\n",
       "      <td>$575.00</td>\n",
       "      <td>27.0</td>\n",
       "      <td>57.0</td>\n",
       "      <td>Zurich</td>\n",
       "    </tr>\n",
       "  </tbody>\n",
       "</table>\n",
       "<p>124889350 rows × 8 columns</p>\n",
       "</div>"
      ],
      "text/plain": [
       "           listing_id        date available    price adjusted_price  \\\n",
       "0                2818  2022-09-07         f   $49.00         $49.00   \n",
       "1                2818  2022-09-08         f   $49.00         $49.00   \n",
       "2                2818  2022-09-09         f   $49.00         $49.00   \n",
       "3                2818  2022-09-10         f   $49.00         $49.00   \n",
       "4                2818  2022-09-11         f   $49.00         $49.00   \n",
       "...               ...         ...       ...      ...            ...   \n",
       "124889345     2869130  2023-09-18         t  $575.00        $575.00   \n",
       "124889346     2869130  2023-09-19         t  $575.00        $575.00   \n",
       "124889347     2869130  2023-09-20         t  $575.00        $575.00   \n",
       "124889348     2869130  2023-09-21         t  $575.00        $575.00   \n",
       "124889349     2869130  2023-09-22         t  $575.00        $575.00   \n",
       "\n",
       "           minimum_nights  maximum_nights   location  \n",
       "0                     3.0          1125.0  Amsterdam  \n",
       "1                     3.0          1125.0  Amsterdam  \n",
       "2                     3.0          1125.0  Amsterdam  \n",
       "3                     3.0          1125.0  Amsterdam  \n",
       "4                     3.0          1125.0  Amsterdam  \n",
       "...                   ...             ...        ...  \n",
       "124889345            27.0            57.0     Zurich  \n",
       "124889346            27.0            57.0     Zurich  \n",
       "124889347            27.0            57.0     Zurich  \n",
       "124889348            27.0            57.0     Zurich  \n",
       "124889349            27.0            57.0     Zurich  \n",
       "\n",
       "[124889350 rows x 8 columns]"
      ]
     },
     "execution_count": 4,
     "metadata": {},
     "output_type": "execute_result"
    }
   ],
   "source": [
    "all_calendar_df"
   ]
  },
  {
   "cell_type": "code",
   "execution_count": 5,
   "metadata": {},
   "outputs": [
    {
     "data": {
      "text/plain": [
       "Index(['id', 'listing_url', 'scrape_id', 'last_scraped', 'source', 'name',\n",
       "       'description', 'neighborhood_overview', 'picture_url', 'host_id',\n",
       "       'host_url', 'host_name', 'host_since', 'host_location', 'host_about',\n",
       "       'host_response_time', 'host_response_rate', 'host_acceptance_rate',\n",
       "       'host_is_superhost', 'host_thumbnail_url', 'host_picture_url',\n",
       "       'host_neighbourhood', 'host_listings_count',\n",
       "       'host_total_listings_count', 'host_verifications',\n",
       "       'host_has_profile_pic', 'host_identity_verified', 'neighbourhood',\n",
       "       'neighbourhood_cleansed', 'neighbourhood_group_cleansed', 'latitude',\n",
       "       'longitude', 'property_type', 'room_type', 'accommodates', 'bathrooms',\n",
       "       'bathrooms_text', 'bedrooms', 'beds', 'amenities', 'price',\n",
       "       'minimum_nights', 'maximum_nights', 'minimum_minimum_nights',\n",
       "       'maximum_minimum_nights', 'minimum_maximum_nights',\n",
       "       'maximum_maximum_nights', 'minimum_nights_avg_ntm',\n",
       "       'maximum_nights_avg_ntm', 'calendar_updated', 'has_availability',\n",
       "       'availability_30', 'availability_60', 'availability_90',\n",
       "       'availability_365', 'calendar_last_scraped', 'number_of_reviews',\n",
       "       'number_of_reviews_ltm', 'number_of_reviews_l30d', 'first_review',\n",
       "       'last_review', 'review_scores_rating', 'review_scores_accuracy',\n",
       "       'review_scores_cleanliness', 'review_scores_checkin',\n",
       "       'review_scores_communication', 'review_scores_location',\n",
       "       'review_scores_value', 'license', 'instant_bookable',\n",
       "       'calculated_host_listings_count',\n",
       "       'calculated_host_listings_count_entire_homes',\n",
       "       'calculated_host_listings_count_private_rooms',\n",
       "       'calculated_host_listings_count_shared_rooms', 'reviews_per_month',\n",
       "       'location', 'last_searched', 'requires_license', 'region_id',\n",
       "       'region_name', 'region_parent_id', 'region_parent_name',\n",
       "       'region_parent_parent_id', 'region_parent_parent_name', 'listings.csv'],\n",
       "      dtype='object')"
      ]
     },
     "execution_count": 5,
     "metadata": {},
     "output_type": "execute_result"
    }
   ],
   "source": [
    "all_listing_df.columns"
   ]
  },
  {
   "cell_type": "markdown",
   "metadata": {},
   "source": [
    "### Removing Irrelevant columns "
   ]
  },
  {
   "cell_type": "markdown",
   "metadata": {},
   "source": [
    "Since this dataset has a lot of variables, we can start by removing colums that will be clearly irrelevant for our research question such as the following:\n",
    "\n",
    "- *'scrape_id', 'last_scraped', 'source', 'picture_url', 'host_id', 'host_thumbnail_url', host_url', 'host_name'*  = Identifier variables\n",
    "-  *'name', 'description', 'neighborhood_overview', 'host_about', 'bathrooms_text'*  = We will not be working with textual data for this analysis, for the sake of efficiency and time\n",
    "- *'neighbourhood', 'neighbourhood_cleansed', 'neighbourhood_group_cleansed', 'latitude','longitude', region_name', 'region_parent_id', 'region_parent_name','region_parent_parent_id', 'region_parent_parent_name'* = We will only be using Country in our analysis as a geographic identifier, in order to reduce the dimension of our data while keeping some identifiabiltiy (since there are 20 countries)\n",
    "- *'has_availability', 'availability_30', 'availability_60', 'availability_90', 'availability_365'* = These are variables that will be dependant on our predictor variable in this analysis "
   ]
  },
  {
   "cell_type": "code",
   "execution_count": 6,
   "metadata": {},
   "outputs": [],
   "source": [
    "columns_drop = ['scrape_id', 'last_scraped', 'source', 'picture_url', 'host_id', 'host_thumbnail_url', 'host_url','name', \n",
    "                    'description', 'neighborhood_overview', 'host_about', 'bathrooms_text', 'neighbourhood',\n",
    "                      'neighbourhood_cleansed', 'neighbourhood_group_cleansed', 'latitude','longitude',\n",
    "                    'region_name', 'region_parent_id', 'region_parent_name','region_parent_parent_id', 'region_parent_parent_name',\n",
    "                      'has_availability', 'availability_60', 'availability_90', 'availability_365']\n",
    "\n",
    "all_listing_df_1 = all_listing_df.drop(columns=columns_drop) "
   ]
  },
  {
   "cell_type": "markdown",
   "metadata": {},
   "source": [
    "### Remove rows and columns that have significant amount of NAN values \n",
    " "
   ]
  },
  {
   "cell_type": "code",
   "execution_count": 7,
   "metadata": {},
   "outputs": [
    {
     "data": {
      "text/html": [
       "<div>\n",
       "<style scoped>\n",
       "    .dataframe tbody tr th:only-of-type {\n",
       "        vertical-align: middle;\n",
       "    }\n",
       "\n",
       "    .dataframe tbody tr th {\n",
       "        vertical-align: top;\n",
       "    }\n",
       "\n",
       "    .dataframe thead th {\n",
       "        text-align: right;\n",
       "    }\n",
       "</style>\n",
       "<table border=\"1\" class=\"dataframe\">\n",
       "  <thead>\n",
       "    <tr style=\"text-align: right;\">\n",
       "      <th></th>\n",
       "      <th>id</th>\n",
       "      <th>listing_url</th>\n",
       "      <th>host_name</th>\n",
       "      <th>host_since</th>\n",
       "      <th>host_location</th>\n",
       "      <th>host_response_time</th>\n",
       "      <th>host_response_rate</th>\n",
       "      <th>host_acceptance_rate</th>\n",
       "      <th>host_is_superhost</th>\n",
       "      <th>host_picture_url</th>\n",
       "      <th>...</th>\n",
       "      <th>calculated_host_listings_count</th>\n",
       "      <th>calculated_host_listings_count_entire_homes</th>\n",
       "      <th>calculated_host_listings_count_private_rooms</th>\n",
       "      <th>calculated_host_listings_count_shared_rooms</th>\n",
       "      <th>reviews_per_month</th>\n",
       "      <th>location</th>\n",
       "      <th>last_searched</th>\n",
       "      <th>requires_license</th>\n",
       "      <th>region_id</th>\n",
       "      <th>listings.csv</th>\n",
       "    </tr>\n",
       "  </thead>\n",
       "  <tbody>\n",
       "    <tr>\n",
       "      <th>0</th>\n",
       "      <td>2.818000e+03</td>\n",
       "      <td>https://www.airbnb.com/rooms/2818</td>\n",
       "      <td>Daniel</td>\n",
       "      <td>2008-09-24</td>\n",
       "      <td>Amsterdam, Netherlands</td>\n",
       "      <td>within an hour</td>\n",
       "      <td>100%</td>\n",
       "      <td>100%</td>\n",
       "      <td>t</td>\n",
       "      <td>https://a0.muscache.com/im/users/3159/profile_...</td>\n",
       "      <td>...</td>\n",
       "      <td>1.0</td>\n",
       "      <td>0.0</td>\n",
       "      <td>1.0</td>\n",
       "      <td>0.0</td>\n",
       "      <td>1.86</td>\n",
       "      <td>Amsterdam</td>\n",
       "      <td>NaN</td>\n",
       "      <td>NaN</td>\n",
       "      <td>NaN</td>\n",
       "      <td>NaN</td>\n",
       "    </tr>\n",
       "    <tr>\n",
       "      <th>1</th>\n",
       "      <td>2.016800e+04</td>\n",
       "      <td>https://www.airbnb.com/rooms/20168</td>\n",
       "      <td>Alexander</td>\n",
       "      <td>2009-12-02</td>\n",
       "      <td>Amsterdam, Netherlands</td>\n",
       "      <td>within an hour</td>\n",
       "      <td>100%</td>\n",
       "      <td>98%</td>\n",
       "      <td>f</td>\n",
       "      <td>https://a0.muscache.com/im/pictures/user/65092...</td>\n",
       "      <td>...</td>\n",
       "      <td>2.0</td>\n",
       "      <td>0.0</td>\n",
       "      <td>2.0</td>\n",
       "      <td>0.0</td>\n",
       "      <td>2.22</td>\n",
       "      <td>Amsterdam</td>\n",
       "      <td>NaN</td>\n",
       "      <td>NaN</td>\n",
       "      <td>NaN</td>\n",
       "      <td>NaN</td>\n",
       "    </tr>\n",
       "    <tr>\n",
       "      <th>2</th>\n",
       "      <td>2.788600e+04</td>\n",
       "      <td>https://www.airbnb.com/rooms/27886</td>\n",
       "      <td>Flip</td>\n",
       "      <td>2010-03-23</td>\n",
       "      <td>Amsterdam, Netherlands</td>\n",
       "      <td>within an hour</td>\n",
       "      <td>100%</td>\n",
       "      <td>100%</td>\n",
       "      <td>f</td>\n",
       "      <td>https://a0.muscache.com/im/users/97647/profile...</td>\n",
       "      <td>...</td>\n",
       "      <td>1.0</td>\n",
       "      <td>0.0</td>\n",
       "      <td>1.0</td>\n",
       "      <td>0.0</td>\n",
       "      <td>1.78</td>\n",
       "      <td>Amsterdam</td>\n",
       "      <td>NaN</td>\n",
       "      <td>NaN</td>\n",
       "      <td>NaN</td>\n",
       "      <td>NaN</td>\n",
       "    </tr>\n",
       "    <tr>\n",
       "      <th>3</th>\n",
       "      <td>2.887100e+04</td>\n",
       "      <td>https://www.airbnb.com/rooms/28871</td>\n",
       "      <td>Edwin</td>\n",
       "      <td>2010-05-13</td>\n",
       "      <td>Amsterdam, Netherlands</td>\n",
       "      <td>within an hour</td>\n",
       "      <td>100%</td>\n",
       "      <td>100%</td>\n",
       "      <td>t</td>\n",
       "      <td>https://a0.muscache.com/im/pictures/user/9986b...</td>\n",
       "      <td>...</td>\n",
       "      <td>2.0</td>\n",
       "      <td>0.0</td>\n",
       "      <td>2.0</td>\n",
       "      <td>0.0</td>\n",
       "      <td>2.92</td>\n",
       "      <td>Amsterdam</td>\n",
       "      <td>NaN</td>\n",
       "      <td>NaN</td>\n",
       "      <td>NaN</td>\n",
       "      <td>NaN</td>\n",
       "    </tr>\n",
       "    <tr>\n",
       "      <th>4</th>\n",
       "      <td>2.905100e+04</td>\n",
       "      <td>https://www.airbnb.com/rooms/29051</td>\n",
       "      <td>Edwin</td>\n",
       "      <td>2010-05-13</td>\n",
       "      <td>Amsterdam, Netherlands</td>\n",
       "      <td>within an hour</td>\n",
       "      <td>100%</td>\n",
       "      <td>100%</td>\n",
       "      <td>t</td>\n",
       "      <td>https://a0.muscache.com/im/pictures/user/9986b...</td>\n",
       "      <td>...</td>\n",
       "      <td>2.0</td>\n",
       "      <td>0.0</td>\n",
       "      <td>2.0</td>\n",
       "      <td>0.0</td>\n",
       "      <td>4.16</td>\n",
       "      <td>Amsterdam</td>\n",
       "      <td>NaN</td>\n",
       "      <td>NaN</td>\n",
       "      <td>NaN</td>\n",
       "      <td>NaN</td>\n",
       "    </tr>\n",
       "    <tr>\n",
       "      <th>...</th>\n",
       "      <td>...</td>\n",
       "      <td>...</td>\n",
       "      <td>...</td>\n",
       "      <td>...</td>\n",
       "      <td>...</td>\n",
       "      <td>...</td>\n",
       "      <td>...</td>\n",
       "      <td>...</td>\n",
       "      <td>...</td>\n",
       "      <td>...</td>\n",
       "      <td>...</td>\n",
       "      <td>...</td>\n",
       "      <td>...</td>\n",
       "      <td>...</td>\n",
       "      <td>...</td>\n",
       "      <td>...</td>\n",
       "      <td>...</td>\n",
       "      <td>...</td>\n",
       "      <td>...</td>\n",
       "      <td>...</td>\n",
       "      <td>...</td>\n",
       "    </tr>\n",
       "    <tr>\n",
       "      <th>342231</th>\n",
       "      <td>5.295024e+07</td>\n",
       "      <td>https://www.airbnb.com/rooms/52950237</td>\n",
       "      <td>Edit</td>\n",
       "      <td>2021-10-23</td>\n",
       "      <td>NaN</td>\n",
       "      <td>within an hour</td>\n",
       "      <td>100%</td>\n",
       "      <td>94%</td>\n",
       "      <td>f</td>\n",
       "      <td>https://a0.muscache.com/im/pictures/user/37293...</td>\n",
       "      <td>...</td>\n",
       "      <td>1.0</td>\n",
       "      <td>1.0</td>\n",
       "      <td>0.0</td>\n",
       "      <td>0.0</td>\n",
       "      <td>0.46</td>\n",
       "      <td>Zurich</td>\n",
       "      <td>NaN</td>\n",
       "      <td>NaN</td>\n",
       "      <td>NaN</td>\n",
       "      <td>NaN</td>\n",
       "    </tr>\n",
       "    <tr>\n",
       "      <th>342232</th>\n",
       "      <td>5.721959e+17</td>\n",
       "      <td>https://www.airbnb.com/rooms/572195881887326595</td>\n",
       "      <td>Sinha‘S Swiss</td>\n",
       "      <td>2017-09-22</td>\n",
       "      <td>Switzerland</td>\n",
       "      <td>within an hour</td>\n",
       "      <td>100%</td>\n",
       "      <td>93%</td>\n",
       "      <td>f</td>\n",
       "      <td>https://a0.muscache.com/im/pictures/user/b5578...</td>\n",
       "      <td>...</td>\n",
       "      <td>18.0</td>\n",
       "      <td>18.0</td>\n",
       "      <td>0.0</td>\n",
       "      <td>0.0</td>\n",
       "      <td>1.69</td>\n",
       "      <td>Zurich</td>\n",
       "      <td>NaN</td>\n",
       "      <td>NaN</td>\n",
       "      <td>NaN</td>\n",
       "      <td>NaN</td>\n",
       "    </tr>\n",
       "    <tr>\n",
       "      <th>342233</th>\n",
       "      <td>4.607863e+07</td>\n",
       "      <td>https://www.airbnb.com/rooms/46078634</td>\n",
       "      <td>Lukas</td>\n",
       "      <td>2020-10-27</td>\n",
       "      <td>Rümlang, Switzerland</td>\n",
       "      <td>within an hour</td>\n",
       "      <td>100%</td>\n",
       "      <td>100%</td>\n",
       "      <td>t</td>\n",
       "      <td>https://a0.muscache.com/im/pictures/user/58d7b...</td>\n",
       "      <td>...</td>\n",
       "      <td>10.0</td>\n",
       "      <td>0.0</td>\n",
       "      <td>10.0</td>\n",
       "      <td>0.0</td>\n",
       "      <td>0.83</td>\n",
       "      <td>Zurich</td>\n",
       "      <td>NaN</td>\n",
       "      <td>NaN</td>\n",
       "      <td>NaN</td>\n",
       "      <td>NaN</td>\n",
       "    </tr>\n",
       "    <tr>\n",
       "      <th>342234</th>\n",
       "      <td>4.647998e+07</td>\n",
       "      <td>https://www.airbnb.com/rooms/46479980</td>\n",
       "      <td>Lukas</td>\n",
       "      <td>2020-10-27</td>\n",
       "      <td>Rümlang, Switzerland</td>\n",
       "      <td>within an hour</td>\n",
       "      <td>100%</td>\n",
       "      <td>100%</td>\n",
       "      <td>t</td>\n",
       "      <td>https://a0.muscache.com/im/pictures/user/58d7b...</td>\n",
       "      <td>...</td>\n",
       "      <td>10.0</td>\n",
       "      <td>0.0</td>\n",
       "      <td>10.0</td>\n",
       "      <td>0.0</td>\n",
       "      <td>0.65</td>\n",
       "      <td>Zurich</td>\n",
       "      <td>NaN</td>\n",
       "      <td>NaN</td>\n",
       "      <td>NaN</td>\n",
       "      <td>NaN</td>\n",
       "    </tr>\n",
       "    <tr>\n",
       "      <th>342235</th>\n",
       "      <td>4.672216e+07</td>\n",
       "      <td>https://www.airbnb.com/rooms/46722163</td>\n",
       "      <td>Lukas</td>\n",
       "      <td>2020-10-27</td>\n",
       "      <td>Rümlang, Switzerland</td>\n",
       "      <td>within an hour</td>\n",
       "      <td>100%</td>\n",
       "      <td>100%</td>\n",
       "      <td>t</td>\n",
       "      <td>https://a0.muscache.com/im/pictures/user/58d7b...</td>\n",
       "      <td>...</td>\n",
       "      <td>10.0</td>\n",
       "      <td>0.0</td>\n",
       "      <td>10.0</td>\n",
       "      <td>0.0</td>\n",
       "      <td>0.09</td>\n",
       "      <td>Zurich</td>\n",
       "      <td>NaN</td>\n",
       "      <td>NaN</td>\n",
       "      <td>NaN</td>\n",
       "      <td>NaN</td>\n",
       "    </tr>\n",
       "  </tbody>\n",
       "</table>\n",
       "<p>342236 rows × 59 columns</p>\n",
       "</div>"
      ],
      "text/plain": [
       "                  id                                      listing_url  \\\n",
       "0       2.818000e+03                https://www.airbnb.com/rooms/2818   \n",
       "1       2.016800e+04               https://www.airbnb.com/rooms/20168   \n",
       "2       2.788600e+04               https://www.airbnb.com/rooms/27886   \n",
       "3       2.887100e+04               https://www.airbnb.com/rooms/28871   \n",
       "4       2.905100e+04               https://www.airbnb.com/rooms/29051   \n",
       "...              ...                                              ...   \n",
       "342231  5.295024e+07            https://www.airbnb.com/rooms/52950237   \n",
       "342232  5.721959e+17  https://www.airbnb.com/rooms/572195881887326595   \n",
       "342233  4.607863e+07            https://www.airbnb.com/rooms/46078634   \n",
       "342234  4.647998e+07            https://www.airbnb.com/rooms/46479980   \n",
       "342235  4.672216e+07            https://www.airbnb.com/rooms/46722163   \n",
       "\n",
       "            host_name  host_since           host_location host_response_time  \\\n",
       "0              Daniel  2008-09-24  Amsterdam, Netherlands     within an hour   \n",
       "1           Alexander  2009-12-02  Amsterdam, Netherlands     within an hour   \n",
       "2                Flip  2010-03-23  Amsterdam, Netherlands     within an hour   \n",
       "3               Edwin  2010-05-13  Amsterdam, Netherlands     within an hour   \n",
       "4               Edwin  2010-05-13  Amsterdam, Netherlands     within an hour   \n",
       "...               ...         ...                     ...                ...   \n",
       "342231           Edit  2021-10-23                     NaN     within an hour   \n",
       "342232  Sinha‘S Swiss  2017-09-22             Switzerland     within an hour   \n",
       "342233          Lukas  2020-10-27    Rümlang, Switzerland     within an hour   \n",
       "342234          Lukas  2020-10-27    Rümlang, Switzerland     within an hour   \n",
       "342235          Lukas  2020-10-27    Rümlang, Switzerland     within an hour   \n",
       "\n",
       "       host_response_rate host_acceptance_rate host_is_superhost  \\\n",
       "0                    100%                 100%                 t   \n",
       "1                    100%                  98%                 f   \n",
       "2                    100%                 100%                 f   \n",
       "3                    100%                 100%                 t   \n",
       "4                    100%                 100%                 t   \n",
       "...                   ...                  ...               ...   \n",
       "342231               100%                  94%                 f   \n",
       "342232               100%                  93%                 f   \n",
       "342233               100%                 100%                 t   \n",
       "342234               100%                 100%                 t   \n",
       "342235               100%                 100%                 t   \n",
       "\n",
       "                                         host_picture_url  ...  \\\n",
       "0       https://a0.muscache.com/im/users/3159/profile_...  ...   \n",
       "1       https://a0.muscache.com/im/pictures/user/65092...  ...   \n",
       "2       https://a0.muscache.com/im/users/97647/profile...  ...   \n",
       "3       https://a0.muscache.com/im/pictures/user/9986b...  ...   \n",
       "4       https://a0.muscache.com/im/pictures/user/9986b...  ...   \n",
       "...                                                   ...  ...   \n",
       "342231  https://a0.muscache.com/im/pictures/user/37293...  ...   \n",
       "342232  https://a0.muscache.com/im/pictures/user/b5578...  ...   \n",
       "342233  https://a0.muscache.com/im/pictures/user/58d7b...  ...   \n",
       "342234  https://a0.muscache.com/im/pictures/user/58d7b...  ...   \n",
       "342235  https://a0.muscache.com/im/pictures/user/58d7b...  ...   \n",
       "\n",
       "       calculated_host_listings_count  \\\n",
       "0                                 1.0   \n",
       "1                                 2.0   \n",
       "2                                 1.0   \n",
       "3                                 2.0   \n",
       "4                                 2.0   \n",
       "...                               ...   \n",
       "342231                            1.0   \n",
       "342232                           18.0   \n",
       "342233                           10.0   \n",
       "342234                           10.0   \n",
       "342235                           10.0   \n",
       "\n",
       "        calculated_host_listings_count_entire_homes  \\\n",
       "0                                               0.0   \n",
       "1                                               0.0   \n",
       "2                                               0.0   \n",
       "3                                               0.0   \n",
       "4                                               0.0   \n",
       "...                                             ...   \n",
       "342231                                          1.0   \n",
       "342232                                         18.0   \n",
       "342233                                          0.0   \n",
       "342234                                          0.0   \n",
       "342235                                          0.0   \n",
       "\n",
       "        calculated_host_listings_count_private_rooms  \\\n",
       "0                                                1.0   \n",
       "1                                                2.0   \n",
       "2                                                1.0   \n",
       "3                                                2.0   \n",
       "4                                                2.0   \n",
       "...                                              ...   \n",
       "342231                                           0.0   \n",
       "342232                                           0.0   \n",
       "342233                                          10.0   \n",
       "342234                                          10.0   \n",
       "342235                                          10.0   \n",
       "\n",
       "       calculated_host_listings_count_shared_rooms reviews_per_month  \\\n",
       "0                                              0.0              1.86   \n",
       "1                                              0.0              2.22   \n",
       "2                                              0.0              1.78   \n",
       "3                                              0.0              2.92   \n",
       "4                                              0.0              4.16   \n",
       "...                                            ...               ...   \n",
       "342231                                         0.0              0.46   \n",
       "342232                                         0.0              1.69   \n",
       "342233                                         0.0              0.83   \n",
       "342234                                         0.0              0.65   \n",
       "342235                                         0.0              0.09   \n",
       "\n",
       "         location last_searched requires_license  region_id  listings.csv  \n",
       "0       Amsterdam           NaN              NaN        NaN           NaN  \n",
       "1       Amsterdam           NaN              NaN        NaN           NaN  \n",
       "2       Amsterdam           NaN              NaN        NaN           NaN  \n",
       "3       Amsterdam           NaN              NaN        NaN           NaN  \n",
       "4       Amsterdam           NaN              NaN        NaN           NaN  \n",
       "...           ...           ...              ...        ...           ...  \n",
       "342231     Zurich           NaN              NaN        NaN           NaN  \n",
       "342232     Zurich           NaN              NaN        NaN           NaN  \n",
       "342233     Zurich           NaN              NaN        NaN           NaN  \n",
       "342234     Zurich           NaN              NaN        NaN           NaN  \n",
       "342235     Zurich           NaN              NaN        NaN           NaN  \n",
       "\n",
       "[342236 rows x 59 columns]"
      ]
     },
     "execution_count": 7,
     "metadata": {},
     "output_type": "execute_result"
    }
   ],
   "source": [
    "all_listing_df_1\n"
   ]
  },
  {
   "cell_type": "code",
   "execution_count": 8,
   "metadata": {},
   "outputs": [
    {
     "data": {
      "text/html": [
       "<div>\n",
       "<style scoped>\n",
       "    .dataframe tbody tr th:only-of-type {\n",
       "        vertical-align: middle;\n",
       "    }\n",
       "\n",
       "    .dataframe tbody tr th {\n",
       "        vertical-align: top;\n",
       "    }\n",
       "\n",
       "    .dataframe thead th {\n",
       "        text-align: right;\n",
       "    }\n",
       "</style>\n",
       "<table border=\"1\" class=\"dataframe\">\n",
       "  <thead>\n",
       "    <tr style=\"text-align: right;\">\n",
       "      <th></th>\n",
       "      <th>id</th>\n",
       "      <th>listing_url</th>\n",
       "      <th>host_name</th>\n",
       "      <th>host_since</th>\n",
       "      <th>host_location</th>\n",
       "      <th>host_response_time</th>\n",
       "      <th>host_response_rate</th>\n",
       "      <th>host_acceptance_rate</th>\n",
       "      <th>host_is_superhost</th>\n",
       "      <th>host_picture_url</th>\n",
       "      <th>...</th>\n",
       "      <th>review_scores_communication</th>\n",
       "      <th>review_scores_location</th>\n",
       "      <th>review_scores_value</th>\n",
       "      <th>instant_bookable</th>\n",
       "      <th>calculated_host_listings_count</th>\n",
       "      <th>calculated_host_listings_count_entire_homes</th>\n",
       "      <th>calculated_host_listings_count_private_rooms</th>\n",
       "      <th>calculated_host_listings_count_shared_rooms</th>\n",
       "      <th>reviews_per_month</th>\n",
       "      <th>location</th>\n",
       "    </tr>\n",
       "  </thead>\n",
       "  <tbody>\n",
       "    <tr>\n",
       "      <th>0</th>\n",
       "      <td>2.818000e+03</td>\n",
       "      <td>https://www.airbnb.com/rooms/2818</td>\n",
       "      <td>Daniel</td>\n",
       "      <td>2008-09-24</td>\n",
       "      <td>Amsterdam, Netherlands</td>\n",
       "      <td>within an hour</td>\n",
       "      <td>100%</td>\n",
       "      <td>100%</td>\n",
       "      <td>t</td>\n",
       "      <td>https://a0.muscache.com/im/users/3159/profile_...</td>\n",
       "      <td>...</td>\n",
       "      <td>4.98</td>\n",
       "      <td>4.69</td>\n",
       "      <td>4.82</td>\n",
       "      <td>t</td>\n",
       "      <td>1.0</td>\n",
       "      <td>0.0</td>\n",
       "      <td>1.0</td>\n",
       "      <td>0.0</td>\n",
       "      <td>1.86</td>\n",
       "      <td>Amsterdam</td>\n",
       "    </tr>\n",
       "    <tr>\n",
       "      <th>1</th>\n",
       "      <td>2.016800e+04</td>\n",
       "      <td>https://www.airbnb.com/rooms/20168</td>\n",
       "      <td>Alexander</td>\n",
       "      <td>2009-12-02</td>\n",
       "      <td>Amsterdam, Netherlands</td>\n",
       "      <td>within an hour</td>\n",
       "      <td>100%</td>\n",
       "      <td>98%</td>\n",
       "      <td>f</td>\n",
       "      <td>https://a0.muscache.com/im/pictures/user/65092...</td>\n",
       "      <td>...</td>\n",
       "      <td>4.62</td>\n",
       "      <td>4.87</td>\n",
       "      <td>4.49</td>\n",
       "      <td>t</td>\n",
       "      <td>2.0</td>\n",
       "      <td>0.0</td>\n",
       "      <td>2.0</td>\n",
       "      <td>0.0</td>\n",
       "      <td>2.22</td>\n",
       "      <td>Amsterdam</td>\n",
       "    </tr>\n",
       "    <tr>\n",
       "      <th>2</th>\n",
       "      <td>2.788600e+04</td>\n",
       "      <td>https://www.airbnb.com/rooms/27886</td>\n",
       "      <td>Flip</td>\n",
       "      <td>2010-03-23</td>\n",
       "      <td>Amsterdam, Netherlands</td>\n",
       "      <td>within an hour</td>\n",
       "      <td>100%</td>\n",
       "      <td>100%</td>\n",
       "      <td>f</td>\n",
       "      <td>https://a0.muscache.com/im/users/97647/profile...</td>\n",
       "      <td>...</td>\n",
       "      <td>4.92</td>\n",
       "      <td>4.89</td>\n",
       "      <td>4.79</td>\n",
       "      <td>t</td>\n",
       "      <td>1.0</td>\n",
       "      <td>0.0</td>\n",
       "      <td>1.0</td>\n",
       "      <td>0.0</td>\n",
       "      <td>1.78</td>\n",
       "      <td>Amsterdam</td>\n",
       "    </tr>\n",
       "    <tr>\n",
       "      <th>3</th>\n",
       "      <td>2.887100e+04</td>\n",
       "      <td>https://www.airbnb.com/rooms/28871</td>\n",
       "      <td>Edwin</td>\n",
       "      <td>2010-05-13</td>\n",
       "      <td>Amsterdam, Netherlands</td>\n",
       "      <td>within an hour</td>\n",
       "      <td>100%</td>\n",
       "      <td>100%</td>\n",
       "      <td>t</td>\n",
       "      <td>https://a0.muscache.com/im/pictures/user/9986b...</td>\n",
       "      <td>...</td>\n",
       "      <td>4.94</td>\n",
       "      <td>4.96</td>\n",
       "      <td>4.83</td>\n",
       "      <td>f</td>\n",
       "      <td>2.0</td>\n",
       "      <td>0.0</td>\n",
       "      <td>2.0</td>\n",
       "      <td>0.0</td>\n",
       "      <td>2.92</td>\n",
       "      <td>Amsterdam</td>\n",
       "    </tr>\n",
       "    <tr>\n",
       "      <th>4</th>\n",
       "      <td>2.905100e+04</td>\n",
       "      <td>https://www.airbnb.com/rooms/29051</td>\n",
       "      <td>Edwin</td>\n",
       "      <td>2010-05-13</td>\n",
       "      <td>Amsterdam, Netherlands</td>\n",
       "      <td>within an hour</td>\n",
       "      <td>100%</td>\n",
       "      <td>100%</td>\n",
       "      <td>t</td>\n",
       "      <td>https://a0.muscache.com/im/pictures/user/9986b...</td>\n",
       "      <td>...</td>\n",
       "      <td>4.92</td>\n",
       "      <td>4.87</td>\n",
       "      <td>4.77</td>\n",
       "      <td>f</td>\n",
       "      <td>2.0</td>\n",
       "      <td>0.0</td>\n",
       "      <td>2.0</td>\n",
       "      <td>0.0</td>\n",
       "      <td>4.16</td>\n",
       "      <td>Amsterdam</td>\n",
       "    </tr>\n",
       "    <tr>\n",
       "      <th>...</th>\n",
       "      <td>...</td>\n",
       "      <td>...</td>\n",
       "      <td>...</td>\n",
       "      <td>...</td>\n",
       "      <td>...</td>\n",
       "      <td>...</td>\n",
       "      <td>...</td>\n",
       "      <td>...</td>\n",
       "      <td>...</td>\n",
       "      <td>...</td>\n",
       "      <td>...</td>\n",
       "      <td>...</td>\n",
       "      <td>...</td>\n",
       "      <td>...</td>\n",
       "      <td>...</td>\n",
       "      <td>...</td>\n",
       "      <td>...</td>\n",
       "      <td>...</td>\n",
       "      <td>...</td>\n",
       "      <td>...</td>\n",
       "      <td>...</td>\n",
       "    </tr>\n",
       "    <tr>\n",
       "      <th>342231</th>\n",
       "      <td>5.295024e+07</td>\n",
       "      <td>https://www.airbnb.com/rooms/52950237</td>\n",
       "      <td>Edit</td>\n",
       "      <td>2021-10-23</td>\n",
       "      <td>NaN</td>\n",
       "      <td>within an hour</td>\n",
       "      <td>100%</td>\n",
       "      <td>94%</td>\n",
       "      <td>f</td>\n",
       "      <td>https://a0.muscache.com/im/pictures/user/37293...</td>\n",
       "      <td>...</td>\n",
       "      <td>5.00</td>\n",
       "      <td>4.80</td>\n",
       "      <td>4.80</td>\n",
       "      <td>t</td>\n",
       "      <td>1.0</td>\n",
       "      <td>1.0</td>\n",
       "      <td>0.0</td>\n",
       "      <td>0.0</td>\n",
       "      <td>0.46</td>\n",
       "      <td>Zurich</td>\n",
       "    </tr>\n",
       "    <tr>\n",
       "      <th>342232</th>\n",
       "      <td>5.721959e+17</td>\n",
       "      <td>https://www.airbnb.com/rooms/572195881887326595</td>\n",
       "      <td>Sinha‘S Swiss</td>\n",
       "      <td>2017-09-22</td>\n",
       "      <td>Switzerland</td>\n",
       "      <td>within an hour</td>\n",
       "      <td>100%</td>\n",
       "      <td>93%</td>\n",
       "      <td>f</td>\n",
       "      <td>https://a0.muscache.com/im/pictures/user/b5578...</td>\n",
       "      <td>...</td>\n",
       "      <td>4.90</td>\n",
       "      <td>4.80</td>\n",
       "      <td>4.70</td>\n",
       "      <td>t</td>\n",
       "      <td>18.0</td>\n",
       "      <td>18.0</td>\n",
       "      <td>0.0</td>\n",
       "      <td>0.0</td>\n",
       "      <td>1.69</td>\n",
       "      <td>Zurich</td>\n",
       "    </tr>\n",
       "    <tr>\n",
       "      <th>342233</th>\n",
       "      <td>4.607863e+07</td>\n",
       "      <td>https://www.airbnb.com/rooms/46078634</td>\n",
       "      <td>Lukas</td>\n",
       "      <td>2020-10-27</td>\n",
       "      <td>Rümlang, Switzerland</td>\n",
       "      <td>within an hour</td>\n",
       "      <td>100%</td>\n",
       "      <td>100%</td>\n",
       "      <td>t</td>\n",
       "      <td>https://a0.muscache.com/im/pictures/user/58d7b...</td>\n",
       "      <td>...</td>\n",
       "      <td>4.95</td>\n",
       "      <td>4.68</td>\n",
       "      <td>4.89</td>\n",
       "      <td>t</td>\n",
       "      <td>10.0</td>\n",
       "      <td>0.0</td>\n",
       "      <td>10.0</td>\n",
       "      <td>0.0</td>\n",
       "      <td>0.83</td>\n",
       "      <td>Zurich</td>\n",
       "    </tr>\n",
       "    <tr>\n",
       "      <th>342234</th>\n",
       "      <td>4.647998e+07</td>\n",
       "      <td>https://www.airbnb.com/rooms/46479980</td>\n",
       "      <td>Lukas</td>\n",
       "      <td>2020-10-27</td>\n",
       "      <td>Rümlang, Switzerland</td>\n",
       "      <td>within an hour</td>\n",
       "      <td>100%</td>\n",
       "      <td>100%</td>\n",
       "      <td>t</td>\n",
       "      <td>https://a0.muscache.com/im/pictures/user/58d7b...</td>\n",
       "      <td>...</td>\n",
       "      <td>4.92</td>\n",
       "      <td>4.92</td>\n",
       "      <td>4.85</td>\n",
       "      <td>t</td>\n",
       "      <td>10.0</td>\n",
       "      <td>0.0</td>\n",
       "      <td>10.0</td>\n",
       "      <td>0.0</td>\n",
       "      <td>0.65</td>\n",
       "      <td>Zurich</td>\n",
       "    </tr>\n",
       "    <tr>\n",
       "      <th>342235</th>\n",
       "      <td>4.672216e+07</td>\n",
       "      <td>https://www.airbnb.com/rooms/46722163</td>\n",
       "      <td>Lukas</td>\n",
       "      <td>2020-10-27</td>\n",
       "      <td>Rümlang, Switzerland</td>\n",
       "      <td>within an hour</td>\n",
       "      <td>100%</td>\n",
       "      <td>100%</td>\n",
       "      <td>t</td>\n",
       "      <td>https://a0.muscache.com/im/pictures/user/58d7b...</td>\n",
       "      <td>...</td>\n",
       "      <td>5.00</td>\n",
       "      <td>5.00</td>\n",
       "      <td>5.00</td>\n",
       "      <td>t</td>\n",
       "      <td>10.0</td>\n",
       "      <td>0.0</td>\n",
       "      <td>10.0</td>\n",
       "      <td>0.0</td>\n",
       "      <td>0.09</td>\n",
       "      <td>Zurich</td>\n",
       "    </tr>\n",
       "  </tbody>\n",
       "</table>\n",
       "<p>342236 rows × 52 columns</p>\n",
       "</div>"
      ],
      "text/plain": [
       "                  id                                      listing_url  \\\n",
       "0       2.818000e+03                https://www.airbnb.com/rooms/2818   \n",
       "1       2.016800e+04               https://www.airbnb.com/rooms/20168   \n",
       "2       2.788600e+04               https://www.airbnb.com/rooms/27886   \n",
       "3       2.887100e+04               https://www.airbnb.com/rooms/28871   \n",
       "4       2.905100e+04               https://www.airbnb.com/rooms/29051   \n",
       "...              ...                                              ...   \n",
       "342231  5.295024e+07            https://www.airbnb.com/rooms/52950237   \n",
       "342232  5.721959e+17  https://www.airbnb.com/rooms/572195881887326595   \n",
       "342233  4.607863e+07            https://www.airbnb.com/rooms/46078634   \n",
       "342234  4.647998e+07            https://www.airbnb.com/rooms/46479980   \n",
       "342235  4.672216e+07            https://www.airbnb.com/rooms/46722163   \n",
       "\n",
       "            host_name  host_since           host_location host_response_time  \\\n",
       "0              Daniel  2008-09-24  Amsterdam, Netherlands     within an hour   \n",
       "1           Alexander  2009-12-02  Amsterdam, Netherlands     within an hour   \n",
       "2                Flip  2010-03-23  Amsterdam, Netherlands     within an hour   \n",
       "3               Edwin  2010-05-13  Amsterdam, Netherlands     within an hour   \n",
       "4               Edwin  2010-05-13  Amsterdam, Netherlands     within an hour   \n",
       "...               ...         ...                     ...                ...   \n",
       "342231           Edit  2021-10-23                     NaN     within an hour   \n",
       "342232  Sinha‘S Swiss  2017-09-22             Switzerland     within an hour   \n",
       "342233          Lukas  2020-10-27    Rümlang, Switzerland     within an hour   \n",
       "342234          Lukas  2020-10-27    Rümlang, Switzerland     within an hour   \n",
       "342235          Lukas  2020-10-27    Rümlang, Switzerland     within an hour   \n",
       "\n",
       "       host_response_rate host_acceptance_rate host_is_superhost  \\\n",
       "0                    100%                 100%                 t   \n",
       "1                    100%                  98%                 f   \n",
       "2                    100%                 100%                 f   \n",
       "3                    100%                 100%                 t   \n",
       "4                    100%                 100%                 t   \n",
       "...                   ...                  ...               ...   \n",
       "342231               100%                  94%                 f   \n",
       "342232               100%                  93%                 f   \n",
       "342233               100%                 100%                 t   \n",
       "342234               100%                 100%                 t   \n",
       "342235               100%                 100%                 t   \n",
       "\n",
       "                                         host_picture_url  ...  \\\n",
       "0       https://a0.muscache.com/im/users/3159/profile_...  ...   \n",
       "1       https://a0.muscache.com/im/pictures/user/65092...  ...   \n",
       "2       https://a0.muscache.com/im/users/97647/profile...  ...   \n",
       "3       https://a0.muscache.com/im/pictures/user/9986b...  ...   \n",
       "4       https://a0.muscache.com/im/pictures/user/9986b...  ...   \n",
       "...                                                   ...  ...   \n",
       "342231  https://a0.muscache.com/im/pictures/user/37293...  ...   \n",
       "342232  https://a0.muscache.com/im/pictures/user/b5578...  ...   \n",
       "342233  https://a0.muscache.com/im/pictures/user/58d7b...  ...   \n",
       "342234  https://a0.muscache.com/im/pictures/user/58d7b...  ...   \n",
       "342235  https://a0.muscache.com/im/pictures/user/58d7b...  ...   \n",
       "\n",
       "       review_scores_communication  review_scores_location  \\\n",
       "0                             4.98                    4.69   \n",
       "1                             4.62                    4.87   \n",
       "2                             4.92                    4.89   \n",
       "3                             4.94                    4.96   \n",
       "4                             4.92                    4.87   \n",
       "...                            ...                     ...   \n",
       "342231                        5.00                    4.80   \n",
       "342232                        4.90                    4.80   \n",
       "342233                        4.95                    4.68   \n",
       "342234                        4.92                    4.92   \n",
       "342235                        5.00                    5.00   \n",
       "\n",
       "        review_scores_value instant_bookable calculated_host_listings_count  \\\n",
       "0                      4.82                t                            1.0   \n",
       "1                      4.49                t                            2.0   \n",
       "2                      4.79                t                            1.0   \n",
       "3                      4.83                f                            2.0   \n",
       "4                      4.77                f                            2.0   \n",
       "...                     ...              ...                            ...   \n",
       "342231                 4.80                t                            1.0   \n",
       "342232                 4.70                t                           18.0   \n",
       "342233                 4.89                t                           10.0   \n",
       "342234                 4.85                t                           10.0   \n",
       "342235                 5.00                t                           10.0   \n",
       "\n",
       "       calculated_host_listings_count_entire_homes  \\\n",
       "0                                              0.0   \n",
       "1                                              0.0   \n",
       "2                                              0.0   \n",
       "3                                              0.0   \n",
       "4                                              0.0   \n",
       "...                                            ...   \n",
       "342231                                         1.0   \n",
       "342232                                        18.0   \n",
       "342233                                         0.0   \n",
       "342234                                         0.0   \n",
       "342235                                         0.0   \n",
       "\n",
       "       calculated_host_listings_count_private_rooms  \\\n",
       "0                                               1.0   \n",
       "1                                               2.0   \n",
       "2                                               1.0   \n",
       "3                                               2.0   \n",
       "4                                               2.0   \n",
       "...                                             ...   \n",
       "342231                                          0.0   \n",
       "342232                                          0.0   \n",
       "342233                                         10.0   \n",
       "342234                                         10.0   \n",
       "342235                                         10.0   \n",
       "\n",
       "       calculated_host_listings_count_shared_rooms  reviews_per_month  \\\n",
       "0                                              0.0               1.86   \n",
       "1                                              0.0               2.22   \n",
       "2                                              0.0               1.78   \n",
       "3                                              0.0               2.92   \n",
       "4                                              0.0               4.16   \n",
       "...                                            ...                ...   \n",
       "342231                                         0.0               0.46   \n",
       "342232                                         0.0               1.69   \n",
       "342233                                         0.0               0.83   \n",
       "342234                                         0.0               0.65   \n",
       "342235                                         0.0               0.09   \n",
       "\n",
       "         location  \n",
       "0       Amsterdam  \n",
       "1       Amsterdam  \n",
       "2       Amsterdam  \n",
       "3       Amsterdam  \n",
       "4       Amsterdam  \n",
       "...           ...  \n",
       "342231     Zurich  \n",
       "342232     Zurich  \n",
       "342233     Zurich  \n",
       "342234     Zurich  \n",
       "342235     Zurich  \n",
       "\n",
       "[342236 rows x 52 columns]"
      ]
     },
     "execution_count": 8,
     "metadata": {},
     "output_type": "execute_result"
    }
   ],
   "source": [
    "#remove all columnns with more than 50% of NaN values \n",
    "all_listing_df_2 = all_listing_df_1.dropna(thresh=0.5*len(all_listing_df_1), axis=1)\n",
    "all_listing_df_2"
   ]
  },
  {
   "cell_type": "code",
   "execution_count": 9,
   "metadata": {},
   "outputs": [
    {
     "name": "stdout",
     "output_type": "stream",
     "text": [
      "the columns removed are ['bathrooms', 'calendar_updated', 'license', 'last_searched', 'requires_license', 'region_id', 'listings.csv']\n"
     ]
    }
   ],
   "source": [
    "removed_columns=[col for col in all_listing_df_1 if col not in all_listing_df_2]\n",
    "\n",
    "print(f'the columns removed are {removed_columns}')"
   ]
  },
  {
   "cell_type": "code",
   "execution_count": 10,
   "metadata": {},
   "outputs": [
    {
     "name": "stdout",
     "output_type": "stream",
     "text": [
      "num of removed rows is 867\n"
     ]
    },
    {
     "data": {
      "text/html": [
       "<div>\n",
       "<style scoped>\n",
       "    .dataframe tbody tr th:only-of-type {\n",
       "        vertical-align: middle;\n",
       "    }\n",
       "\n",
       "    .dataframe tbody tr th {\n",
       "        vertical-align: top;\n",
       "    }\n",
       "\n",
       "    .dataframe thead th {\n",
       "        text-align: right;\n",
       "    }\n",
       "</style>\n",
       "<table border=\"1\" class=\"dataframe\">\n",
       "  <thead>\n",
       "    <tr style=\"text-align: right;\">\n",
       "      <th></th>\n",
       "      <th>id</th>\n",
       "      <th>listing_url</th>\n",
       "      <th>host_name</th>\n",
       "      <th>host_since</th>\n",
       "      <th>host_location</th>\n",
       "      <th>host_response_time</th>\n",
       "      <th>host_response_rate</th>\n",
       "      <th>host_acceptance_rate</th>\n",
       "      <th>host_is_superhost</th>\n",
       "      <th>host_picture_url</th>\n",
       "      <th>...</th>\n",
       "      <th>review_scores_communication</th>\n",
       "      <th>review_scores_location</th>\n",
       "      <th>review_scores_value</th>\n",
       "      <th>instant_bookable</th>\n",
       "      <th>calculated_host_listings_count</th>\n",
       "      <th>calculated_host_listings_count_entire_homes</th>\n",
       "      <th>calculated_host_listings_count_private_rooms</th>\n",
       "      <th>calculated_host_listings_count_shared_rooms</th>\n",
       "      <th>reviews_per_month</th>\n",
       "      <th>location</th>\n",
       "    </tr>\n",
       "  </thead>\n",
       "  <tbody>\n",
       "    <tr>\n",
       "      <th>0</th>\n",
       "      <td>2.818000e+03</td>\n",
       "      <td>https://www.airbnb.com/rooms/2818</td>\n",
       "      <td>Daniel</td>\n",
       "      <td>2008-09-24</td>\n",
       "      <td>Amsterdam, Netherlands</td>\n",
       "      <td>within an hour</td>\n",
       "      <td>100%</td>\n",
       "      <td>100%</td>\n",
       "      <td>t</td>\n",
       "      <td>https://a0.muscache.com/im/users/3159/profile_...</td>\n",
       "      <td>...</td>\n",
       "      <td>4.98</td>\n",
       "      <td>4.69</td>\n",
       "      <td>4.82</td>\n",
       "      <td>t</td>\n",
       "      <td>1.0</td>\n",
       "      <td>0.0</td>\n",
       "      <td>1.0</td>\n",
       "      <td>0.0</td>\n",
       "      <td>1.86</td>\n",
       "      <td>Amsterdam</td>\n",
       "    </tr>\n",
       "    <tr>\n",
       "      <th>1</th>\n",
       "      <td>2.016800e+04</td>\n",
       "      <td>https://www.airbnb.com/rooms/20168</td>\n",
       "      <td>Alexander</td>\n",
       "      <td>2009-12-02</td>\n",
       "      <td>Amsterdam, Netherlands</td>\n",
       "      <td>within an hour</td>\n",
       "      <td>100%</td>\n",
       "      <td>98%</td>\n",
       "      <td>f</td>\n",
       "      <td>https://a0.muscache.com/im/pictures/user/65092...</td>\n",
       "      <td>...</td>\n",
       "      <td>4.62</td>\n",
       "      <td>4.87</td>\n",
       "      <td>4.49</td>\n",
       "      <td>t</td>\n",
       "      <td>2.0</td>\n",
       "      <td>0.0</td>\n",
       "      <td>2.0</td>\n",
       "      <td>0.0</td>\n",
       "      <td>2.22</td>\n",
       "      <td>Amsterdam</td>\n",
       "    </tr>\n",
       "    <tr>\n",
       "      <th>2</th>\n",
       "      <td>2.788600e+04</td>\n",
       "      <td>https://www.airbnb.com/rooms/27886</td>\n",
       "      <td>Flip</td>\n",
       "      <td>2010-03-23</td>\n",
       "      <td>Amsterdam, Netherlands</td>\n",
       "      <td>within an hour</td>\n",
       "      <td>100%</td>\n",
       "      <td>100%</td>\n",
       "      <td>f</td>\n",
       "      <td>https://a0.muscache.com/im/users/97647/profile...</td>\n",
       "      <td>...</td>\n",
       "      <td>4.92</td>\n",
       "      <td>4.89</td>\n",
       "      <td>4.79</td>\n",
       "      <td>t</td>\n",
       "      <td>1.0</td>\n",
       "      <td>0.0</td>\n",
       "      <td>1.0</td>\n",
       "      <td>0.0</td>\n",
       "      <td>1.78</td>\n",
       "      <td>Amsterdam</td>\n",
       "    </tr>\n",
       "    <tr>\n",
       "      <th>3</th>\n",
       "      <td>2.887100e+04</td>\n",
       "      <td>https://www.airbnb.com/rooms/28871</td>\n",
       "      <td>Edwin</td>\n",
       "      <td>2010-05-13</td>\n",
       "      <td>Amsterdam, Netherlands</td>\n",
       "      <td>within an hour</td>\n",
       "      <td>100%</td>\n",
       "      <td>100%</td>\n",
       "      <td>t</td>\n",
       "      <td>https://a0.muscache.com/im/pictures/user/9986b...</td>\n",
       "      <td>...</td>\n",
       "      <td>4.94</td>\n",
       "      <td>4.96</td>\n",
       "      <td>4.83</td>\n",
       "      <td>f</td>\n",
       "      <td>2.0</td>\n",
       "      <td>0.0</td>\n",
       "      <td>2.0</td>\n",
       "      <td>0.0</td>\n",
       "      <td>2.92</td>\n",
       "      <td>Amsterdam</td>\n",
       "    </tr>\n",
       "    <tr>\n",
       "      <th>4</th>\n",
       "      <td>2.905100e+04</td>\n",
       "      <td>https://www.airbnb.com/rooms/29051</td>\n",
       "      <td>Edwin</td>\n",
       "      <td>2010-05-13</td>\n",
       "      <td>Amsterdam, Netherlands</td>\n",
       "      <td>within an hour</td>\n",
       "      <td>100%</td>\n",
       "      <td>100%</td>\n",
       "      <td>t</td>\n",
       "      <td>https://a0.muscache.com/im/pictures/user/9986b...</td>\n",
       "      <td>...</td>\n",
       "      <td>4.92</td>\n",
       "      <td>4.87</td>\n",
       "      <td>4.77</td>\n",
       "      <td>f</td>\n",
       "      <td>2.0</td>\n",
       "      <td>0.0</td>\n",
       "      <td>2.0</td>\n",
       "      <td>0.0</td>\n",
       "      <td>4.16</td>\n",
       "      <td>Amsterdam</td>\n",
       "    </tr>\n",
       "    <tr>\n",
       "      <th>...</th>\n",
       "      <td>...</td>\n",
       "      <td>...</td>\n",
       "      <td>...</td>\n",
       "      <td>...</td>\n",
       "      <td>...</td>\n",
       "      <td>...</td>\n",
       "      <td>...</td>\n",
       "      <td>...</td>\n",
       "      <td>...</td>\n",
       "      <td>...</td>\n",
       "      <td>...</td>\n",
       "      <td>...</td>\n",
       "      <td>...</td>\n",
       "      <td>...</td>\n",
       "      <td>...</td>\n",
       "      <td>...</td>\n",
       "      <td>...</td>\n",
       "      <td>...</td>\n",
       "      <td>...</td>\n",
       "      <td>...</td>\n",
       "      <td>...</td>\n",
       "    </tr>\n",
       "    <tr>\n",
       "      <th>342231</th>\n",
       "      <td>5.295024e+07</td>\n",
       "      <td>https://www.airbnb.com/rooms/52950237</td>\n",
       "      <td>Edit</td>\n",
       "      <td>2021-10-23</td>\n",
       "      <td>NaN</td>\n",
       "      <td>within an hour</td>\n",
       "      <td>100%</td>\n",
       "      <td>94%</td>\n",
       "      <td>f</td>\n",
       "      <td>https://a0.muscache.com/im/pictures/user/37293...</td>\n",
       "      <td>...</td>\n",
       "      <td>5.00</td>\n",
       "      <td>4.80</td>\n",
       "      <td>4.80</td>\n",
       "      <td>t</td>\n",
       "      <td>1.0</td>\n",
       "      <td>1.0</td>\n",
       "      <td>0.0</td>\n",
       "      <td>0.0</td>\n",
       "      <td>0.46</td>\n",
       "      <td>Zurich</td>\n",
       "    </tr>\n",
       "    <tr>\n",
       "      <th>342232</th>\n",
       "      <td>5.721959e+17</td>\n",
       "      <td>https://www.airbnb.com/rooms/572195881887326595</td>\n",
       "      <td>Sinha‘S Swiss</td>\n",
       "      <td>2017-09-22</td>\n",
       "      <td>Switzerland</td>\n",
       "      <td>within an hour</td>\n",
       "      <td>100%</td>\n",
       "      <td>93%</td>\n",
       "      <td>f</td>\n",
       "      <td>https://a0.muscache.com/im/pictures/user/b5578...</td>\n",
       "      <td>...</td>\n",
       "      <td>4.90</td>\n",
       "      <td>4.80</td>\n",
       "      <td>4.70</td>\n",
       "      <td>t</td>\n",
       "      <td>18.0</td>\n",
       "      <td>18.0</td>\n",
       "      <td>0.0</td>\n",
       "      <td>0.0</td>\n",
       "      <td>1.69</td>\n",
       "      <td>Zurich</td>\n",
       "    </tr>\n",
       "    <tr>\n",
       "      <th>342233</th>\n",
       "      <td>4.607863e+07</td>\n",
       "      <td>https://www.airbnb.com/rooms/46078634</td>\n",
       "      <td>Lukas</td>\n",
       "      <td>2020-10-27</td>\n",
       "      <td>Rümlang, Switzerland</td>\n",
       "      <td>within an hour</td>\n",
       "      <td>100%</td>\n",
       "      <td>100%</td>\n",
       "      <td>t</td>\n",
       "      <td>https://a0.muscache.com/im/pictures/user/58d7b...</td>\n",
       "      <td>...</td>\n",
       "      <td>4.95</td>\n",
       "      <td>4.68</td>\n",
       "      <td>4.89</td>\n",
       "      <td>t</td>\n",
       "      <td>10.0</td>\n",
       "      <td>0.0</td>\n",
       "      <td>10.0</td>\n",
       "      <td>0.0</td>\n",
       "      <td>0.83</td>\n",
       "      <td>Zurich</td>\n",
       "    </tr>\n",
       "    <tr>\n",
       "      <th>342234</th>\n",
       "      <td>4.647998e+07</td>\n",
       "      <td>https://www.airbnb.com/rooms/46479980</td>\n",
       "      <td>Lukas</td>\n",
       "      <td>2020-10-27</td>\n",
       "      <td>Rümlang, Switzerland</td>\n",
       "      <td>within an hour</td>\n",
       "      <td>100%</td>\n",
       "      <td>100%</td>\n",
       "      <td>t</td>\n",
       "      <td>https://a0.muscache.com/im/pictures/user/58d7b...</td>\n",
       "      <td>...</td>\n",
       "      <td>4.92</td>\n",
       "      <td>4.92</td>\n",
       "      <td>4.85</td>\n",
       "      <td>t</td>\n",
       "      <td>10.0</td>\n",
       "      <td>0.0</td>\n",
       "      <td>10.0</td>\n",
       "      <td>0.0</td>\n",
       "      <td>0.65</td>\n",
       "      <td>Zurich</td>\n",
       "    </tr>\n",
       "    <tr>\n",
       "      <th>342235</th>\n",
       "      <td>4.672216e+07</td>\n",
       "      <td>https://www.airbnb.com/rooms/46722163</td>\n",
       "      <td>Lukas</td>\n",
       "      <td>2020-10-27</td>\n",
       "      <td>Rümlang, Switzerland</td>\n",
       "      <td>within an hour</td>\n",
       "      <td>100%</td>\n",
       "      <td>100%</td>\n",
       "      <td>t</td>\n",
       "      <td>https://a0.muscache.com/im/pictures/user/58d7b...</td>\n",
       "      <td>...</td>\n",
       "      <td>5.00</td>\n",
       "      <td>5.00</td>\n",
       "      <td>5.00</td>\n",
       "      <td>t</td>\n",
       "      <td>10.0</td>\n",
       "      <td>0.0</td>\n",
       "      <td>10.0</td>\n",
       "      <td>0.0</td>\n",
       "      <td>0.09</td>\n",
       "      <td>Zurich</td>\n",
       "    </tr>\n",
       "  </tbody>\n",
       "</table>\n",
       "<p>341369 rows × 52 columns</p>\n",
       "</div>"
      ],
      "text/plain": [
       "                  id                                      listing_url  \\\n",
       "0       2.818000e+03                https://www.airbnb.com/rooms/2818   \n",
       "1       2.016800e+04               https://www.airbnb.com/rooms/20168   \n",
       "2       2.788600e+04               https://www.airbnb.com/rooms/27886   \n",
       "3       2.887100e+04               https://www.airbnb.com/rooms/28871   \n",
       "4       2.905100e+04               https://www.airbnb.com/rooms/29051   \n",
       "...              ...                                              ...   \n",
       "342231  5.295024e+07            https://www.airbnb.com/rooms/52950237   \n",
       "342232  5.721959e+17  https://www.airbnb.com/rooms/572195881887326595   \n",
       "342233  4.607863e+07            https://www.airbnb.com/rooms/46078634   \n",
       "342234  4.647998e+07            https://www.airbnb.com/rooms/46479980   \n",
       "342235  4.672216e+07            https://www.airbnb.com/rooms/46722163   \n",
       "\n",
       "            host_name  host_since           host_location host_response_time  \\\n",
       "0              Daniel  2008-09-24  Amsterdam, Netherlands     within an hour   \n",
       "1           Alexander  2009-12-02  Amsterdam, Netherlands     within an hour   \n",
       "2                Flip  2010-03-23  Amsterdam, Netherlands     within an hour   \n",
       "3               Edwin  2010-05-13  Amsterdam, Netherlands     within an hour   \n",
       "4               Edwin  2010-05-13  Amsterdam, Netherlands     within an hour   \n",
       "...               ...         ...                     ...                ...   \n",
       "342231           Edit  2021-10-23                     NaN     within an hour   \n",
       "342232  Sinha‘S Swiss  2017-09-22             Switzerland     within an hour   \n",
       "342233          Lukas  2020-10-27    Rümlang, Switzerland     within an hour   \n",
       "342234          Lukas  2020-10-27    Rümlang, Switzerland     within an hour   \n",
       "342235          Lukas  2020-10-27    Rümlang, Switzerland     within an hour   \n",
       "\n",
       "       host_response_rate host_acceptance_rate host_is_superhost  \\\n",
       "0                    100%                 100%                 t   \n",
       "1                    100%                  98%                 f   \n",
       "2                    100%                 100%                 f   \n",
       "3                    100%                 100%                 t   \n",
       "4                    100%                 100%                 t   \n",
       "...                   ...                  ...               ...   \n",
       "342231               100%                  94%                 f   \n",
       "342232               100%                  93%                 f   \n",
       "342233               100%                 100%                 t   \n",
       "342234               100%                 100%                 t   \n",
       "342235               100%                 100%                 t   \n",
       "\n",
       "                                         host_picture_url  ...  \\\n",
       "0       https://a0.muscache.com/im/users/3159/profile_...  ...   \n",
       "1       https://a0.muscache.com/im/pictures/user/65092...  ...   \n",
       "2       https://a0.muscache.com/im/users/97647/profile...  ...   \n",
       "3       https://a0.muscache.com/im/pictures/user/9986b...  ...   \n",
       "4       https://a0.muscache.com/im/pictures/user/9986b...  ...   \n",
       "...                                                   ...  ...   \n",
       "342231  https://a0.muscache.com/im/pictures/user/37293...  ...   \n",
       "342232  https://a0.muscache.com/im/pictures/user/b5578...  ...   \n",
       "342233  https://a0.muscache.com/im/pictures/user/58d7b...  ...   \n",
       "342234  https://a0.muscache.com/im/pictures/user/58d7b...  ...   \n",
       "342235  https://a0.muscache.com/im/pictures/user/58d7b...  ...   \n",
       "\n",
       "       review_scores_communication  review_scores_location  \\\n",
       "0                             4.98                    4.69   \n",
       "1                             4.62                    4.87   \n",
       "2                             4.92                    4.89   \n",
       "3                             4.94                    4.96   \n",
       "4                             4.92                    4.87   \n",
       "...                            ...                     ...   \n",
       "342231                        5.00                    4.80   \n",
       "342232                        4.90                    4.80   \n",
       "342233                        4.95                    4.68   \n",
       "342234                        4.92                    4.92   \n",
       "342235                        5.00                    5.00   \n",
       "\n",
       "        review_scores_value instant_bookable calculated_host_listings_count  \\\n",
       "0                      4.82                t                            1.0   \n",
       "1                      4.49                t                            2.0   \n",
       "2                      4.79                t                            1.0   \n",
       "3                      4.83                f                            2.0   \n",
       "4                      4.77                f                            2.0   \n",
       "...                     ...              ...                            ...   \n",
       "342231                 4.80                t                            1.0   \n",
       "342232                 4.70                t                           18.0   \n",
       "342233                 4.89                t                           10.0   \n",
       "342234                 4.85                t                           10.0   \n",
       "342235                 5.00                t                           10.0   \n",
       "\n",
       "       calculated_host_listings_count_entire_homes  \\\n",
       "0                                              0.0   \n",
       "1                                              0.0   \n",
       "2                                              0.0   \n",
       "3                                              0.0   \n",
       "4                                              0.0   \n",
       "...                                            ...   \n",
       "342231                                         1.0   \n",
       "342232                                        18.0   \n",
       "342233                                         0.0   \n",
       "342234                                         0.0   \n",
       "342235                                         0.0   \n",
       "\n",
       "       calculated_host_listings_count_private_rooms  \\\n",
       "0                                               1.0   \n",
       "1                                               2.0   \n",
       "2                                               1.0   \n",
       "3                                               2.0   \n",
       "4                                               2.0   \n",
       "...                                             ...   \n",
       "342231                                          0.0   \n",
       "342232                                          0.0   \n",
       "342233                                         10.0   \n",
       "342234                                         10.0   \n",
       "342235                                         10.0   \n",
       "\n",
       "       calculated_host_listings_count_shared_rooms  reviews_per_month  \\\n",
       "0                                              0.0               1.86   \n",
       "1                                              0.0               2.22   \n",
       "2                                              0.0               1.78   \n",
       "3                                              0.0               2.92   \n",
       "4                                              0.0               4.16   \n",
       "...                                            ...                ...   \n",
       "342231                                         0.0               0.46   \n",
       "342232                                         0.0               1.69   \n",
       "342233                                         0.0               0.83   \n",
       "342234                                         0.0               0.65   \n",
       "342235                                         0.0               0.09   \n",
       "\n",
       "         location  \n",
       "0       Amsterdam  \n",
       "1       Amsterdam  \n",
       "2       Amsterdam  \n",
       "3       Amsterdam  \n",
       "4       Amsterdam  \n",
       "...           ...  \n",
       "342231     Zurich  \n",
       "342232     Zurich  \n",
       "342233     Zurich  \n",
       "342234     Zurich  \n",
       "342235     Zurich  \n",
       "\n",
       "[341369 rows x 52 columns]"
      ]
     },
     "execution_count": 10,
     "metadata": {},
     "output_type": "execute_result"
    }
   ],
   "source": [
    "#After removing all the columns with more than 50% of NaN values we are now going to look at rows and remove those too\n",
    "threshold = 0.70 \n",
    "all_listing_df_3 = all_listing_df_2.dropna(thresh=float(threshold * len(all_listing_df_2.columns)))\n",
    "removed_rows = len(all_listing_df_2) - len(all_listing_df_3)\n",
    "print(f'num of removed rows is {removed_rows}')\n",
    "\n",
    "all_listing_df_3"
   ]
  },
  {
   "cell_type": "code",
   "execution_count": 11,
   "metadata": {},
   "outputs": [
    {
     "data": {
      "text/plain": [
       "room_type\n",
       "Entire home/apt    243745\n",
       "Private room        90849\n",
       "Shared room          3774\n",
       "Hotel room           3001\n",
       "Name: count, dtype: int64"
      ]
     },
     "execution_count": 11,
     "metadata": {},
     "output_type": "execute_result"
    }
   ],
   "source": [
    "all_listing_df_3[\"room_type\"].value_counts()"
   ]
  },
  {
   "cell_type": "code",
   "execution_count": 12,
   "metadata": {},
   "outputs": [
    {
     "data": {
      "text/plain": [
       "room_type\n",
       "Entire home/apt    243745\n",
       "Private room        90849\n",
       "Shared room          3774\n",
       "Name: count, dtype: int64"
      ]
     },
     "execution_count": 12,
     "metadata": {},
     "output_type": "execute_result"
    }
   ],
   "source": [
    "# remove hotel rooms (!!! add justification)\n",
    "all_listing_df_4 = all_listing_df_3[all_listing_df_3['room_type'] != 'Hotel room']\n",
    "all_listing_df_4[\"room_type\"].value_counts()\n"
   ]
  },
  {
   "cell_type": "code",
   "execution_count": 120,
   "metadata": {},
   "outputs": [
    {
     "data": {
      "text/plain": [
       "property_type\n",
       "Entire rental unit             121698\n",
       "Entire home                     36163\n",
       "Private room in rental unit     34268\n",
       "Entire condo                    33597\n",
       "Private room in home            21332\n",
       "                                ...  \n",
       "Shared room in tower                1\n",
       "Shared room in train                1\n",
       "Private room in ice dome            1\n",
       "Private room in ranch               1\n",
       "Shared room in ice dome             1\n",
       "Name: count, Length: 150, dtype: int64"
      ]
     },
     "execution_count": 120,
     "metadata": {},
     "output_type": "execute_result"
    }
   ],
   "source": [
    "all_listing_df_4[\"property_type\"].value_counts()\n"
   ]
  },
  {
   "cell_type": "markdown",
   "metadata": {},
   "source": [
    "We have excluded certain rows from the dataset as they could potentially distort our analysis that have not many instances on the propety type. For instance, listings labeled as \"Cave\" or \"Private room in ice dome\" are likely to have unique pricing and availability patterns that might introduce bias into our analysis"
   ]
  },
  {
   "cell_type": "code",
   "execution_count": 14,
   "metadata": {},
   "outputs": [],
   "source": [
    "# Calculate the proportion of each property type\n",
    "property_type_counts = all_listing_df_4['property_type'].value_counts(normalize=True)\n",
    "\n",
    "# Set the threshold for the proportion  (0.005)\n",
    "threshold = 0.005\n",
    "\n",
    "# Get property types that meet the threshold\n",
    "selected_property_types = property_type_counts[property_type_counts >= threshold].index\n",
    "\n",
    "# Create all_listing_df_3 by filtering based on selected property types\n",
    "all_listing_df_5 = all_listing_df_4[all_listing_df_4['property_type'].isin(selected_property_types)]"
   ]
  },
  {
   "cell_type": "code",
   "execution_count": 15,
   "metadata": {},
   "outputs": [
    {
     "name": "stderr",
     "output_type": "stream",
     "text": [
      "c:\\Program Files\\Python310\\lib\\site-packages\\scipy\\__init__.py:146: UserWarning: A NumPy version >=1.17.3 and <1.25.0 is required for this version of SciPy (detected version 1.26.1\n",
      "  warnings.warn(f\"A NumPy version >={np_minversion} and <{np_maxversion}\"\n"
     ]
    },
    {
     "data": {
      "image/png": "[encoded data removed]",
      "text/plain": [
       "<Figure size 864x432 with 2 Axes>"
      ]
     },
     "metadata": {
      "needs_background": "light"
     },
     "output_type": "display_data"
    }
   ],
   "source": [
    "import matplotlib.pyplot as plt\n",
    "import seaborn as sns\n",
    "import pandas as pd\n",
    "\n",
    "temp_df_1 = all_listing_df_1.copy()\n",
    "temp_df_5 = all_listing_df_5.copy()\n",
    "\n",
    "# Factorize 'property_type' for temporary DataFrames\n",
    "temp_df_1['property_type'] = pd.factorize(temp_df_1['property_type'])[0]\n",
    "temp_df_5['property_type'] = pd.factorize(temp_df_5['property_type'])[0]\n",
    "\n",
    "plt.figure(figsize=(12, 6))\n",
    "\n",
    "# Plot the histogram of 'property_type' in all_listing_df_1\n",
    "plt.subplot(1, 2, 1)\n",
    "temp_df_1['property_type'].plot(kind='hist', bins=5, edgecolor='black', color='blue')\n",
    "plt.xlabel('Value')\n",
    "plt.ylabel('Frequency')\n",
    "plt.title('Histogram of Values in all_listing_df_1')\n",
    "\n",
    "# Plot the histogram of 'property_type' in all_listing_df_5\n",
    "plt.subplot(1, 2, 2)\n",
    "temp_df_5['property_type'].plot(kind='hist', bins=5, edgecolor='black', color='orange')\n",
    "plt.xlabel('Value')\n",
    "plt.ylabel('Frequency')\n",
    "plt.title('Histogram of Values in all_listing_df_5')\n",
    "\n",
    "# Adjust layout to prevent overlap\n",
    "plt.tight_layout()\n",
    "\n",
    "# Show the plot\n",
    "plt.show()\n"
   ]
  },
  {
   "cell_type": "markdown",
   "metadata": {},
   "source": [
    "We can see that the distribution is heavily skewed in both the distribution and the histograms, so there are many categories that occur quite rarely. Thus, we can filter to keep the categories that capture 99.5% of the variation in property type"
   ]
  },
  {
   "cell_type": "code",
   "execution_count": 122,
   "metadata": {},
   "outputs": [
    {
     "name": "stdout",
     "output_type": "stream",
     "text": [
      "20 out of 150 property types are greater than 0.005\n",
      "Number of rows removed: 20343\n",
      "the property types remaining are: \n",
      " ['Private room in rental unit' 'Private room in townhouse'\n",
      " 'Entire rental unit' 'Entire guest suite'\n",
      " 'Private room in bed and breakfast' 'Entire loft' 'Private room in home'\n",
      " 'Entire guesthouse' 'Entire townhouse' 'Room in boutique hotel'\n",
      " 'Entire condo' 'Private room in guest suite' 'Entire home'\n",
      " 'Private room in condo' 'Entire villa' 'Entire serviced apartment'\n",
      " 'Room in hotel' 'Entire cottage' 'Entire vacation home' 'Entire bungalow']\n"
     ]
    }
   ],
   "source": [
    "print(f\"{len(all_listing_df_5['property_type'].unique())} out of {len(all_listing_df_4['property_type'].unique())} property types are greater than {threshold}\")\n",
    "\n",
    "rows_removed = len(all_listing_df_4) - len(all_listing_df_5)\n",
    "print(f\"Number of rows removed: {rows_removed}\")\n",
    "print(f\"the property types remaining are: \\n {all_listing_df_5['property_type'].unique()}\")\n"
   ]
  },
  {
   "cell_type": "code",
   "execution_count": 124,
   "metadata": {},
   "outputs": [
    {
     "data": {
      "text/plain": [
       "room_type\n",
       "Entire home/apt    237997\n",
       "Private room        80028\n",
       "Name: count, dtype: int64"
      ]
     },
     "execution_count": 124,
     "metadata": {},
     "output_type": "execute_result"
    }
   ],
   "source": [
    "all_listing_df_5[\"room_type\"].value_counts()"
   ]
  },
  {
   "cell_type": "markdown",
   "metadata": {},
   "source": [
    "### Dealing with the property type\n",
    "\n",
    "Since there are over 150 unique property types in the dataframe (but we think the type of listing will still be important for avaliability prediction), we want to try and reduce the number of categories for this variable"
   ]
  },
  {
   "cell_type": "code",
   "execution_count": 30,
   "metadata": {},
   "outputs": [
    {
     "data": {
      "text/plain": [
       "array(['Private room in rental unit', 'Private room in townhouse',\n",
       "       'Private room in houseboat', 'Entire rental unit',\n",
       "       'Entire guest suite', 'Private room in bed and breakfast',\n",
       "       'Entire loft', 'Private room in home', 'Entire guesthouse',\n",
       "       'Private room in boat', 'Entire townhouse',\n",
       "       'Room in boutique hotel', 'Entire condo', 'Private room in loft',\n",
       "       'Private room in guest suite', 'Entire home', 'Boat',\n",
       "       'Private room in farm stay', 'Houseboat',\n",
       "       'Room in bed and breakfast', 'Private room in condo',\n",
       "       'Entire chalet', 'Private room in guesthouse',\n",
       "       'Shared room in rental unit', 'Shared room in home',\n",
       "       'Private room in island', 'Entire villa', 'Private room in villa',\n",
       "       'Private room in tiny home', 'Private room in casa particular',\n",
       "       'Entire serviced apartment', 'Barn', 'Private room in bungalow',\n",
       "       'Entire cabin', 'Room in hotel', 'Entire place',\n",
       "       'Private room in serviced apartment', 'Room in aparthotel',\n",
       "       'Tiny home', 'Private room in cabin', 'Entire cottage',\n",
       "       'Private room', 'Private room in nature lodge',\n",
       "       'Room in serviced apartment', 'Tower', 'Room in casa particular',\n",
       "       'Shared room in houseboat', 'Room in hostel',\n",
       "       'Shared room in hostel', 'Private room in hostel', 'Camper/RV',\n",
       "       'Shared room in boat', 'Cave', 'Private room in earthen home',\n",
       "       'Entire home/apt', 'Shared room in bed and breakfast',\n",
       "       'Entire vacation home', 'Yurt', 'Farm stay', 'Entire bungalow',\n",
       "       'Windmill', 'Tent', 'Private room in floor',\n",
       "       'Private room in vacation home', 'Shared room in loft',\n",
       "       'Private room in chalet', 'Shared room in guesthouse',\n",
       "       'Shared room in floor', 'Shared room in guest suite',\n",
       "       'Shared room in condo', 'Private room in dome',\n",
       "       'Shared room in tower', 'Casa particular',\n",
       "       'Shared room in boutique hotel', 'Shared room in villa',\n",
       "       'Shared room', 'Private room in cottage', 'Shared room in train',\n",
       "       'Shared room in casa particular', 'Religious building',\n",
       "       'Shared room in farm stay', 'Floor', 'Shared room in tent',\n",
       "       'Private room in camper/rv', 'Shared room in resort',\n",
       "       'Private room in hut', 'Private room in tipi',\n",
       "       'Shared room in serviced apartment', 'Private room in castle',\n",
       "       'Private room in pension', 'Campsite', 'Dome', 'Treehouse', 'Hut',\n",
       "       'Private room in tent', 'Castle',\n",
       "       'Private room in religious building', 'Bus', 'Island',\n",
       "       'Lighthouse', 'Earthen home', 'Private room in yurt',\n",
       "       'Entire bed and breakfast', 'Private room in barn',\n",
       "       'Shared room in bungalow', 'Tipi', 'Private room in train',\n",
       "       'Ice dome', \"Private room in shepherd's hut\", 'Shepherd’s hut',\n",
       "       'Private room in treehouse', 'Private room in bus',\n",
       "       'Room in nature lodge', 'Train', 'Shared room in townhouse',\n",
       "       'Ranch', 'Private room in holiday park', 'Shipping container',\n",
       "       'Private room in resort', 'Entire hostel', 'Shared room in hotel',\n",
       "       'Shared room in vacation home', 'Shared room in tiny home',\n",
       "       'Shared room in cabin', 'Shared room in camper/rv',\n",
       "       'Shared room in earthen home', 'Private room in minsu',\n",
       "       'Shared room in dome', 'Shared room in cottage', 'Entire resort',\n",
       "       'Private room in ranch', 'Room in resort', 'Shared room in hut',\n",
       "       'Private room in ice dome', 'Shared room in chalet',\n",
       "       'Private room in ryokan', 'Private room in cave', nan,\n",
       "       'Shared room in ice dome', 'Room in heritage hotel', 'Trullo',\n",
       "       'Private room in cycladic house', 'Shared room in pension',\n",
       "       'Private room in dorm', 'Shared room in dorm', 'Entire in-law',\n",
       "       'Holiday park', 'Private room in shipping container',\n",
       "       'Private room in lighthouse', 'Dammuso',\n",
       "       'Shared room in aparthotel', 'Shared room in island',\n",
       "       'Cycladic home', 'Room in ryokan', 'Shared room in ryokan',\n",
       "       'Room in rental unit', 'Shared room in parking space',\n",
       "       'Shared room in barn', 'Entire timeshare'], dtype=object)"
      ]
     },
     "execution_count": 30,
     "metadata": {},
     "output_type": "execute_result"
    }
   ],
   "source": [
    "all_listing_df['property_type'].unique()"
   ]
  },
  {
   "cell_type": "code",
   "execution_count": 126,
   "metadata": {},
   "outputs": [
    {
     "data": {
      "text/html": [
       "<div>\n",
       "<style scoped>\n",
       "    .dataframe tbody tr th:only-of-type {\n",
       "        vertical-align: middle;\n",
       "    }\n",
       "\n",
       "    .dataframe tbody tr th {\n",
       "        vertical-align: top;\n",
       "    }\n",
       "\n",
       "    .dataframe thead th {\n",
       "        text-align: right;\n",
       "    }\n",
       "</style>\n",
       "<table border=\"1\" class=\"dataframe\">\n",
       "  <thead>\n",
       "    <tr style=\"text-align: right;\">\n",
       "      <th></th>\n",
       "      <th>id</th>\n",
       "      <th>listing_url</th>\n",
       "      <th>host_name</th>\n",
       "      <th>host_since</th>\n",
       "      <th>host_location</th>\n",
       "      <th>host_response_time</th>\n",
       "      <th>host_response_rate</th>\n",
       "      <th>host_acceptance_rate</th>\n",
       "      <th>host_is_superhost</th>\n",
       "      <th>host_picture_url</th>\n",
       "      <th>...</th>\n",
       "      <th>review_scores_communication</th>\n",
       "      <th>review_scores_location</th>\n",
       "      <th>review_scores_value</th>\n",
       "      <th>instant_bookable</th>\n",
       "      <th>calculated_host_listings_count</th>\n",
       "      <th>calculated_host_listings_count_entire_homes</th>\n",
       "      <th>calculated_host_listings_count_private_rooms</th>\n",
       "      <th>calculated_host_listings_count_shared_rooms</th>\n",
       "      <th>reviews_per_month</th>\n",
       "      <th>location</th>\n",
       "    </tr>\n",
       "  </thead>\n",
       "  <tbody>\n",
       "    <tr>\n",
       "      <th>0</th>\n",
       "      <td>2.818000e+03</td>\n",
       "      <td>https://www.airbnb.com/rooms/2818</td>\n",
       "      <td>Daniel</td>\n",
       "      <td>2008-09-24</td>\n",
       "      <td>Amsterdam, Netherlands</td>\n",
       "      <td>within an hour</td>\n",
       "      <td>100%</td>\n",
       "      <td>100%</td>\n",
       "      <td>t</td>\n",
       "      <td>https://a0.muscache.com/im/users/3159/profile_...</td>\n",
       "      <td>...</td>\n",
       "      <td>4.98</td>\n",
       "      <td>4.69</td>\n",
       "      <td>4.82</td>\n",
       "      <td>t</td>\n",
       "      <td>1.0</td>\n",
       "      <td>0.0</td>\n",
       "      <td>1.0</td>\n",
       "      <td>0.0</td>\n",
       "      <td>1.86</td>\n",
       "      <td>Amsterdam</td>\n",
       "    </tr>\n",
       "    <tr>\n",
       "      <th>1</th>\n",
       "      <td>2.016800e+04</td>\n",
       "      <td>https://www.airbnb.com/rooms/20168</td>\n",
       "      <td>Alexander</td>\n",
       "      <td>2009-12-02</td>\n",
       "      <td>Amsterdam, Netherlands</td>\n",
       "      <td>within an hour</td>\n",
       "      <td>100%</td>\n",
       "      <td>98%</td>\n",
       "      <td>f</td>\n",
       "      <td>https://a0.muscache.com/im/pictures/user/65092...</td>\n",
       "      <td>...</td>\n",
       "      <td>4.62</td>\n",
       "      <td>4.87</td>\n",
       "      <td>4.49</td>\n",
       "      <td>t</td>\n",
       "      <td>2.0</td>\n",
       "      <td>0.0</td>\n",
       "      <td>2.0</td>\n",
       "      <td>0.0</td>\n",
       "      <td>2.22</td>\n",
       "      <td>Amsterdam</td>\n",
       "    </tr>\n",
       "    <tr>\n",
       "      <th>3</th>\n",
       "      <td>2.887100e+04</td>\n",
       "      <td>https://www.airbnb.com/rooms/28871</td>\n",
       "      <td>Edwin</td>\n",
       "      <td>2010-05-13</td>\n",
       "      <td>Amsterdam, Netherlands</td>\n",
       "      <td>within an hour</td>\n",
       "      <td>100%</td>\n",
       "      <td>100%</td>\n",
       "      <td>t</td>\n",
       "      <td>https://a0.muscache.com/im/pictures/user/9986b...</td>\n",
       "      <td>...</td>\n",
       "      <td>4.94</td>\n",
       "      <td>4.96</td>\n",
       "      <td>4.83</td>\n",
       "      <td>f</td>\n",
       "      <td>2.0</td>\n",
       "      <td>0.0</td>\n",
       "      <td>2.0</td>\n",
       "      <td>0.0</td>\n",
       "      <td>2.92</td>\n",
       "      <td>Amsterdam</td>\n",
       "    </tr>\n",
       "    <tr>\n",
       "      <th>4</th>\n",
       "      <td>2.905100e+04</td>\n",
       "      <td>https://www.airbnb.com/rooms/29051</td>\n",
       "      <td>Edwin</td>\n",
       "      <td>2010-05-13</td>\n",
       "      <td>Amsterdam, Netherlands</td>\n",
       "      <td>within an hour</td>\n",
       "      <td>100%</td>\n",
       "      <td>100%</td>\n",
       "      <td>t</td>\n",
       "      <td>https://a0.muscache.com/im/pictures/user/9986b...</td>\n",
       "      <td>...</td>\n",
       "      <td>4.92</td>\n",
       "      <td>4.87</td>\n",
       "      <td>4.77</td>\n",
       "      <td>f</td>\n",
       "      <td>2.0</td>\n",
       "      <td>0.0</td>\n",
       "      <td>2.0</td>\n",
       "      <td>0.0</td>\n",
       "      <td>4.16</td>\n",
       "      <td>Amsterdam</td>\n",
       "    </tr>\n",
       "    <tr>\n",
       "      <th>5</th>\n",
       "      <td>4.439100e+04</td>\n",
       "      <td>https://www.airbnb.com/rooms/44391</td>\n",
       "      <td>Jan</td>\n",
       "      <td>2010-08-08</td>\n",
       "      <td>Amsterdam, Netherlands</td>\n",
       "      <td>within an hour</td>\n",
       "      <td>100%</td>\n",
       "      <td>100%</td>\n",
       "      <td>f</td>\n",
       "      <td>https://a0.muscache.com/im/users/194779/profil...</td>\n",
       "      <td>...</td>\n",
       "      <td>4.90</td>\n",
       "      <td>4.68</td>\n",
       "      <td>4.50</td>\n",
       "      <td>f</td>\n",
       "      <td>1.0</td>\n",
       "      <td>1.0</td>\n",
       "      <td>0.0</td>\n",
       "      <td>0.0</td>\n",
       "      <td>0.30</td>\n",
       "      <td>Amsterdam</td>\n",
       "    </tr>\n",
       "    <tr>\n",
       "      <th>...</th>\n",
       "      <td>...</td>\n",
       "      <td>...</td>\n",
       "      <td>...</td>\n",
       "      <td>...</td>\n",
       "      <td>...</td>\n",
       "      <td>...</td>\n",
       "      <td>...</td>\n",
       "      <td>...</td>\n",
       "      <td>...</td>\n",
       "      <td>...</td>\n",
       "      <td>...</td>\n",
       "      <td>...</td>\n",
       "      <td>...</td>\n",
       "      <td>...</td>\n",
       "      <td>...</td>\n",
       "      <td>...</td>\n",
       "      <td>...</td>\n",
       "      <td>...</td>\n",
       "      <td>...</td>\n",
       "      <td>...</td>\n",
       "      <td>...</td>\n",
       "    </tr>\n",
       "    <tr>\n",
       "      <th>342231</th>\n",
       "      <td>5.295024e+07</td>\n",
       "      <td>https://www.airbnb.com/rooms/52950237</td>\n",
       "      <td>Edit</td>\n",
       "      <td>2021-10-23</td>\n",
       "      <td>NaN</td>\n",
       "      <td>within an hour</td>\n",
       "      <td>100%</td>\n",
       "      <td>94%</td>\n",
       "      <td>f</td>\n",
       "      <td>https://a0.muscache.com/im/pictures/user/37293...</td>\n",
       "      <td>...</td>\n",
       "      <td>5.00</td>\n",
       "      <td>4.80</td>\n",
       "      <td>4.80</td>\n",
       "      <td>t</td>\n",
       "      <td>1.0</td>\n",
       "      <td>1.0</td>\n",
       "      <td>0.0</td>\n",
       "      <td>0.0</td>\n",
       "      <td>0.46</td>\n",
       "      <td>Zurich</td>\n",
       "    </tr>\n",
       "    <tr>\n",
       "      <th>342232</th>\n",
       "      <td>5.721959e+17</td>\n",
       "      <td>https://www.airbnb.com/rooms/572195881887326595</td>\n",
       "      <td>Sinha‘S Swiss</td>\n",
       "      <td>2017-09-22</td>\n",
       "      <td>Switzerland</td>\n",
       "      <td>within an hour</td>\n",
       "      <td>100%</td>\n",
       "      <td>93%</td>\n",
       "      <td>f</td>\n",
       "      <td>https://a0.muscache.com/im/pictures/user/b5578...</td>\n",
       "      <td>...</td>\n",
       "      <td>4.90</td>\n",
       "      <td>4.80</td>\n",
       "      <td>4.70</td>\n",
       "      <td>t</td>\n",
       "      <td>18.0</td>\n",
       "      <td>18.0</td>\n",
       "      <td>0.0</td>\n",
       "      <td>0.0</td>\n",
       "      <td>1.69</td>\n",
       "      <td>Zurich</td>\n",
       "    </tr>\n",
       "    <tr>\n",
       "      <th>342233</th>\n",
       "      <td>4.607863e+07</td>\n",
       "      <td>https://www.airbnb.com/rooms/46078634</td>\n",
       "      <td>Lukas</td>\n",
       "      <td>2020-10-27</td>\n",
       "      <td>Rümlang, Switzerland</td>\n",
       "      <td>within an hour</td>\n",
       "      <td>100%</td>\n",
       "      <td>100%</td>\n",
       "      <td>t</td>\n",
       "      <td>https://a0.muscache.com/im/pictures/user/58d7b...</td>\n",
       "      <td>...</td>\n",
       "      <td>4.95</td>\n",
       "      <td>4.68</td>\n",
       "      <td>4.89</td>\n",
       "      <td>t</td>\n",
       "      <td>10.0</td>\n",
       "      <td>0.0</td>\n",
       "      <td>10.0</td>\n",
       "      <td>0.0</td>\n",
       "      <td>0.83</td>\n",
       "      <td>Zurich</td>\n",
       "    </tr>\n",
       "    <tr>\n",
       "      <th>342234</th>\n",
       "      <td>4.647998e+07</td>\n",
       "      <td>https://www.airbnb.com/rooms/46479980</td>\n",
       "      <td>Lukas</td>\n",
       "      <td>2020-10-27</td>\n",
       "      <td>Rümlang, Switzerland</td>\n",
       "      <td>within an hour</td>\n",
       "      <td>100%</td>\n",
       "      <td>100%</td>\n",
       "      <td>t</td>\n",
       "      <td>https://a0.muscache.com/im/pictures/user/58d7b...</td>\n",
       "      <td>...</td>\n",
       "      <td>4.92</td>\n",
       "      <td>4.92</td>\n",
       "      <td>4.85</td>\n",
       "      <td>t</td>\n",
       "      <td>10.0</td>\n",
       "      <td>0.0</td>\n",
       "      <td>10.0</td>\n",
       "      <td>0.0</td>\n",
       "      <td>0.65</td>\n",
       "      <td>Zurich</td>\n",
       "    </tr>\n",
       "    <tr>\n",
       "      <th>342235</th>\n",
       "      <td>4.672216e+07</td>\n",
       "      <td>https://www.airbnb.com/rooms/46722163</td>\n",
       "      <td>Lukas</td>\n",
       "      <td>2020-10-27</td>\n",
       "      <td>Rümlang, Switzerland</td>\n",
       "      <td>within an hour</td>\n",
       "      <td>100%</td>\n",
       "      <td>100%</td>\n",
       "      <td>t</td>\n",
       "      <td>https://a0.muscache.com/im/pictures/user/58d7b...</td>\n",
       "      <td>...</td>\n",
       "      <td>5.00</td>\n",
       "      <td>5.00</td>\n",
       "      <td>5.00</td>\n",
       "      <td>t</td>\n",
       "      <td>10.0</td>\n",
       "      <td>0.0</td>\n",
       "      <td>10.0</td>\n",
       "      <td>0.0</td>\n",
       "      <td>0.09</td>\n",
       "      <td>Zurich</td>\n",
       "    </tr>\n",
       "  </tbody>\n",
       "</table>\n",
       "<p>318025 rows × 52 columns</p>\n",
       "</div>"
      ],
      "text/plain": [
       "                  id                                      listing_url  \\\n",
       "0       2.818000e+03                https://www.airbnb.com/rooms/2818   \n",
       "1       2.016800e+04               https://www.airbnb.com/rooms/20168   \n",
       "3       2.887100e+04               https://www.airbnb.com/rooms/28871   \n",
       "4       2.905100e+04               https://www.airbnb.com/rooms/29051   \n",
       "5       4.439100e+04               https://www.airbnb.com/rooms/44391   \n",
       "...              ...                                              ...   \n",
       "342231  5.295024e+07            https://www.airbnb.com/rooms/52950237   \n",
       "342232  5.721959e+17  https://www.airbnb.com/rooms/572195881887326595   \n",
       "342233  4.607863e+07            https://www.airbnb.com/rooms/46078634   \n",
       "342234  4.647998e+07            https://www.airbnb.com/rooms/46479980   \n",
       "342235  4.672216e+07            https://www.airbnb.com/rooms/46722163   \n",
       "\n",
       "            host_name  host_since           host_location host_response_time  \\\n",
       "0              Daniel  2008-09-24  Amsterdam, Netherlands     within an hour   \n",
       "1           Alexander  2009-12-02  Amsterdam, Netherlands     within an hour   \n",
       "3               Edwin  2010-05-13  Amsterdam, Netherlands     within an hour   \n",
       "4               Edwin  2010-05-13  Amsterdam, Netherlands     within an hour   \n",
       "5                 Jan  2010-08-08  Amsterdam, Netherlands     within an hour   \n",
       "...               ...         ...                     ...                ...   \n",
       "342231           Edit  2021-10-23                     NaN     within an hour   \n",
       "342232  Sinha‘S Swiss  2017-09-22             Switzerland     within an hour   \n",
       "342233          Lukas  2020-10-27    Rümlang, Switzerland     within an hour   \n",
       "342234          Lukas  2020-10-27    Rümlang, Switzerland     within an hour   \n",
       "342235          Lukas  2020-10-27    Rümlang, Switzerland     within an hour   \n",
       "\n",
       "       host_response_rate host_acceptance_rate host_is_superhost  \\\n",
       "0                    100%                 100%                 t   \n",
       "1                    100%                  98%                 f   \n",
       "3                    100%                 100%                 t   \n",
       "4                    100%                 100%                 t   \n",
       "5                    100%                 100%                 f   \n",
       "...                   ...                  ...               ...   \n",
       "342231               100%                  94%                 f   \n",
       "342232               100%                  93%                 f   \n",
       "342233               100%                 100%                 t   \n",
       "342234               100%                 100%                 t   \n",
       "342235               100%                 100%                 t   \n",
       "\n",
       "                                         host_picture_url  ...  \\\n",
       "0       https://a0.muscache.com/im/users/3159/profile_...  ...   \n",
       "1       https://a0.muscache.com/im/pictures/user/65092...  ...   \n",
       "3       https://a0.muscache.com/im/pictures/user/9986b...  ...   \n",
       "4       https://a0.muscache.com/im/pictures/user/9986b...  ...   \n",
       "5       https://a0.muscache.com/im/users/194779/profil...  ...   \n",
       "...                                                   ...  ...   \n",
       "342231  https://a0.muscache.com/im/pictures/user/37293...  ...   \n",
       "342232  https://a0.muscache.com/im/pictures/user/b5578...  ...   \n",
       "342233  https://a0.muscache.com/im/pictures/user/58d7b...  ...   \n",
       "342234  https://a0.muscache.com/im/pictures/user/58d7b...  ...   \n",
       "342235  https://a0.muscache.com/im/pictures/user/58d7b...  ...   \n",
       "\n",
       "       review_scores_communication  review_scores_location  \\\n",
       "0                             4.98                    4.69   \n",
       "1                             4.62                    4.87   \n",
       "3                             4.94                    4.96   \n",
       "4                             4.92                    4.87   \n",
       "5                             4.90                    4.68   \n",
       "...                            ...                     ...   \n",
       "342231                        5.00                    4.80   \n",
       "342232                        4.90                    4.80   \n",
       "342233                        4.95                    4.68   \n",
       "342234                        4.92                    4.92   \n",
       "342235                        5.00                    5.00   \n",
       "\n",
       "        review_scores_value instant_bookable calculated_host_listings_count  \\\n",
       "0                      4.82                t                            1.0   \n",
       "1                      4.49                t                            2.0   \n",
       "3                      4.83                f                            2.0   \n",
       "4                      4.77                f                            2.0   \n",
       "5                      4.50                f                            1.0   \n",
       "...                     ...              ...                            ...   \n",
       "342231                 4.80                t                            1.0   \n",
       "342232                 4.70                t                           18.0   \n",
       "342233                 4.89                t                           10.0   \n",
       "342234                 4.85                t                           10.0   \n",
       "342235                 5.00                t                           10.0   \n",
       "\n",
       "       calculated_host_listings_count_entire_homes  \\\n",
       "0                                              0.0   \n",
       "1                                              0.0   \n",
       "3                                              0.0   \n",
       "4                                              0.0   \n",
       "5                                              1.0   \n",
       "...                                            ...   \n",
       "342231                                         1.0   \n",
       "342232                                        18.0   \n",
       "342233                                         0.0   \n",
       "342234                                         0.0   \n",
       "342235                                         0.0   \n",
       "\n",
       "       calculated_host_listings_count_private_rooms  \\\n",
       "0                                               1.0   \n",
       "1                                               2.0   \n",
       "3                                               2.0   \n",
       "4                                               2.0   \n",
       "5                                               0.0   \n",
       "...                                             ...   \n",
       "342231                                          0.0   \n",
       "342232                                          0.0   \n",
       "342233                                         10.0   \n",
       "342234                                         10.0   \n",
       "342235                                         10.0   \n",
       "\n",
       "       calculated_host_listings_count_shared_rooms  reviews_per_month  \\\n",
       "0                                              0.0               1.86   \n",
       "1                                              0.0               2.22   \n",
       "3                                              0.0               2.92   \n",
       "4                                              0.0               4.16   \n",
       "5                                              0.0               0.30   \n",
       "...                                            ...                ...   \n",
       "342231                                         0.0               0.46   \n",
       "342232                                         0.0               1.69   \n",
       "342233                                         0.0               0.83   \n",
       "342234                                         0.0               0.65   \n",
       "342235                                         0.0               0.09   \n",
       "\n",
       "         location  \n",
       "0       Amsterdam  \n",
       "1       Amsterdam  \n",
       "3       Amsterdam  \n",
       "4       Amsterdam  \n",
       "5       Amsterdam  \n",
       "...           ...  \n",
       "342231     Zurich  \n",
       "342232     Zurich  \n",
       "342233     Zurich  \n",
       "342234     Zurich  \n",
       "342235     Zurich  \n",
       "\n",
       "[318025 rows x 52 columns]"
      ]
     },
     "execution_count": 126,
     "metadata": {},
     "output_type": "execute_result"
    }
   ],
   "source": [
    "all_listing_df_5"
   ]
  },
  {
   "cell_type": "code",
   "execution_count": 20,
   "metadata": {},
   "outputs": [
    {
     "data": {
      "text/plain": [
       "\"\\n\\nTarget:  For our machine learning project, we want to try and predict a Airbnb's avaliability for a given month using listing data.\\n\\n\\nPart 1: \\n\\nTO DO FOR DATA CHECKING + VERIFICATION:\\n- remove columns that have significant amount of NAN calues\\n- check that there is no property with number of available days > number of days in each  month \\n- Check avalibalities (outcome variable) and make sure it is evenly distributed/ resample if needed \\n\\n\\nTO DO FOR CONSISTENCY ANALYSIS:\\n- change dataframe to calculate avalaibilty per month and per location \\n- plot average days avaliable for each city\\n- decide how to allocate consistent vs inconsistent cittes\\n\\n\\nPart 2:\\n\\nRUN MODELS: \\n\\nBuilt and Run and test 2 models to try and predict monthly avaliabiltiy \\n\\nModel options: NN, linear regression \\n\\n\\n\""
      ]
     },
     "execution_count": 20,
     "metadata": {},
     "output_type": "execute_result"
    }
   ],
   "source": [
    "####################### DO ALL OF THE DATA VERIFICATION STUFF HERE ###############################\n",
    "\n",
    "'''\n",
    "\n",
    "Target:  For our machine learning project, we want to try and predict a Airbnb's avaliability for a given month using listing data.\n",
    "\n",
    "\n",
    "Part 1: \n",
    "\n",
    "TO DO FOR DATA CHECKING + VERIFICATION:\n",
    "- remove columns that have significant amount of NAN calues\n",
    "- check that there is no property with number of available days > number of days in each  month \n",
    "- Check avalibalities (outcome variable) and make sure it is evenly distributed/ resample if needed \n",
    "\n",
    "\n",
    "TO DO FOR CONSISTENCY ANALYSIS:\n",
    "- change dataframe to calculate avalaibilty per month and per location \n",
    "- plot average days avaliable for each city\n",
    "- decide how to allocate consistent vs inconsistent cittes\n",
    "\n",
    "\n",
    "Part 2:\n",
    "\n",
    "RUN MODELS: \n",
    "\n",
    "Built and Run and test 2 models to try and predict monthly avaliabiltiy \n",
    "\n",
    "Model options: NN, linear regression \n",
    "\n",
    "\n",
    "'''\n",
    "\n",
    "\n",
    "\n",
    "#the stuff below is to get the data needed to train the model once the dfs have been cleaned up"
   ]
  },
  {
   "cell_type": "markdown",
   "metadata": {},
   "source": [
    "## Consistency Analysis"
   ]
  },
  {
   "cell_type": "markdown",
   "metadata": {},
   "source": [
    "### Creating dataset for average avaliability of listings per month per city"
   ]
  },
  {
   "cell_type": "code",
   "execution_count": 127,
   "metadata": {},
   "outputs": [],
   "source": [
    "\n",
    "## add code that checks for the id \n",
    "\n",
    "def load_rental_data(city_name):\n",
    "    \"\"\"\n",
    "    Load rental data for a specific city from a subdirectory.\n",
    "    \n",
    "    Parameters:\n",
    "    - city_name (str): The name of the city.\n",
    "\n",
    "    Returns:\n",
    "    - pd.DataFrame: The loaded DataFrame.\n",
    "    \"\"\"\n",
    "    # Construct the directory path based on the city name\n",
    "    directory_path = f\"home_rentals/{city_name}\"\n",
    "    \n",
    "    # Assuming the file is named 'calendar.csv.gz'\n",
    "    file_path = f\"{directory_path}/calendar.csv.gz\"\n",
    "    \n",
    "    try:\n",
    "        # Load the DataFrame from the specified file\n",
    "        df = pd.read_csv(file_path, compression='gzip')\n",
    "        \n",
    "        # You can perform additional processing on the DataFrame if needed\n",
    "        \n",
    "        # Return the loaded DataFrame\n",
    "        return df\n",
    "    except FileNotFoundError:\n",
    "        # Handle the case where the file is not found\n",
    "        print(f\"Data not found for {city_name}. Check the directory path and file name.\")\n",
    "        return None\n",
    "    \n",
    "\n",
    "def filter_ids(df1, df2):\n",
    "    \"\"\"\n",
    "    Filter out ID values in df1 that are not available in df2.\n",
    "\n",
    "    Parameters:\n",
    "    - df1 (pd.DataFrame): The first DataFrame.\n",
    "    - df2 (pd.DataFrame): The second DataFrame.\n",
    "    - id_column (str): The column containing the ID values.\n",
    "\n",
    "    Returns:\n",
    "    - pd.DataFrame: The filtered DataFrame.\n",
    "    \"\"\"\n",
    "    id_column = \"id\"\n",
    "    filtered_df = df1[df1[\"listing_id\"].isin(df2[\"id\"])]\n",
    "    return filtered_df\n",
    "\n",
    "\n",
    "\n",
    "def averageavaliability(city, latest_df):\n",
    "\n",
    "    cityname = city\n",
    "    citydata = load_rental_data(cityname) \n",
    "\n",
    "    #filter our ID's that are NOT present in our cleaned all_listings \n",
    "\n",
    "    filtered_citydata = filter_ids(citydata, latest_df)\n",
    "    \n",
    "    filtered_citydata[\"date\"] = pd.to_datetime(filtered_citydata[\"date\"])\n",
    "    filtered_citydata[\"month\"] = filtered_citydata[\"date\"].dt.month\n",
    "    filtered_citydata[\"year\"] = filtered_citydata[\"date\"].dt.year\n",
    "    filtered_citydata['month_year'] = filtered_citydata['month'].astype(str) + '-' + filtered_citydata['year'].astype(str)\n",
    "\n",
    "    # make a new data frame\n",
    "    ave_month = (filtered_citydata[filtered_citydata['available'] == 't'].groupby(['listing_id', 'month_year']).size().unstack(fill_value=0).stack().reset_index(name='days_available'))\n",
    "    \n",
    "    # Calculate the average days_available for each month_year (making sure that it rounds to full numbers)\n",
    "    ave_month = (ave_month.groupby('month_year')['days_available'].mean().round(0).reset_index(name='average_days_available'))\n",
    "    # convert the month_year column to datetime format \n",
    "    ave_month['month_year'] = pd.to_datetime(ave_month['month_year'], format='%m-%Y').dt.to_period('M')\n",
    "\n",
    "    # sort the rows by ascending dates\n",
    "    ave_month = ave_month.sort_values('month_year')\n",
    "\n",
    "    # reset the row index\n",
    "    ave_month.reset_index(drop=True, inplace=True)\n",
    "\n",
    "    ave_month['location'] = city\n",
    "\n",
    "    return ave_month\n",
    "\n",
    "\n"
   ]
  },
  {
   "cell_type": "code",
   "execution_count": 139,
   "metadata": {},
   "outputs": [
    {
     "name": "stderr",
     "output_type": "stream",
     "text": [
      "C:\\Users\\elisa\\AppData\\Local\\Temp\\ipykernel_5756\\3489930091.py:60: SettingWithCopyWarning: \n",
      "A value is trying to be set on a copy of a slice from a DataFrame.\n",
      "Try using .loc[row_indexer,col_indexer] = value instead\n",
      "\n",
      "See the caveats in the documentation: https://pandas.pydata.org/pandas-docs/stable/user_guide/indexing.html#returning-a-view-versus-a-copy\n",
      "  filtered_citydata[\"date\"] = pd.to_datetime(filtered_citydata[\"date\"])\n",
      "C:\\Users\\elisa\\AppData\\Local\\Temp\\ipykernel_5756\\3489930091.py:61: SettingWithCopyWarning: \n",
      "A value is trying to be set on a copy of a slice from a DataFrame.\n",
      "Try using .loc[row_indexer,col_indexer] = value instead\n",
      "\n",
      "See the caveats in the documentation: https://pandas.pydata.org/pandas-docs/stable/user_guide/indexing.html#returning-a-view-versus-a-copy\n",
      "  filtered_citydata[\"month\"] = filtered_citydata[\"date\"].dt.month\n",
      "C:\\Users\\elisa\\AppData\\Local\\Temp\\ipykernel_5756\\3489930091.py:62: SettingWithCopyWarning: \n",
      "A value is trying to be set on a copy of a slice from a DataFrame.\n",
      "Try using .loc[row_indexer,col_indexer] = value instead\n",
      "\n",
      "See the caveats in the documentation: https://pandas.pydata.org/pandas-docs/stable/user_guide/indexing.html#returning-a-view-versus-a-copy\n",
      "  filtered_citydata[\"year\"] = filtered_citydata[\"date\"].dt.year\n",
      "C:\\Users\\elisa\\AppData\\Local\\Temp\\ipykernel_5756\\3489930091.py:63: SettingWithCopyWarning: \n",
      "A value is trying to be set on a copy of a slice from a DataFrame.\n",
      "Try using .loc[row_indexer,col_indexer] = value instead\n",
      "\n",
      "See the caveats in the documentation: https://pandas.pydata.org/pandas-docs/stable/user_guide/indexing.html#returning-a-view-versus-a-copy\n",
      "  filtered_citydata['month_year'] = filtered_citydata['month'].astype(str) + '-' + filtered_citydata['year'].astype(str)\n"
     ]
    },
    {
     "name": "stdout",
     "output_type": "stream",
     "text": [
      "Amsterdam\n"
     ]
    },
    {
     "name": "stderr",
     "output_type": "stream",
     "text": [
      "C:\\Users\\elisa\\AppData\\Local\\Temp\\ipykernel_5756\\3489930091.py:60: SettingWithCopyWarning: \n",
      "A value is trying to be set on a copy of a slice from a DataFrame.\n",
      "Try using .loc[row_indexer,col_indexer] = value instead\n",
      "\n",
      "See the caveats in the documentation: https://pandas.pydata.org/pandas-docs/stable/user_guide/indexing.html#returning-a-view-versus-a-copy\n",
      "  filtered_citydata[\"date\"] = pd.to_datetime(filtered_citydata[\"date\"])\n",
      "C:\\Users\\elisa\\AppData\\Local\\Temp\\ipykernel_5756\\3489930091.py:61: SettingWithCopyWarning: \n",
      "A value is trying to be set on a copy of a slice from a DataFrame.\n",
      "Try using .loc[row_indexer,col_indexer] = value instead\n",
      "\n",
      "See the caveats in the documentation: https://pandas.pydata.org/pandas-docs/stable/user_guide/indexing.html#returning-a-view-versus-a-copy\n",
      "  filtered_citydata[\"month\"] = filtered_citydata[\"date\"].dt.month\n",
      "C:\\Users\\elisa\\AppData\\Local\\Temp\\ipykernel_5756\\3489930091.py:62: SettingWithCopyWarning: \n",
      "A value is trying to be set on a copy of a slice from a DataFrame.\n",
      "Try using .loc[row_indexer,col_indexer] = value instead\n",
      "\n",
      "See the caveats in the documentation: https://pandas.pydata.org/pandas-docs/stable/user_guide/indexing.html#returning-a-view-versus-a-copy\n",
      "  filtered_citydata[\"year\"] = filtered_citydata[\"date\"].dt.year\n",
      "C:\\Users\\elisa\\AppData\\Local\\Temp\\ipykernel_5756\\3489930091.py:63: SettingWithCopyWarning: \n",
      "A value is trying to be set on a copy of a slice from a DataFrame.\n",
      "Try using .loc[row_indexer,col_indexer] = value instead\n",
      "\n",
      "See the caveats in the documentation: https://pandas.pydata.org/pandas-docs/stable/user_guide/indexing.html#returning-a-view-versus-a-copy\n",
      "  filtered_citydata['month_year'] = filtered_citydata['month'].astype(str) + '-' + filtered_citydata['year'].astype(str)\n"
     ]
    },
    {
     "name": "stdout",
     "output_type": "stream",
     "text": [
      "Barcelona\n"
     ]
    },
    {
     "name": "stderr",
     "output_type": "stream",
     "text": [
      "C:\\Users\\elisa\\AppData\\Local\\Temp\\ipykernel_5756\\3489930091.py:60: SettingWithCopyWarning: \n",
      "A value is trying to be set on a copy of a slice from a DataFrame.\n",
      "Try using .loc[row_indexer,col_indexer] = value instead\n",
      "\n",
      "See the caveats in the documentation: https://pandas.pydata.org/pandas-docs/stable/user_guide/indexing.html#returning-a-view-versus-a-copy\n",
      "  filtered_citydata[\"date\"] = pd.to_datetime(filtered_citydata[\"date\"])\n",
      "C:\\Users\\elisa\\AppData\\Local\\Temp\\ipykernel_5756\\3489930091.py:61: SettingWithCopyWarning: \n",
      "A value is trying to be set on a copy of a slice from a DataFrame.\n",
      "Try using .loc[row_indexer,col_indexer] = value instead\n",
      "\n",
      "See the caveats in the documentation: https://pandas.pydata.org/pandas-docs/stable/user_guide/indexing.html#returning-a-view-versus-a-copy\n",
      "  filtered_citydata[\"month\"] = filtered_citydata[\"date\"].dt.month\n",
      "C:\\Users\\elisa\\AppData\\Local\\Temp\\ipykernel_5756\\3489930091.py:62: SettingWithCopyWarning: \n",
      "A value is trying to be set on a copy of a slice from a DataFrame.\n",
      "Try using .loc[row_indexer,col_indexer] = value instead\n",
      "\n",
      "See the caveats in the documentation: https://pandas.pydata.org/pandas-docs/stable/user_guide/indexing.html#returning-a-view-versus-a-copy\n",
      "  filtered_citydata[\"year\"] = filtered_citydata[\"date\"].dt.year\n",
      "C:\\Users\\elisa\\AppData\\Local\\Temp\\ipykernel_5756\\3489930091.py:63: SettingWithCopyWarning: \n",
      "A value is trying to be set on a copy of a slice from a DataFrame.\n",
      "Try using .loc[row_indexer,col_indexer] = value instead\n",
      "\n",
      "See the caveats in the documentation: https://pandas.pydata.org/pandas-docs/stable/user_guide/indexing.html#returning-a-view-versus-a-copy\n",
      "  filtered_citydata['month_year'] = filtered_citydata['month'].astype(str) + '-' + filtered_citydata['year'].astype(str)\n"
     ]
    },
    {
     "name": "stdout",
     "output_type": "stream",
     "text": [
      "Euskadi\n"
     ]
    },
    {
     "name": "stderr",
     "output_type": "stream",
     "text": [
      "C:\\Users\\elisa\\AppData\\Local\\Temp\\ipykernel_5756\\3489930091.py:60: SettingWithCopyWarning: \n",
      "A value is trying to be set on a copy of a slice from a DataFrame.\n",
      "Try using .loc[row_indexer,col_indexer] = value instead\n",
      "\n",
      "See the caveats in the documentation: https://pandas.pydata.org/pandas-docs/stable/user_guide/indexing.html#returning-a-view-versus-a-copy\n",
      "  filtered_citydata[\"date\"] = pd.to_datetime(filtered_citydata[\"date\"])\n",
      "C:\\Users\\elisa\\AppData\\Local\\Temp\\ipykernel_5756\\3489930091.py:61: SettingWithCopyWarning: \n",
      "A value is trying to be set on a copy of a slice from a DataFrame.\n",
      "Try using .loc[row_indexer,col_indexer] = value instead\n",
      "\n",
      "See the caveats in the documentation: https://pandas.pydata.org/pandas-docs/stable/user_guide/indexing.html#returning-a-view-versus-a-copy\n",
      "  filtered_citydata[\"month\"] = filtered_citydata[\"date\"].dt.month\n",
      "C:\\Users\\elisa\\AppData\\Local\\Temp\\ipykernel_5756\\3489930091.py:62: SettingWithCopyWarning: \n",
      "A value is trying to be set on a copy of a slice from a DataFrame.\n",
      "Try using .loc[row_indexer,col_indexer] = value instead\n",
      "\n",
      "See the caveats in the documentation: https://pandas.pydata.org/pandas-docs/stable/user_guide/indexing.html#returning-a-view-versus-a-copy\n",
      "  filtered_citydata[\"year\"] = filtered_citydata[\"date\"].dt.year\n",
      "C:\\Users\\elisa\\AppData\\Local\\Temp\\ipykernel_5756\\3489930091.py:63: SettingWithCopyWarning: \n",
      "A value is trying to be set on a copy of a slice from a DataFrame.\n",
      "Try using .loc[row_indexer,col_indexer] = value instead\n",
      "\n",
      "See the caveats in the documentation: https://pandas.pydata.org/pandas-docs/stable/user_guide/indexing.html#returning-a-view-versus-a-copy\n",
      "  filtered_citydata['month_year'] = filtered_citydata['month'].astype(str) + '-' + filtered_citydata['year'].astype(str)\n"
     ]
    },
    {
     "name": "stdout",
     "output_type": "stream",
     "text": [
      "Geneva\n"
     ]
    },
    {
     "name": "stderr",
     "output_type": "stream",
     "text": [
      "C:\\Users\\elisa\\AppData\\Local\\Temp\\ipykernel_5756\\3489930091.py:60: SettingWithCopyWarning: \n",
      "A value is trying to be set on a copy of a slice from a DataFrame.\n",
      "Try using .loc[row_indexer,col_indexer] = value instead\n",
      "\n",
      "See the caveats in the documentation: https://pandas.pydata.org/pandas-docs/stable/user_guide/indexing.html#returning-a-view-versus-a-copy\n",
      "  filtered_citydata[\"date\"] = pd.to_datetime(filtered_citydata[\"date\"])\n",
      "C:\\Users\\elisa\\AppData\\Local\\Temp\\ipykernel_5756\\3489930091.py:61: SettingWithCopyWarning: \n",
      "A value is trying to be set on a copy of a slice from a DataFrame.\n",
      "Try using .loc[row_indexer,col_indexer] = value instead\n",
      "\n",
      "See the caveats in the documentation: https://pandas.pydata.org/pandas-docs/stable/user_guide/indexing.html#returning-a-view-versus-a-copy\n",
      "  filtered_citydata[\"month\"] = filtered_citydata[\"date\"].dt.month\n",
      "C:\\Users\\elisa\\AppData\\Local\\Temp\\ipykernel_5756\\3489930091.py:62: SettingWithCopyWarning: \n",
      "A value is trying to be set on a copy of a slice from a DataFrame.\n",
      "Try using .loc[row_indexer,col_indexer] = value instead\n",
      "\n",
      "See the caveats in the documentation: https://pandas.pydata.org/pandas-docs/stable/user_guide/indexing.html#returning-a-view-versus-a-copy\n",
      "  filtered_citydata[\"year\"] = filtered_citydata[\"date\"].dt.year\n",
      "C:\\Users\\elisa\\AppData\\Local\\Temp\\ipykernel_5756\\3489930091.py:63: SettingWithCopyWarning: \n",
      "A value is trying to be set on a copy of a slice from a DataFrame.\n",
      "Try using .loc[row_indexer,col_indexer] = value instead\n",
      "\n",
      "See the caveats in the documentation: https://pandas.pydata.org/pandas-docs/stable/user_guide/indexing.html#returning-a-view-versus-a-copy\n",
      "  filtered_citydata['month_year'] = filtered_citydata['month'].astype(str) + '-' + filtered_citydata['year'].astype(str)\n"
     ]
    },
    {
     "name": "stdout",
     "output_type": "stream",
     "text": [
      "Ireland\n"
     ]
    },
    {
     "name": "stderr",
     "output_type": "stream",
     "text": [
      "C:\\Users\\elisa\\AppData\\Local\\Temp\\ipykernel_5756\\3489930091.py:60: SettingWithCopyWarning: \n",
      "A value is trying to be set on a copy of a slice from a DataFrame.\n",
      "Try using .loc[row_indexer,col_indexer] = value instead\n",
      "\n",
      "See the caveats in the documentation: https://pandas.pydata.org/pandas-docs/stable/user_guide/indexing.html#returning-a-view-versus-a-copy\n",
      "  filtered_citydata[\"date\"] = pd.to_datetime(filtered_citydata[\"date\"])\n",
      "C:\\Users\\elisa\\AppData\\Local\\Temp\\ipykernel_5756\\3489930091.py:61: SettingWithCopyWarning: \n",
      "A value is trying to be set on a copy of a slice from a DataFrame.\n",
      "Try using .loc[row_indexer,col_indexer] = value instead\n",
      "\n",
      "See the caveats in the documentation: https://pandas.pydata.org/pandas-docs/stable/user_guide/indexing.html#returning-a-view-versus-a-copy\n",
      "  filtered_citydata[\"month\"] = filtered_citydata[\"date\"].dt.month\n",
      "C:\\Users\\elisa\\AppData\\Local\\Temp\\ipykernel_5756\\3489930091.py:62: SettingWithCopyWarning: \n",
      "A value is trying to be set on a copy of a slice from a DataFrame.\n",
      "Try using .loc[row_indexer,col_indexer] = value instead\n",
      "\n",
      "See the caveats in the documentation: https://pandas.pydata.org/pandas-docs/stable/user_guide/indexing.html#returning-a-view-versus-a-copy\n",
      "  filtered_citydata[\"year\"] = filtered_citydata[\"date\"].dt.year\n",
      "C:\\Users\\elisa\\AppData\\Local\\Temp\\ipykernel_5756\\3489930091.py:63: SettingWithCopyWarning: \n",
      "A value is trying to be set on a copy of a slice from a DataFrame.\n",
      "Try using .loc[row_indexer,col_indexer] = value instead\n",
      "\n",
      "See the caveats in the documentation: https://pandas.pydata.org/pandas-docs/stable/user_guide/indexing.html#returning-a-view-versus-a-copy\n",
      "  filtered_citydata['month_year'] = filtered_citydata['month'].astype(str) + '-' + filtered_citydata['year'].astype(str)\n"
     ]
    },
    {
     "name": "stdout",
     "output_type": "stream",
     "text": [
      "Lisbon\n"
     ]
    },
    {
     "name": "stderr",
     "output_type": "stream",
     "text": [
      "C:\\Users\\elisa\\AppData\\Local\\Temp\\ipykernel_5756\\3489930091.py:60: SettingWithCopyWarning: \n",
      "A value is trying to be set on a copy of a slice from a DataFrame.\n",
      "Try using .loc[row_indexer,col_indexer] = value instead\n",
      "\n",
      "See the caveats in the documentation: https://pandas.pydata.org/pandas-docs/stable/user_guide/indexing.html#returning-a-view-versus-a-copy\n",
      "  filtered_citydata[\"date\"] = pd.to_datetime(filtered_citydata[\"date\"])\n",
      "C:\\Users\\elisa\\AppData\\Local\\Temp\\ipykernel_5756\\3489930091.py:61: SettingWithCopyWarning: \n",
      "A value is trying to be set on a copy of a slice from a DataFrame.\n",
      "Try using .loc[row_indexer,col_indexer] = value instead\n",
      "\n",
      "See the caveats in the documentation: https://pandas.pydata.org/pandas-docs/stable/user_guide/indexing.html#returning-a-view-versus-a-copy\n",
      "  filtered_citydata[\"month\"] = filtered_citydata[\"date\"].dt.month\n",
      "C:\\Users\\elisa\\AppData\\Local\\Temp\\ipykernel_5756\\3489930091.py:62: SettingWithCopyWarning: \n",
      "A value is trying to be set on a copy of a slice from a DataFrame.\n",
      "Try using .loc[row_indexer,col_indexer] = value instead\n",
      "\n",
      "See the caveats in the documentation: https://pandas.pydata.org/pandas-docs/stable/user_guide/indexing.html#returning-a-view-versus-a-copy\n",
      "  filtered_citydata[\"year\"] = filtered_citydata[\"date\"].dt.year\n",
      "C:\\Users\\elisa\\AppData\\Local\\Temp\\ipykernel_5756\\3489930091.py:63: SettingWithCopyWarning: \n",
      "A value is trying to be set on a copy of a slice from a DataFrame.\n",
      "Try using .loc[row_indexer,col_indexer] = value instead\n",
      "\n",
      "See the caveats in the documentation: https://pandas.pydata.org/pandas-docs/stable/user_guide/indexing.html#returning-a-view-versus-a-copy\n",
      "  filtered_citydata['month_year'] = filtered_citydata['month'].astype(str) + '-' + filtered_citydata['year'].astype(str)\n"
     ]
    },
    {
     "name": "stdout",
     "output_type": "stream",
     "text": [
      "Los Angeles\n",
      "Madrid\n"
     ]
    },
    {
     "name": "stderr",
     "output_type": "stream",
     "text": [
      "C:\\Users\\elisa\\AppData\\Local\\Temp\\ipykernel_5756\\3489930091.py:60: SettingWithCopyWarning: \n",
      "A value is trying to be set on a copy of a slice from a DataFrame.\n",
      "Try using .loc[row_indexer,col_indexer] = value instead\n",
      "\n",
      "See the caveats in the documentation: https://pandas.pydata.org/pandas-docs/stable/user_guide/indexing.html#returning-a-view-versus-a-copy\n",
      "  filtered_citydata[\"date\"] = pd.to_datetime(filtered_citydata[\"date\"])\n",
      "C:\\Users\\elisa\\AppData\\Local\\Temp\\ipykernel_5756\\3489930091.py:61: SettingWithCopyWarning: \n",
      "A value is trying to be set on a copy of a slice from a DataFrame.\n",
      "Try using .loc[row_indexer,col_indexer] = value instead\n",
      "\n",
      "See the caveats in the documentation: https://pandas.pydata.org/pandas-docs/stable/user_guide/indexing.html#returning-a-view-versus-a-copy\n",
      "  filtered_citydata[\"month\"] = filtered_citydata[\"date\"].dt.month\n",
      "C:\\Users\\elisa\\AppData\\Local\\Temp\\ipykernel_5756\\3489930091.py:62: SettingWithCopyWarning: \n",
      "A value is trying to be set on a copy of a slice from a DataFrame.\n",
      "Try using .loc[row_indexer,col_indexer] = value instead\n",
      "\n",
      "See the caveats in the documentation: https://pandas.pydata.org/pandas-docs/stable/user_guide/indexing.html#returning-a-view-versus-a-copy\n",
      "  filtered_citydata[\"year\"] = filtered_citydata[\"date\"].dt.year\n",
      "C:\\Users\\elisa\\AppData\\Local\\Temp\\ipykernel_5756\\3489930091.py:63: SettingWithCopyWarning: \n",
      "A value is trying to be set on a copy of a slice from a DataFrame.\n",
      "Try using .loc[row_indexer,col_indexer] = value instead\n",
      "\n",
      "See the caveats in the documentation: https://pandas.pydata.org/pandas-docs/stable/user_guide/indexing.html#returning-a-view-versus-a-copy\n",
      "  filtered_citydata['month_year'] = filtered_citydata['month'].astype(str) + '-' + filtered_citydata['year'].astype(str)\n"
     ]
    },
    {
     "name": "stdout",
     "output_type": "stream",
     "text": [
      "Malaga\n"
     ]
    },
    {
     "name": "stderr",
     "output_type": "stream",
     "text": [
      "C:\\Users\\elisa\\AppData\\Local\\Temp\\ipykernel_5756\\3489930091.py:60: SettingWithCopyWarning: \n",
      "A value is trying to be set on a copy of a slice from a DataFrame.\n",
      "Try using .loc[row_indexer,col_indexer] = value instead\n",
      "\n",
      "See the caveats in the documentation: https://pandas.pydata.org/pandas-docs/stable/user_guide/indexing.html#returning-a-view-versus-a-copy\n",
      "  filtered_citydata[\"date\"] = pd.to_datetime(filtered_citydata[\"date\"])\n",
      "C:\\Users\\elisa\\AppData\\Local\\Temp\\ipykernel_5756\\3489930091.py:61: SettingWithCopyWarning: \n",
      "A value is trying to be set on a copy of a slice from a DataFrame.\n",
      "Try using .loc[row_indexer,col_indexer] = value instead\n",
      "\n",
      "See the caveats in the documentation: https://pandas.pydata.org/pandas-docs/stable/user_guide/indexing.html#returning-a-view-versus-a-copy\n",
      "  filtered_citydata[\"month\"] = filtered_citydata[\"date\"].dt.month\n",
      "C:\\Users\\elisa\\AppData\\Local\\Temp\\ipykernel_5756\\3489930091.py:62: SettingWithCopyWarning: \n",
      "A value is trying to be set on a copy of a slice from a DataFrame.\n",
      "Try using .loc[row_indexer,col_indexer] = value instead\n",
      "\n",
      "See the caveats in the documentation: https://pandas.pydata.org/pandas-docs/stable/user_guide/indexing.html#returning-a-view-versus-a-copy\n",
      "  filtered_citydata[\"year\"] = filtered_citydata[\"date\"].dt.year\n",
      "C:\\Users\\elisa\\AppData\\Local\\Temp\\ipykernel_5756\\3489930091.py:63: SettingWithCopyWarning: \n",
      "A value is trying to be set on a copy of a slice from a DataFrame.\n",
      "Try using .loc[row_indexer,col_indexer] = value instead\n",
      "\n",
      "See the caveats in the documentation: https://pandas.pydata.org/pandas-docs/stable/user_guide/indexing.html#returning-a-view-versus-a-copy\n",
      "  filtered_citydata['month_year'] = filtered_citydata['month'].astype(str) + '-' + filtered_citydata['year'].astype(str)\n"
     ]
    },
    {
     "name": "stdout",
     "output_type": "stream",
     "text": [
      "Mallorca\n"
     ]
    },
    {
     "name": "stderr",
     "output_type": "stream",
     "text": [
      "C:\\Users\\elisa\\AppData\\Local\\Temp\\ipykernel_5756\\3489930091.py:60: SettingWithCopyWarning: \n",
      "A value is trying to be set on a copy of a slice from a DataFrame.\n",
      "Try using .loc[row_indexer,col_indexer] = value instead\n",
      "\n",
      "See the caveats in the documentation: https://pandas.pydata.org/pandas-docs/stable/user_guide/indexing.html#returning-a-view-versus-a-copy\n",
      "  filtered_citydata[\"date\"] = pd.to_datetime(filtered_citydata[\"date\"])\n",
      "C:\\Users\\elisa\\AppData\\Local\\Temp\\ipykernel_5756\\3489930091.py:61: SettingWithCopyWarning: \n",
      "A value is trying to be set on a copy of a slice from a DataFrame.\n",
      "Try using .loc[row_indexer,col_indexer] = value instead\n",
      "\n",
      "See the caveats in the documentation: https://pandas.pydata.org/pandas-docs/stable/user_guide/indexing.html#returning-a-view-versus-a-copy\n",
      "  filtered_citydata[\"month\"] = filtered_citydata[\"date\"].dt.month\n",
      "C:\\Users\\elisa\\AppData\\Local\\Temp\\ipykernel_5756\\3489930091.py:62: SettingWithCopyWarning: \n",
      "A value is trying to be set on a copy of a slice from a DataFrame.\n",
      "Try using .loc[row_indexer,col_indexer] = value instead\n",
      "\n",
      "See the caveats in the documentation: https://pandas.pydata.org/pandas-docs/stable/user_guide/indexing.html#returning-a-view-versus-a-copy\n",
      "  filtered_citydata[\"year\"] = filtered_citydata[\"date\"].dt.year\n",
      "C:\\Users\\elisa\\AppData\\Local\\Temp\\ipykernel_5756\\3489930091.py:63: SettingWithCopyWarning: \n",
      "A value is trying to be set on a copy of a slice from a DataFrame.\n",
      "Try using .loc[row_indexer,col_indexer] = value instead\n",
      "\n",
      "See the caveats in the documentation: https://pandas.pydata.org/pandas-docs/stable/user_guide/indexing.html#returning-a-view-versus-a-copy\n",
      "  filtered_citydata['month_year'] = filtered_citydata['month'].astype(str) + '-' + filtered_citydata['year'].astype(str)\n"
     ]
    },
    {
     "name": "stdout",
     "output_type": "stream",
     "text": [
      "Malta\n"
     ]
    },
    {
     "name": "stderr",
     "output_type": "stream",
     "text": [
      "C:\\Users\\elisa\\AppData\\Local\\Temp\\ipykernel_5756\\3489930091.py:60: SettingWithCopyWarning: \n",
      "A value is trying to be set on a copy of a slice from a DataFrame.\n",
      "Try using .loc[row_indexer,col_indexer] = value instead\n",
      "\n",
      "See the caveats in the documentation: https://pandas.pydata.org/pandas-docs/stable/user_guide/indexing.html#returning-a-view-versus-a-copy\n",
      "  filtered_citydata[\"date\"] = pd.to_datetime(filtered_citydata[\"date\"])\n",
      "C:\\Users\\elisa\\AppData\\Local\\Temp\\ipykernel_5756\\3489930091.py:61: SettingWithCopyWarning: \n",
      "A value is trying to be set on a copy of a slice from a DataFrame.\n",
      "Try using .loc[row_indexer,col_indexer] = value instead\n",
      "\n",
      "See the caveats in the documentation: https://pandas.pydata.org/pandas-docs/stable/user_guide/indexing.html#returning-a-view-versus-a-copy\n",
      "  filtered_citydata[\"month\"] = filtered_citydata[\"date\"].dt.month\n",
      "C:\\Users\\elisa\\AppData\\Local\\Temp\\ipykernel_5756\\3489930091.py:62: SettingWithCopyWarning: \n",
      "A value is trying to be set on a copy of a slice from a DataFrame.\n",
      "Try using .loc[row_indexer,col_indexer] = value instead\n",
      "\n",
      "See the caveats in the documentation: https://pandas.pydata.org/pandas-docs/stable/user_guide/indexing.html#returning-a-view-versus-a-copy\n",
      "  filtered_citydata[\"year\"] = filtered_citydata[\"date\"].dt.year\n",
      "C:\\Users\\elisa\\AppData\\Local\\Temp\\ipykernel_5756\\3489930091.py:63: SettingWithCopyWarning: \n",
      "A value is trying to be set on a copy of a slice from a DataFrame.\n",
      "Try using .loc[row_indexer,col_indexer] = value instead\n",
      "\n",
      "See the caveats in the documentation: https://pandas.pydata.org/pandas-docs/stable/user_guide/indexing.html#returning-a-view-versus-a-copy\n",
      "  filtered_citydata['month_year'] = filtered_citydata['month'].astype(str) + '-' + filtered_citydata['year'].astype(str)\n"
     ]
    },
    {
     "name": "stdout",
     "output_type": "stream",
     "text": [
      "Menorca\n"
     ]
    },
    {
     "name": "stderr",
     "output_type": "stream",
     "text": [
      "C:\\Users\\elisa\\AppData\\Local\\Temp\\ipykernel_5756\\3489930091.py:60: SettingWithCopyWarning: \n",
      "A value is trying to be set on a copy of a slice from a DataFrame.\n",
      "Try using .loc[row_indexer,col_indexer] = value instead\n",
      "\n",
      "See the caveats in the documentation: https://pandas.pydata.org/pandas-docs/stable/user_guide/indexing.html#returning-a-view-versus-a-copy\n",
      "  filtered_citydata[\"date\"] = pd.to_datetime(filtered_citydata[\"date\"])\n",
      "C:\\Users\\elisa\\AppData\\Local\\Temp\\ipykernel_5756\\3489930091.py:61: SettingWithCopyWarning: \n",
      "A value is trying to be set on a copy of a slice from a DataFrame.\n",
      "Try using .loc[row_indexer,col_indexer] = value instead\n",
      "\n",
      "See the caveats in the documentation: https://pandas.pydata.org/pandas-docs/stable/user_guide/indexing.html#returning-a-view-versus-a-copy\n",
      "  filtered_citydata[\"month\"] = filtered_citydata[\"date\"].dt.month\n",
      "C:\\Users\\elisa\\AppData\\Local\\Temp\\ipykernel_5756\\3489930091.py:62: SettingWithCopyWarning: \n",
      "A value is trying to be set on a copy of a slice from a DataFrame.\n",
      "Try using .loc[row_indexer,col_indexer] = value instead\n",
      "\n",
      "See the caveats in the documentation: https://pandas.pydata.org/pandas-docs/stable/user_guide/indexing.html#returning-a-view-versus-a-copy\n",
      "  filtered_citydata[\"year\"] = filtered_citydata[\"date\"].dt.year\n",
      "C:\\Users\\elisa\\AppData\\Local\\Temp\\ipykernel_5756\\3489930091.py:63: SettingWithCopyWarning: \n",
      "A value is trying to be set on a copy of a slice from a DataFrame.\n",
      "Try using .loc[row_indexer,col_indexer] = value instead\n",
      "\n",
      "See the caveats in the documentation: https://pandas.pydata.org/pandas-docs/stable/user_guide/indexing.html#returning-a-view-versus-a-copy\n",
      "  filtered_citydata['month_year'] = filtered_citydata['month'].astype(str) + '-' + filtered_citydata['year'].astype(str)\n"
     ]
    },
    {
     "name": "stdout",
     "output_type": "stream",
     "text": [
      "Mexico City\n"
     ]
    },
    {
     "name": "stderr",
     "output_type": "stream",
     "text": [
      "C:\\Users\\elisa\\AppData\\Local\\Temp\\ipykernel_5756\\3489930091.py:60: SettingWithCopyWarning: \n",
      "A value is trying to be set on a copy of a slice from a DataFrame.\n",
      "Try using .loc[row_indexer,col_indexer] = value instead\n",
      "\n",
      "See the caveats in the documentation: https://pandas.pydata.org/pandas-docs/stable/user_guide/indexing.html#returning-a-view-versus-a-copy\n",
      "  filtered_citydata[\"date\"] = pd.to_datetime(filtered_citydata[\"date\"])\n",
      "C:\\Users\\elisa\\AppData\\Local\\Temp\\ipykernel_5756\\3489930091.py:61: SettingWithCopyWarning: \n",
      "A value is trying to be set on a copy of a slice from a DataFrame.\n",
      "Try using .loc[row_indexer,col_indexer] = value instead\n",
      "\n",
      "See the caveats in the documentation: https://pandas.pydata.org/pandas-docs/stable/user_guide/indexing.html#returning-a-view-versus-a-copy\n",
      "  filtered_citydata[\"month\"] = filtered_citydata[\"date\"].dt.month\n",
      "C:\\Users\\elisa\\AppData\\Local\\Temp\\ipykernel_5756\\3489930091.py:62: SettingWithCopyWarning: \n",
      "A value is trying to be set on a copy of a slice from a DataFrame.\n",
      "Try using .loc[row_indexer,col_indexer] = value instead\n",
      "\n",
      "See the caveats in the documentation: https://pandas.pydata.org/pandas-docs/stable/user_guide/indexing.html#returning-a-view-versus-a-copy\n",
      "  filtered_citydata[\"year\"] = filtered_citydata[\"date\"].dt.year\n",
      "C:\\Users\\elisa\\AppData\\Local\\Temp\\ipykernel_5756\\3489930091.py:63: SettingWithCopyWarning: \n",
      "A value is trying to be set on a copy of a slice from a DataFrame.\n",
      "Try using .loc[row_indexer,col_indexer] = value instead\n",
      "\n",
      "See the caveats in the documentation: https://pandas.pydata.org/pandas-docs/stable/user_guide/indexing.html#returning-a-view-versus-a-copy\n",
      "  filtered_citydata['month_year'] = filtered_citydata['month'].astype(str) + '-' + filtered_citydata['year'].astype(str)\n"
     ]
    },
    {
     "name": "stdout",
     "output_type": "stream",
     "text": [
      "Milan\n"
     ]
    },
    {
     "name": "stderr",
     "output_type": "stream",
     "text": [
      "C:\\Users\\elisa\\AppData\\Local\\Temp\\ipykernel_5756\\3489930091.py:60: SettingWithCopyWarning: \n",
      "A value is trying to be set on a copy of a slice from a DataFrame.\n",
      "Try using .loc[row_indexer,col_indexer] = value instead\n",
      "\n",
      "See the caveats in the documentation: https://pandas.pydata.org/pandas-docs/stable/user_guide/indexing.html#returning-a-view-versus-a-copy\n",
      "  filtered_citydata[\"date\"] = pd.to_datetime(filtered_citydata[\"date\"])\n",
      "C:\\Users\\elisa\\AppData\\Local\\Temp\\ipykernel_5756\\3489930091.py:61: SettingWithCopyWarning: \n",
      "A value is trying to be set on a copy of a slice from a DataFrame.\n",
      "Try using .loc[row_indexer,col_indexer] = value instead\n",
      "\n",
      "See the caveats in the documentation: https://pandas.pydata.org/pandas-docs/stable/user_guide/indexing.html#returning-a-view-versus-a-copy\n",
      "  filtered_citydata[\"month\"] = filtered_citydata[\"date\"].dt.month\n",
      "C:\\Users\\elisa\\AppData\\Local\\Temp\\ipykernel_5756\\3489930091.py:62: SettingWithCopyWarning: \n",
      "A value is trying to be set on a copy of a slice from a DataFrame.\n",
      "Try using .loc[row_indexer,col_indexer] = value instead\n",
      "\n",
      "See the caveats in the documentation: https://pandas.pydata.org/pandas-docs/stable/user_guide/indexing.html#returning-a-view-versus-a-copy\n",
      "  filtered_citydata[\"year\"] = filtered_citydata[\"date\"].dt.year\n",
      "C:\\Users\\elisa\\AppData\\Local\\Temp\\ipykernel_5756\\3489930091.py:63: SettingWithCopyWarning: \n",
      "A value is trying to be set on a copy of a slice from a DataFrame.\n",
      "Try using .loc[row_indexer,col_indexer] = value instead\n",
      "\n",
      "See the caveats in the documentation: https://pandas.pydata.org/pandas-docs/stable/user_guide/indexing.html#returning-a-view-versus-a-copy\n",
      "  filtered_citydata['month_year'] = filtered_citydata['month'].astype(str) + '-' + filtered_citydata['year'].astype(str)\n"
     ]
    },
    {
     "name": "stdout",
     "output_type": "stream",
     "text": [
      "Naples\n"
     ]
    },
    {
     "name": "stderr",
     "output_type": "stream",
     "text": [
      "C:\\Users\\elisa\\AppData\\Local\\Temp\\ipykernel_5756\\3489930091.py:60: SettingWithCopyWarning: \n",
      "A value is trying to be set on a copy of a slice from a DataFrame.\n",
      "Try using .loc[row_indexer,col_indexer] = value instead\n",
      "\n",
      "See the caveats in the documentation: https://pandas.pydata.org/pandas-docs/stable/user_guide/indexing.html#returning-a-view-versus-a-copy\n",
      "  filtered_citydata[\"date\"] = pd.to_datetime(filtered_citydata[\"date\"])\n",
      "C:\\Users\\elisa\\AppData\\Local\\Temp\\ipykernel_5756\\3489930091.py:61: SettingWithCopyWarning: \n",
      "A value is trying to be set on a copy of a slice from a DataFrame.\n",
      "Try using .loc[row_indexer,col_indexer] = value instead\n",
      "\n",
      "See the caveats in the documentation: https://pandas.pydata.org/pandas-docs/stable/user_guide/indexing.html#returning-a-view-versus-a-copy\n",
      "  filtered_citydata[\"month\"] = filtered_citydata[\"date\"].dt.month\n",
      "C:\\Users\\elisa\\AppData\\Local\\Temp\\ipykernel_5756\\3489930091.py:62: SettingWithCopyWarning: \n",
      "A value is trying to be set on a copy of a slice from a DataFrame.\n",
      "Try using .loc[row_indexer,col_indexer] = value instead\n",
      "\n",
      "See the caveats in the documentation: https://pandas.pydata.org/pandas-docs/stable/user_guide/indexing.html#returning-a-view-versus-a-copy\n",
      "  filtered_citydata[\"year\"] = filtered_citydata[\"date\"].dt.year\n",
      "C:\\Users\\elisa\\AppData\\Local\\Temp\\ipykernel_5756\\3489930091.py:63: SettingWithCopyWarning: \n",
      "A value is trying to be set on a copy of a slice from a DataFrame.\n",
      "Try using .loc[row_indexer,col_indexer] = value instead\n",
      "\n",
      "See the caveats in the documentation: https://pandas.pydata.org/pandas-docs/stable/user_guide/indexing.html#returning-a-view-versus-a-copy\n",
      "  filtered_citydata['month_year'] = filtered_citydata['month'].astype(str) + '-' + filtered_citydata['year'].astype(str)\n"
     ]
    },
    {
     "name": "stdout",
     "output_type": "stream",
     "text": [
      "Rome\n"
     ]
    },
    {
     "name": "stderr",
     "output_type": "stream",
     "text": [
      "C:\\Users\\elisa\\AppData\\Local\\Temp\\ipykernel_5756\\3489930091.py:60: SettingWithCopyWarning: \n",
      "A value is trying to be set on a copy of a slice from a DataFrame.\n",
      "Try using .loc[row_indexer,col_indexer] = value instead\n",
      "\n",
      "See the caveats in the documentation: https://pandas.pydata.org/pandas-docs/stable/user_guide/indexing.html#returning-a-view-versus-a-copy\n",
      "  filtered_citydata[\"date\"] = pd.to_datetime(filtered_citydata[\"date\"])\n",
      "C:\\Users\\elisa\\AppData\\Local\\Temp\\ipykernel_5756\\3489930091.py:61: SettingWithCopyWarning: \n",
      "A value is trying to be set on a copy of a slice from a DataFrame.\n",
      "Try using .loc[row_indexer,col_indexer] = value instead\n",
      "\n",
      "See the caveats in the documentation: https://pandas.pydata.org/pandas-docs/stable/user_guide/indexing.html#returning-a-view-versus-a-copy\n",
      "  filtered_citydata[\"month\"] = filtered_citydata[\"date\"].dt.month\n",
      "C:\\Users\\elisa\\AppData\\Local\\Temp\\ipykernel_5756\\3489930091.py:62: SettingWithCopyWarning: \n",
      "A value is trying to be set on a copy of a slice from a DataFrame.\n",
      "Try using .loc[row_indexer,col_indexer] = value instead\n",
      "\n",
      "See the caveats in the documentation: https://pandas.pydata.org/pandas-docs/stable/user_guide/indexing.html#returning-a-view-versus-a-copy\n",
      "  filtered_citydata[\"year\"] = filtered_citydata[\"date\"].dt.year\n",
      "C:\\Users\\elisa\\AppData\\Local\\Temp\\ipykernel_5756\\3489930091.py:63: SettingWithCopyWarning: \n",
      "A value is trying to be set on a copy of a slice from a DataFrame.\n",
      "Try using .loc[row_indexer,col_indexer] = value instead\n",
      "\n",
      "See the caveats in the documentation: https://pandas.pydata.org/pandas-docs/stable/user_guide/indexing.html#returning-a-view-versus-a-copy\n",
      "  filtered_citydata['month_year'] = filtered_citydata['month'].astype(str) + '-' + filtered_citydata['year'].astype(str)\n"
     ]
    },
    {
     "name": "stdout",
     "output_type": "stream",
     "text": [
      "Rotterdam\n"
     ]
    },
    {
     "name": "stderr",
     "output_type": "stream",
     "text": [
      "C:\\Users\\elisa\\AppData\\Local\\Temp\\ipykernel_5756\\3489930091.py:60: SettingWithCopyWarning: \n",
      "A value is trying to be set on a copy of a slice from a DataFrame.\n",
      "Try using .loc[row_indexer,col_indexer] = value instead\n",
      "\n",
      "See the caveats in the documentation: https://pandas.pydata.org/pandas-docs/stable/user_guide/indexing.html#returning-a-view-versus-a-copy\n",
      "  filtered_citydata[\"date\"] = pd.to_datetime(filtered_citydata[\"date\"])\n",
      "C:\\Users\\elisa\\AppData\\Local\\Temp\\ipykernel_5756\\3489930091.py:61: SettingWithCopyWarning: \n",
      "A value is trying to be set on a copy of a slice from a DataFrame.\n",
      "Try using .loc[row_indexer,col_indexer] = value instead\n",
      "\n",
      "See the caveats in the documentation: https://pandas.pydata.org/pandas-docs/stable/user_guide/indexing.html#returning-a-view-versus-a-copy\n",
      "  filtered_citydata[\"month\"] = filtered_citydata[\"date\"].dt.month\n",
      "C:\\Users\\elisa\\AppData\\Local\\Temp\\ipykernel_5756\\3489930091.py:62: SettingWithCopyWarning: \n",
      "A value is trying to be set on a copy of a slice from a DataFrame.\n",
      "Try using .loc[row_indexer,col_indexer] = value instead\n",
      "\n",
      "See the caveats in the documentation: https://pandas.pydata.org/pandas-docs/stable/user_guide/indexing.html#returning-a-view-versus-a-copy\n",
      "  filtered_citydata[\"year\"] = filtered_citydata[\"date\"].dt.year\n",
      "C:\\Users\\elisa\\AppData\\Local\\Temp\\ipykernel_5756\\3489930091.py:63: SettingWithCopyWarning: \n",
      "A value is trying to be set on a copy of a slice from a DataFrame.\n",
      "Try using .loc[row_indexer,col_indexer] = value instead\n",
      "\n",
      "See the caveats in the documentation: https://pandas.pydata.org/pandas-docs/stable/user_guide/indexing.html#returning-a-view-versus-a-copy\n",
      "  filtered_citydata['month_year'] = filtered_citydata['month'].astype(str) + '-' + filtered_citydata['year'].astype(str)\n"
     ]
    },
    {
     "name": "stdout",
     "output_type": "stream",
     "text": [
      "San Diego\n"
     ]
    },
    {
     "name": "stderr",
     "output_type": "stream",
     "text": [
      "C:\\Users\\elisa\\AppData\\Local\\Temp\\ipykernel_5756\\3489930091.py:60: SettingWithCopyWarning: \n",
      "A value is trying to be set on a copy of a slice from a DataFrame.\n",
      "Try using .loc[row_indexer,col_indexer] = value instead\n",
      "\n",
      "See the caveats in the documentation: https://pandas.pydata.org/pandas-docs/stable/user_guide/indexing.html#returning-a-view-versus-a-copy\n",
      "  filtered_citydata[\"date\"] = pd.to_datetime(filtered_citydata[\"date\"])\n",
      "C:\\Users\\elisa\\AppData\\Local\\Temp\\ipykernel_5756\\3489930091.py:61: SettingWithCopyWarning: \n",
      "A value is trying to be set on a copy of a slice from a DataFrame.\n",
      "Try using .loc[row_indexer,col_indexer] = value instead\n",
      "\n",
      "See the caveats in the documentation: https://pandas.pydata.org/pandas-docs/stable/user_guide/indexing.html#returning-a-view-versus-a-copy\n",
      "  filtered_citydata[\"month\"] = filtered_citydata[\"date\"].dt.month\n",
      "C:\\Users\\elisa\\AppData\\Local\\Temp\\ipykernel_5756\\3489930091.py:62: SettingWithCopyWarning: \n",
      "A value is trying to be set on a copy of a slice from a DataFrame.\n",
      "Try using .loc[row_indexer,col_indexer] = value instead\n",
      "\n",
      "See the caveats in the documentation: https://pandas.pydata.org/pandas-docs/stable/user_guide/indexing.html#returning-a-view-versus-a-copy\n",
      "  filtered_citydata[\"year\"] = filtered_citydata[\"date\"].dt.year\n",
      "C:\\Users\\elisa\\AppData\\Local\\Temp\\ipykernel_5756\\3489930091.py:63: SettingWithCopyWarning: \n",
      "A value is trying to be set on a copy of a slice from a DataFrame.\n",
      "Try using .loc[row_indexer,col_indexer] = value instead\n",
      "\n",
      "See the caveats in the documentation: https://pandas.pydata.org/pandas-docs/stable/user_guide/indexing.html#returning-a-view-versus-a-copy\n",
      "  filtered_citydata['month_year'] = filtered_citydata['month'].astype(str) + '-' + filtered_citydata['year'].astype(str)\n"
     ]
    },
    {
     "name": "stdout",
     "output_type": "stream",
     "text": [
      "San Francisco\n"
     ]
    },
    {
     "name": "stderr",
     "output_type": "stream",
     "text": [
      "C:\\Users\\elisa\\AppData\\Local\\Temp\\ipykernel_5756\\3489930091.py:60: SettingWithCopyWarning: \n",
      "A value is trying to be set on a copy of a slice from a DataFrame.\n",
      "Try using .loc[row_indexer,col_indexer] = value instead\n",
      "\n",
      "See the caveats in the documentation: https://pandas.pydata.org/pandas-docs/stable/user_guide/indexing.html#returning-a-view-versus-a-copy\n",
      "  filtered_citydata[\"date\"] = pd.to_datetime(filtered_citydata[\"date\"])\n",
      "C:\\Users\\elisa\\AppData\\Local\\Temp\\ipykernel_5756\\3489930091.py:61: SettingWithCopyWarning: \n",
      "A value is trying to be set on a copy of a slice from a DataFrame.\n",
      "Try using .loc[row_indexer,col_indexer] = value instead\n",
      "\n",
      "See the caveats in the documentation: https://pandas.pydata.org/pandas-docs/stable/user_guide/indexing.html#returning-a-view-versus-a-copy\n",
      "  filtered_citydata[\"month\"] = filtered_citydata[\"date\"].dt.month\n",
      "C:\\Users\\elisa\\AppData\\Local\\Temp\\ipykernel_5756\\3489930091.py:62: SettingWithCopyWarning: \n",
      "A value is trying to be set on a copy of a slice from a DataFrame.\n",
      "Try using .loc[row_indexer,col_indexer] = value instead\n",
      "\n",
      "See the caveats in the documentation: https://pandas.pydata.org/pandas-docs/stable/user_guide/indexing.html#returning-a-view-versus-a-copy\n",
      "  filtered_citydata[\"year\"] = filtered_citydata[\"date\"].dt.year\n",
      "C:\\Users\\elisa\\AppData\\Local\\Temp\\ipykernel_5756\\3489930091.py:63: SettingWithCopyWarning: \n",
      "A value is trying to be set on a copy of a slice from a DataFrame.\n",
      "Try using .loc[row_indexer,col_indexer] = value instead\n",
      "\n",
      "See the caveats in the documentation: https://pandas.pydata.org/pandas-docs/stable/user_guide/indexing.html#returning-a-view-versus-a-copy\n",
      "  filtered_citydata['month_year'] = filtered_citydata['month'].astype(str) + '-' + filtered_citydata['year'].astype(str)\n"
     ]
    },
    {
     "name": "stdout",
     "output_type": "stream",
     "text": [
      "Tokyo\n"
     ]
    },
    {
     "name": "stderr",
     "output_type": "stream",
     "text": [
      "C:\\Users\\elisa\\AppData\\Local\\Temp\\ipykernel_5756\\3489930091.py:60: SettingWithCopyWarning: \n",
      "A value is trying to be set on a copy of a slice from a DataFrame.\n",
      "Try using .loc[row_indexer,col_indexer] = value instead\n",
      "\n",
      "See the caveats in the documentation: https://pandas.pydata.org/pandas-docs/stable/user_guide/indexing.html#returning-a-view-versus-a-copy\n",
      "  filtered_citydata[\"date\"] = pd.to_datetime(filtered_citydata[\"date\"])\n",
      "C:\\Users\\elisa\\AppData\\Local\\Temp\\ipykernel_5756\\3489930091.py:61: SettingWithCopyWarning: \n",
      "A value is trying to be set on a copy of a slice from a DataFrame.\n",
      "Try using .loc[row_indexer,col_indexer] = value instead\n",
      "\n",
      "See the caveats in the documentation: https://pandas.pydata.org/pandas-docs/stable/user_guide/indexing.html#returning-a-view-versus-a-copy\n",
      "  filtered_citydata[\"month\"] = filtered_citydata[\"date\"].dt.month\n",
      "C:\\Users\\elisa\\AppData\\Local\\Temp\\ipykernel_5756\\3489930091.py:62: SettingWithCopyWarning: \n",
      "A value is trying to be set on a copy of a slice from a DataFrame.\n",
      "Try using .loc[row_indexer,col_indexer] = value instead\n",
      "\n",
      "See the caveats in the documentation: https://pandas.pydata.org/pandas-docs/stable/user_guide/indexing.html#returning-a-view-versus-a-copy\n",
      "  filtered_citydata[\"year\"] = filtered_citydata[\"date\"].dt.year\n",
      "C:\\Users\\elisa\\AppData\\Local\\Temp\\ipykernel_5756\\3489930091.py:63: SettingWithCopyWarning: \n",
      "A value is trying to be set on a copy of a slice from a DataFrame.\n",
      "Try using .loc[row_indexer,col_indexer] = value instead\n",
      "\n",
      "See the caveats in the documentation: https://pandas.pydata.org/pandas-docs/stable/user_guide/indexing.html#returning-a-view-versus-a-copy\n",
      "  filtered_citydata['month_year'] = filtered_citydata['month'].astype(str) + '-' + filtered_citydata['year'].astype(str)\n"
     ]
    },
    {
     "name": "stdout",
     "output_type": "stream",
     "text": [
      "Toronto\n"
     ]
    },
    {
     "name": "stderr",
     "output_type": "stream",
     "text": [
      "C:\\Users\\elisa\\AppData\\Local\\Temp\\ipykernel_5756\\3489930091.py:60: SettingWithCopyWarning: \n",
      "A value is trying to be set on a copy of a slice from a DataFrame.\n",
      "Try using .loc[row_indexer,col_indexer] = value instead\n",
      "\n",
      "See the caveats in the documentation: https://pandas.pydata.org/pandas-docs/stable/user_guide/indexing.html#returning-a-view-versus-a-copy\n",
      "  filtered_citydata[\"date\"] = pd.to_datetime(filtered_citydata[\"date\"])\n",
      "C:\\Users\\elisa\\AppData\\Local\\Temp\\ipykernel_5756\\3489930091.py:61: SettingWithCopyWarning: \n",
      "A value is trying to be set on a copy of a slice from a DataFrame.\n",
      "Try using .loc[row_indexer,col_indexer] = value instead\n",
      "\n",
      "See the caveats in the documentation: https://pandas.pydata.org/pandas-docs/stable/user_guide/indexing.html#returning-a-view-versus-a-copy\n",
      "  filtered_citydata[\"month\"] = filtered_citydata[\"date\"].dt.month\n",
      "C:\\Users\\elisa\\AppData\\Local\\Temp\\ipykernel_5756\\3489930091.py:62: SettingWithCopyWarning: \n",
      "A value is trying to be set on a copy of a slice from a DataFrame.\n",
      "Try using .loc[row_indexer,col_indexer] = value instead\n",
      "\n",
      "See the caveats in the documentation: https://pandas.pydata.org/pandas-docs/stable/user_guide/indexing.html#returning-a-view-versus-a-copy\n",
      "  filtered_citydata[\"year\"] = filtered_citydata[\"date\"].dt.year\n",
      "C:\\Users\\elisa\\AppData\\Local\\Temp\\ipykernel_5756\\3489930091.py:63: SettingWithCopyWarning: \n",
      "A value is trying to be set on a copy of a slice from a DataFrame.\n",
      "Try using .loc[row_indexer,col_indexer] = value instead\n",
      "\n",
      "See the caveats in the documentation: https://pandas.pydata.org/pandas-docs/stable/user_guide/indexing.html#returning-a-view-versus-a-copy\n",
      "  filtered_citydata['month_year'] = filtered_citydata['month'].astype(str) + '-' + filtered_citydata['year'].astype(str)\n"
     ]
    },
    {
     "name": "stdout",
     "output_type": "stream",
     "text": [
      "Valencia\n"
     ]
    },
    {
     "name": "stderr",
     "output_type": "stream",
     "text": [
      "C:\\Users\\elisa\\AppData\\Local\\Temp\\ipykernel_5756\\3489930091.py:60: SettingWithCopyWarning: \n",
      "A value is trying to be set on a copy of a slice from a DataFrame.\n",
      "Try using .loc[row_indexer,col_indexer] = value instead\n",
      "\n",
      "See the caveats in the documentation: https://pandas.pydata.org/pandas-docs/stable/user_guide/indexing.html#returning-a-view-versus-a-copy\n",
      "  filtered_citydata[\"date\"] = pd.to_datetime(filtered_citydata[\"date\"])\n",
      "C:\\Users\\elisa\\AppData\\Local\\Temp\\ipykernel_5756\\3489930091.py:61: SettingWithCopyWarning: \n",
      "A value is trying to be set on a copy of a slice from a DataFrame.\n",
      "Try using .loc[row_indexer,col_indexer] = value instead\n",
      "\n",
      "See the caveats in the documentation: https://pandas.pydata.org/pandas-docs/stable/user_guide/indexing.html#returning-a-view-versus-a-copy\n",
      "  filtered_citydata[\"month\"] = filtered_citydata[\"date\"].dt.month\n",
      "C:\\Users\\elisa\\AppData\\Local\\Temp\\ipykernel_5756\\3489930091.py:62: SettingWithCopyWarning: \n",
      "A value is trying to be set on a copy of a slice from a DataFrame.\n",
      "Try using .loc[row_indexer,col_indexer] = value instead\n",
      "\n",
      "See the caveats in the documentation: https://pandas.pydata.org/pandas-docs/stable/user_guide/indexing.html#returning-a-view-versus-a-copy\n",
      "  filtered_citydata[\"year\"] = filtered_citydata[\"date\"].dt.year\n",
      "C:\\Users\\elisa\\AppData\\Local\\Temp\\ipykernel_5756\\3489930091.py:63: SettingWithCopyWarning: \n",
      "A value is trying to be set on a copy of a slice from a DataFrame.\n",
      "Try using .loc[row_indexer,col_indexer] = value instead\n",
      "\n",
      "See the caveats in the documentation: https://pandas.pydata.org/pandas-docs/stable/user_guide/indexing.html#returning-a-view-versus-a-copy\n",
      "  filtered_citydata['month_year'] = filtered_citydata['month'].astype(str) + '-' + filtered_citydata['year'].astype(str)\n"
     ]
    },
    {
     "name": "stdout",
     "output_type": "stream",
     "text": [
      "Vancouver\n"
     ]
    },
    {
     "name": "stderr",
     "output_type": "stream",
     "text": [
      "C:\\Users\\elisa\\AppData\\Local\\Temp\\ipykernel_5756\\3489930091.py:60: SettingWithCopyWarning: \n",
      "A value is trying to be set on a copy of a slice from a DataFrame.\n",
      "Try using .loc[row_indexer,col_indexer] = value instead\n",
      "\n",
      "See the caveats in the documentation: https://pandas.pydata.org/pandas-docs/stable/user_guide/indexing.html#returning-a-view-versus-a-copy\n",
      "  filtered_citydata[\"date\"] = pd.to_datetime(filtered_citydata[\"date\"])\n",
      "C:\\Users\\elisa\\AppData\\Local\\Temp\\ipykernel_5756\\3489930091.py:61: SettingWithCopyWarning: \n",
      "A value is trying to be set on a copy of a slice from a DataFrame.\n",
      "Try using .loc[row_indexer,col_indexer] = value instead\n",
      "\n",
      "See the caveats in the documentation: https://pandas.pydata.org/pandas-docs/stable/user_guide/indexing.html#returning-a-view-versus-a-copy\n",
      "  filtered_citydata[\"month\"] = filtered_citydata[\"date\"].dt.month\n",
      "C:\\Users\\elisa\\AppData\\Local\\Temp\\ipykernel_5756\\3489930091.py:62: SettingWithCopyWarning: \n",
      "A value is trying to be set on a copy of a slice from a DataFrame.\n",
      "Try using .loc[row_indexer,col_indexer] = value instead\n",
      "\n",
      "See the caveats in the documentation: https://pandas.pydata.org/pandas-docs/stable/user_guide/indexing.html#returning-a-view-versus-a-copy\n",
      "  filtered_citydata[\"year\"] = filtered_citydata[\"date\"].dt.year\n",
      "C:\\Users\\elisa\\AppData\\Local\\Temp\\ipykernel_5756\\3489930091.py:63: SettingWithCopyWarning: \n",
      "A value is trying to be set on a copy of a slice from a DataFrame.\n",
      "Try using .loc[row_indexer,col_indexer] = value instead\n",
      "\n",
      "See the caveats in the documentation: https://pandas.pydata.org/pandas-docs/stable/user_guide/indexing.html#returning-a-view-versus-a-copy\n",
      "  filtered_citydata['month_year'] = filtered_citydata['month'].astype(str) + '-' + filtered_citydata['year'].astype(str)\n"
     ]
    },
    {
     "name": "stdout",
     "output_type": "stream",
     "text": [
      "Vienna\n"
     ]
    },
    {
     "name": "stderr",
     "output_type": "stream",
     "text": [
      "C:\\Users\\elisa\\AppData\\Local\\Temp\\ipykernel_5756\\3489930091.py:60: SettingWithCopyWarning: \n",
      "A value is trying to be set on a copy of a slice from a DataFrame.\n",
      "Try using .loc[row_indexer,col_indexer] = value instead\n",
      "\n",
      "See the caveats in the documentation: https://pandas.pydata.org/pandas-docs/stable/user_guide/indexing.html#returning-a-view-versus-a-copy\n",
      "  filtered_citydata[\"date\"] = pd.to_datetime(filtered_citydata[\"date\"])\n",
      "C:\\Users\\elisa\\AppData\\Local\\Temp\\ipykernel_5756\\3489930091.py:61: SettingWithCopyWarning: \n",
      "A value is trying to be set on a copy of a slice from a DataFrame.\n",
      "Try using .loc[row_indexer,col_indexer] = value instead\n",
      "\n",
      "See the caveats in the documentation: https://pandas.pydata.org/pandas-docs/stable/user_guide/indexing.html#returning-a-view-versus-a-copy\n",
      "  filtered_citydata[\"month\"] = filtered_citydata[\"date\"].dt.month\n",
      "C:\\Users\\elisa\\AppData\\Local\\Temp\\ipykernel_5756\\3489930091.py:62: SettingWithCopyWarning: \n",
      "A value is trying to be set on a copy of a slice from a DataFrame.\n",
      "Try using .loc[row_indexer,col_indexer] = value instead\n",
      "\n",
      "See the caveats in the documentation: https://pandas.pydata.org/pandas-docs/stable/user_guide/indexing.html#returning-a-view-versus-a-copy\n",
      "  filtered_citydata[\"year\"] = filtered_citydata[\"date\"].dt.year\n",
      "C:\\Users\\elisa\\AppData\\Local\\Temp\\ipykernel_5756\\3489930091.py:63: SettingWithCopyWarning: \n",
      "A value is trying to be set on a copy of a slice from a DataFrame.\n",
      "Try using .loc[row_indexer,col_indexer] = value instead\n",
      "\n",
      "See the caveats in the documentation: https://pandas.pydata.org/pandas-docs/stable/user_guide/indexing.html#returning-a-view-versus-a-copy\n",
      "  filtered_citydata['month_year'] = filtered_citydata['month'].astype(str) + '-' + filtered_citydata['year'].astype(str)\n"
     ]
    },
    {
     "name": "stdout",
     "output_type": "stream",
     "text": [
      "Washington\n"
     ]
    },
    {
     "name": "stderr",
     "output_type": "stream",
     "text": [
      "C:\\Users\\elisa\\AppData\\Local\\Temp\\ipykernel_5756\\3489930091.py:60: SettingWithCopyWarning: \n",
      "A value is trying to be set on a copy of a slice from a DataFrame.\n",
      "Try using .loc[row_indexer,col_indexer] = value instead\n",
      "\n",
      "See the caveats in the documentation: https://pandas.pydata.org/pandas-docs/stable/user_guide/indexing.html#returning-a-view-versus-a-copy\n",
      "  filtered_citydata[\"date\"] = pd.to_datetime(filtered_citydata[\"date\"])\n",
      "C:\\Users\\elisa\\AppData\\Local\\Temp\\ipykernel_5756\\3489930091.py:61: SettingWithCopyWarning: \n",
      "A value is trying to be set on a copy of a slice from a DataFrame.\n",
      "Try using .loc[row_indexer,col_indexer] = value instead\n",
      "\n",
      "See the caveats in the documentation: https://pandas.pydata.org/pandas-docs/stable/user_guide/indexing.html#returning-a-view-versus-a-copy\n",
      "  filtered_citydata[\"month\"] = filtered_citydata[\"date\"].dt.month\n",
      "C:\\Users\\elisa\\AppData\\Local\\Temp\\ipykernel_5756\\3489930091.py:62: SettingWithCopyWarning: \n",
      "A value is trying to be set on a copy of a slice from a DataFrame.\n",
      "Try using .loc[row_indexer,col_indexer] = value instead\n",
      "\n",
      "See the caveats in the documentation: https://pandas.pydata.org/pandas-docs/stable/user_guide/indexing.html#returning-a-view-versus-a-copy\n",
      "  filtered_citydata[\"year\"] = filtered_citydata[\"date\"].dt.year\n",
      "C:\\Users\\elisa\\AppData\\Local\\Temp\\ipykernel_5756\\3489930091.py:63: SettingWithCopyWarning: \n",
      "A value is trying to be set on a copy of a slice from a DataFrame.\n",
      "Try using .loc[row_indexer,col_indexer] = value instead\n",
      "\n",
      "See the caveats in the documentation: https://pandas.pydata.org/pandas-docs/stable/user_guide/indexing.html#returning-a-view-versus-a-copy\n",
      "  filtered_citydata['month_year'] = filtered_citydata['month'].astype(str) + '-' + filtered_citydata['year'].astype(str)\n"
     ]
    },
    {
     "name": "stdout",
     "output_type": "stream",
     "text": [
      "Winnipeg\n"
     ]
    },
    {
     "name": "stderr",
     "output_type": "stream",
     "text": [
      "C:\\Users\\elisa\\AppData\\Local\\Temp\\ipykernel_5756\\3489930091.py:60: SettingWithCopyWarning: \n",
      "A value is trying to be set on a copy of a slice from a DataFrame.\n",
      "Try using .loc[row_indexer,col_indexer] = value instead\n",
      "\n",
      "See the caveats in the documentation: https://pandas.pydata.org/pandas-docs/stable/user_guide/indexing.html#returning-a-view-versus-a-copy\n",
      "  filtered_citydata[\"date\"] = pd.to_datetime(filtered_citydata[\"date\"])\n",
      "C:\\Users\\elisa\\AppData\\Local\\Temp\\ipykernel_5756\\3489930091.py:61: SettingWithCopyWarning: \n",
      "A value is trying to be set on a copy of a slice from a DataFrame.\n",
      "Try using .loc[row_indexer,col_indexer] = value instead\n",
      "\n",
      "See the caveats in the documentation: https://pandas.pydata.org/pandas-docs/stable/user_guide/indexing.html#returning-a-view-versus-a-copy\n",
      "  filtered_citydata[\"month\"] = filtered_citydata[\"date\"].dt.month\n",
      "C:\\Users\\elisa\\AppData\\Local\\Temp\\ipykernel_5756\\3489930091.py:62: SettingWithCopyWarning: \n",
      "A value is trying to be set on a copy of a slice from a DataFrame.\n",
      "Try using .loc[row_indexer,col_indexer] = value instead\n",
      "\n",
      "See the caveats in the documentation: https://pandas.pydata.org/pandas-docs/stable/user_guide/indexing.html#returning-a-view-versus-a-copy\n",
      "  filtered_citydata[\"year\"] = filtered_citydata[\"date\"].dt.year\n"
     ]
    },
    {
     "name": "stdout",
     "output_type": "stream",
     "text": [
      "Zurich\n"
     ]
    },
    {
     "name": "stderr",
     "output_type": "stream",
     "text": [
      "C:\\Users\\elisa\\AppData\\Local\\Temp\\ipykernel_5756\\3489930091.py:63: SettingWithCopyWarning: \n",
      "A value is trying to be set on a copy of a slice from a DataFrame.\n",
      "Try using .loc[row_indexer,col_indexer] = value instead\n",
      "\n",
      "See the caveats in the documentation: https://pandas.pydata.org/pandas-docs/stable/user_guide/indexing.html#returning-a-view-versus-a-copy\n",
      "  filtered_citydata['month_year'] = filtered_citydata['month'].astype(str) + '-' + filtered_citydata['year'].astype(str)\n"
     ]
    }
   ],
   "source": [
    "# Will take 10 mins to run but it WORKSSSSSS SLAY\n",
    "\n",
    "all_locations = all_listing_df_5[\"location\"].unique()\n",
    "\n",
    "average_by_month = pd.DataFrame()\n",
    "\n",
    "for location in all_locations:\n",
    "    ave_month = averageavaliability(location, all_listing_df_5)\n",
    "    average_by_month = pd.concat([average_by_month, ave_month], axis=0)\n",
    "    print(location)\n",
    "\n",
    "\n",
    "    # NOTE: For Madrid, the line \"filtered_citydata = filter_ids(citydata, all_listing_df_5)\" returns an empty df --> all listings have been \n",
    "    # removed from all_listing_df_5!!! Something has gone wrong, because all_listing_df_5 does have data for Madrid. something is wrong when \n",
    "    # the function uses it, idk why"
   ]
  },
  {
   "cell_type": "code",
   "execution_count": 196,
   "metadata": {},
   "outputs": [
    {
     "data": {
      "text/plain": [
       "array(['Amsterdam', 'Barcelona', 'Euskadi', 'Geneva', 'Ireland', 'Lisbon',\n",
       "       'Los Angeles', 'Malaga', 'Mallorca', 'Malta', 'Menorca',\n",
       "       'Mexico City', 'Milan', 'Naples', 'Rome', 'Rotterdam', 'San Diego',\n",
       "       'San Francisco', 'Tokyo', 'Toronto', 'Valencia', 'Vancouver',\n",
       "       'Vienna', 'Washington', 'Winnipeg', 'Zurich'], dtype=object)"
      ]
     },
     "execution_count": 196,
     "metadata": {},
     "output_type": "execute_result"
    }
   ],
   "source": [
    "# note that all of the properties in Madrid have no listing ID in the listings data file. Thus, we cannot merge the calendar and the listings\n",
    "# data for the city because we do not have the corresponding IDs. As such, the function removed all of the Madrid properties. \n",
    "\n",
    "average_by_month[\"location\"].unique()"
   ]
  },
  {
   "cell_type": "markdown",
   "metadata": {},
   "source": [
    "### Correcting for additional months"
   ]
  },
  {
   "cell_type": "code",
   "execution_count": 154,
   "metadata": {},
   "outputs": [
    {
     "data": {
      "text/plain": [
       "<PeriodArray>\n",
       "['2022-09', '2022-10', '2022-11', '2022-12', '2023-01', '2023-02', '2023-03',\n",
       " '2023-04', '2023-05', '2023-06', '2023-07', '2023-08', '2023-09']\n",
       "Length: 13, dtype: period[M]"
      ]
     },
     "execution_count": 154,
     "metadata": {},
     "output_type": "execute_result"
    }
   ],
   "source": [
    "# check for the unique \"month_year\" vaues in the average_by_month dataframe. This allows us to see what months are covered by the data\n",
    "average_by_month[\"month_year\"].unique()"
   ]
  },
  {
   "cell_type": "code",
   "execution_count": 159,
   "metadata": {},
   "outputs": [
    {
     "data": {
      "text/plain": [
       "month_year\n",
       "2022-09    26\n",
       "2022-10    26\n",
       "2022-11    26\n",
       "2022-12    26\n",
       "2023-01    26\n",
       "2023-02    26\n",
       "2023-03    26\n",
       "2023-04    26\n",
       "2023-05    26\n",
       "2023-06    26\n",
       "2023-07    26\n",
       "2023-08    26\n",
       "2023-09    26\n",
       "Freq: M, Name: count, dtype: int64"
      ]
     },
     "execution_count": 159,
     "metadata": {},
     "output_type": "execute_result"
    }
   ],
   "source": [
    "# All of the locations should have data from 2022-09 until 2023-09\n",
    "# loop through the dataframe and remove any month(s) for any locations that have observations over more than these 12 months\n",
    "\n",
    "# Create a boolean mask based on the specified conditions\n",
    "mask = average_by_month['month_year'] == \"2023-10\"\n",
    "\n",
    "# Use the boolean mask to filter the DataFrame and keep only the rows that don't match the conditions\n",
    "average_by_month = average_by_month[~mask]\n",
    "\n",
    "# check that we got the result we wanted\n",
    "average_by_month[\"month_year\"].value_counts()\n",
    "\n"
   ]
  },
  {
   "cell_type": "markdown",
   "metadata": {},
   "source": [
    "As can be seen above, all of the locations have data ranging from 2022-09 to 2023-09, except for Euskadi which has an extra month of data (2023-10). This is an additional month in comparison to the other locations, as such we will remove it to have a consistent range of data between all of the locations.\n"
   ]
  },
  {
   "cell_type": "markdown",
   "metadata": {},
   "source": [
    "Next, we will look at the seasonality of each month for each location, comparing it between the locations and calculating a seasonality index. We do this so as to have an idea of how consistent the bookings are per month for each location."
   ]
  },
  {
   "cell_type": "code",
   "execution_count": 198,
   "metadata": {},
   "outputs": [
    {
     "data": {
      "text/html": [
       "<div>\n",
       "<style scoped>\n",
       "    .dataframe tbody tr th:only-of-type {\n",
       "        vertical-align: middle;\n",
       "    }\n",
       "\n",
       "    .dataframe tbody tr th {\n",
       "        vertical-align: top;\n",
       "    }\n",
       "\n",
       "    .dataframe thead th {\n",
       "        text-align: right;\n",
       "    }\n",
       "</style>\n",
       "<table border=\"1\" class=\"dataframe\">\n",
       "  <thead>\n",
       "    <tr style=\"text-align: right;\">\n",
       "      <th></th>\n",
       "      <th>month_year</th>\n",
       "      <th>average_days_available</th>\n",
       "      <th>location</th>\n",
       "      <th>Seasonality_Index_%</th>\n",
       "    </tr>\n",
       "  </thead>\n",
       "  <tbody>\n",
       "    <tr>\n",
       "      <th>0</th>\n",
       "      <td>2022-09</td>\n",
       "      <td>4.0</td>\n",
       "      <td>Amsterdam</td>\n",
       "      <td>101.0</td>\n",
       "    </tr>\n",
       "    <tr>\n",
       "      <th>1</th>\n",
       "      <td>2022-10</td>\n",
       "      <td>7.0</td>\n",
       "      <td>Amsterdam</td>\n",
       "      <td>47.0</td>\n",
       "    </tr>\n",
       "    <tr>\n",
       "      <th>2</th>\n",
       "      <td>2022-11</td>\n",
       "      <td>11.0</td>\n",
       "      <td>Amsterdam</td>\n",
       "      <td>58.6</td>\n",
       "    </tr>\n",
       "    <tr>\n",
       "      <th>3</th>\n",
       "      <td>2022-12</td>\n",
       "      <td>11.0</td>\n",
       "      <td>Amsterdam</td>\n",
       "      <td>57.3</td>\n",
       "    </tr>\n",
       "    <tr>\n",
       "      <th>4</th>\n",
       "      <td>2023-01</td>\n",
       "      <td>14.0</td>\n",
       "      <td>Amsterdam</td>\n",
       "      <td>72.4</td>\n",
       "    </tr>\n",
       "    <tr>\n",
       "      <th>...</th>\n",
       "      <td>...</td>\n",
       "      <td>...</td>\n",
       "      <td>...</td>\n",
       "      <td>...</td>\n",
       "    </tr>\n",
       "    <tr>\n",
       "      <th>8</th>\n",
       "      <td>2023-05</td>\n",
       "      <td>16.0</td>\n",
       "      <td>Zurich</td>\n",
       "      <td>94.3</td>\n",
       "    </tr>\n",
       "    <tr>\n",
       "      <th>9</th>\n",
       "      <td>2023-06</td>\n",
       "      <td>16.0</td>\n",
       "      <td>Zurich</td>\n",
       "      <td>101.0</td>\n",
       "    </tr>\n",
       "    <tr>\n",
       "      <th>10</th>\n",
       "      <td>2023-07</td>\n",
       "      <td>16.0</td>\n",
       "      <td>Zurich</td>\n",
       "      <td>100.5</td>\n",
       "    </tr>\n",
       "    <tr>\n",
       "      <th>11</th>\n",
       "      <td>2023-08</td>\n",
       "      <td>16.0</td>\n",
       "      <td>Zurich</td>\n",
       "      <td>100.5</td>\n",
       "    </tr>\n",
       "    <tr>\n",
       "      <th>12</th>\n",
       "      <td>2023-09</td>\n",
       "      <td>12.0</td>\n",
       "      <td>Zurich</td>\n",
       "      <td>141.8</td>\n",
       "    </tr>\n",
       "  </tbody>\n",
       "</table>\n",
       "<p>338 rows × 4 columns</p>\n",
       "</div>"
      ],
      "text/plain": [
       "   month_year  average_days_available   location  Seasonality_Index_%\n",
       "0     2022-09                     4.0  Amsterdam                101.0\n",
       "1     2022-10                     7.0  Amsterdam                 47.0\n",
       "2     2022-11                    11.0  Amsterdam                 58.6\n",
       "3     2022-12                    11.0  Amsterdam                 57.3\n",
       "4     2023-01                    14.0  Amsterdam                 72.4\n",
       "..        ...                     ...        ...                  ...\n",
       "8     2023-05                    16.0     Zurich                 94.3\n",
       "9     2023-06                    16.0     Zurich                101.0\n",
       "10    2023-07                    16.0     Zurich                100.5\n",
       "11    2023-08                    16.0     Zurich                100.5\n",
       "12    2023-09                    12.0     Zurich                141.8\n",
       "\n",
       "[338 rows x 4 columns]"
      ]
     },
     "execution_count": 198,
     "metadata": {},
     "output_type": "execute_result"
    }
   ],
   "source": [
    "# Calculate the seasonality index for each month of each location\n",
    "\n",
    "# find the average availability per month between all locations\n",
    "seasonality_df = average_by_month\n",
    "seasonality_df['Average'] = seasonality_df.groupby('month_year')['average_days_available'].transform('mean')\n",
    "\n",
    "# calculate the seasonality index for each location's month and append it to the dataframe \n",
    "seasonality_df['Seasonality_Index_%'] = round((seasonality_df['average_days_available'] / seasonality_df['Average']) * 100,1)\n",
    "\n",
    "# remove the Average column since it is no longer needed\n",
    "seasonality_df = seasonality_df.drop(\"Average\", axis=1)\n",
    "\n",
    "# show the data frame \n",
    "seasonality_df\n",
    "\n",
    "\n"
   ]
  },
  {
   "cell_type": "markdown",
   "metadata": {},
   "source": [
    "The seasonality index indicates how the availability per month of each location varies with respect to a seasonal pattern. A seasonality index value above 100% indicates a period of higher demand or availability compared to the average. A seasonality index value below 100%, instead, indicates a period of lower demand or availability compared to the average. Finally, a seasonality index of 100% suggests that the availability is in line with the average, without any significant seasonal deviation."
   ]
  },
  {
   "cell_type": "code",
   "execution_count": 218,
   "metadata": {},
   "outputs": [
    {
     "data": {
      "text/plain": [
       "<Figure size 864x432 with 0 Axes>"
      ]
     },
     "metadata": {},
     "output_type": "display_data"
    },
    {
     "data": {
      "image/png": "[encoded data removed]",
      "text/plain": [
       "<Figure size 432x288 with 1 Axes>"
      ]
     },
     "metadata": {
      "needs_background": "light"
     },
     "output_type": "display_data"
    },
    {
     "data": {
      "text/plain": [
       "<Figure size 864x432 with 0 Axes>"
      ]
     },
     "metadata": {},
     "output_type": "display_data"
    },
    {
     "data": {
      "image/png": "[encoded data removed]",
      "text/plain": [
       "<Figure size 432x288 with 1 Axes>"
      ]
     },
     "metadata": {
      "needs_background": "light"
     },
     "output_type": "display_data"
    },
    {
     "data": {
      "text/plain": [
       "<Figure size 864x432 with 0 Axes>"
      ]
     },
     "metadata": {},
     "output_type": "display_data"
    },
    {
     "data": {
      "image/png": "[encoded data removed]",
      "text/plain": [
       "<Figure size 432x288 with 1 Axes>"
      ]
     },
     "metadata": {
      "needs_background": "light"
     },
     "output_type": "display_data"
    },
    {
     "data": {
      "text/plain": [
       "<Figure size 864x432 with 0 Axes>"
      ]
     },
     "metadata": {},
     "output_type": "display_data"
    },
    {
     "data": {
      "image/png": "[encoded data removed]",
      "text/plain": [
       "<Figure size 432x288 with 1 Axes>"
      ]
     },
     "metadata": {
      "needs_background": "light"
     },
     "output_type": "display_data"
    },
    {
     "data": {
      "text/plain": [
       "<Figure size 864x432 with 0 Axes>"
      ]
     },
     "metadata": {},
     "output_type": "display_data"
    },
    {
     "data": {
      "image/png": "[encoded data removed]",
      "text/plain": [
       "<Figure size 432x288 with 1 Axes>"
      ]
     },
     "metadata": {
      "needs_background": "light"
     },
     "output_type": "display_data"
    },
    {
     "data": {
      "text/plain": [
       "<Figure size 864x432 with 0 Axes>"
      ]
     },
     "metadata": {},
     "output_type": "display_data"
    },
    {
     "data": {
      "image/png": "[encoded data removed]",
      "text/plain": [
       "<Figure size 432x288 with 1 Axes>"
      ]
     },
     "metadata": {
      "needs_background": "light"
     },
     "output_type": "display_data"
    },
    {
     "data": {
      "text/plain": [
       "<Figure size 864x432 with 0 Axes>"
      ]
     },
     "metadata": {},
     "output_type": "display_data"
    },
    {
     "data": {
      "image/png": "[encoded data removed]",
      "text/plain": [
       "<Figure size 432x288 with 1 Axes>"
      ]
     },
     "metadata": {
      "needs_background": "light"
     },
     "output_type": "display_data"
    },
    {
     "data": {
      "text/plain": [
       "<Figure size 864x432 with 0 Axes>"
      ]
     },
     "metadata": {},
     "output_type": "display_data"
    },
    {
     "data": {
      "image/png": "[encoded data removed]",
      "text/plain": [
       "<Figure size 432x288 with 1 Axes>"
      ]
     },
     "metadata": {
      "needs_background": "light"
     },
     "output_type": "display_data"
    },
    {
     "data": {
      "text/plain": [
       "<Figure size 864x432 with 0 Axes>"
      ]
     },
     "metadata": {},
     "output_type": "display_data"
    },
    {
     "data": {
      "image/png": "[encoded data removed]",
      "text/plain": [
       "<Figure size 432x288 with 1 Axes>"
      ]
     },
     "metadata": {
      "needs_background": "light"
     },
     "output_type": "display_data"
    },
    {
     "data": {
      "text/plain": [
       "<Figure size 864x432 with 0 Axes>"
      ]
     },
     "metadata": {},
     "output_type": "display_data"
    },
    {
     "data": {
      "image/png": "[encoded data removed]",
      "text/plain": [
       "<Figure size 432x288 with 1 Axes>"
      ]
     },
     "metadata": {
      "needs_background": "light"
     },
     "output_type": "display_data"
    },
    {
     "data": {
      "text/plain": [
       "<Figure size 864x432 with 0 Axes>"
      ]
     },
     "metadata": {},
     "output_type": "display_data"
    },
    {
     "data": {
      "image/png": "[encoded data removed]",
      "text/plain": [
       "<Figure size 432x288 with 1 Axes>"
      ]
     },
     "metadata": {
      "needs_background": "light"
     },
     "output_type": "display_data"
    },
    {
     "data": {
      "text/plain": [
       "<Figure size 864x432 with 0 Axes>"
      ]
     },
     "metadata": {},
     "output_type": "display_data"
    },
    {
     "data": {
      "image/png": "[encoded data removed]",
      "text/plain": [
       "<Figure size 432x288 with 1 Axes>"
      ]
     },
     "metadata": {
      "needs_background": "light"
     },
     "output_type": "display_data"
    },
    {
     "data": {
      "text/plain": [
       "<Figure size 864x432 with 0 Axes>"
      ]
     },
     "metadata": {},
     "output_type": "display_data"
    },
    {
     "data": {
      "image/png": "[encoded data removed]",
      "text/plain": [
       "<Figure size 432x288 with 1 Axes>"
      ]
     },
     "metadata": {
      "needs_background": "light"
     },
     "output_type": "display_data"
    },
    {
     "data": {
      "text/plain": [
       "<Figure size 864x432 with 0 Axes>"
      ]
     },
     "metadata": {},
     "output_type": "display_data"
    },
    {
     "data": {
      "image/png": "[encoded data removed]",
      "text/plain": [
       "<Figure size 432x288 with 1 Axes>"
      ]
     },
     "metadata": {
      "needs_background": "light"
     },
     "output_type": "display_data"
    },
    {
     "data": {
      "text/plain": [
       "<Figure size 864x432 with 0 Axes>"
      ]
     },
     "metadata": {},
     "output_type": "display_data"
    },
    {
     "data": {
      "image/png": "[encoded data removed]",
      "text/plain": [
       "<Figure size 432x288 with 1 Axes>"
      ]
     },
     "metadata": {
      "needs_background": "light"
     },
     "output_type": "display_data"
    },
    {
     "data": {
      "text/plain": [
       "<Figure size 864x432 with 0 Axes>"
      ]
     },
     "metadata": {},
     "output_type": "display_data"
    },
    {
     "data": {
      "image/png": "[encoded data removed]",
      "text/plain": [
       "<Figure size 432x288 with 1 Axes>"
      ]
     },
     "metadata": {
      "needs_background": "light"
     },
     "output_type": "display_data"
    },
    {
     "data": {
      "text/plain": [
       "<Figure size 864x432 with 0 Axes>"
      ]
     },
     "metadata": {},
     "output_type": "display_data"
    },
    {
     "data": {
      "image/png": "[encoded data removed]",
      "text/plain": [
       "<Figure size 432x288 with 1 Axes>"
      ]
     },
     "metadata": {
      "needs_background": "light"
     },
     "output_type": "display_data"
    },
    {
     "data": {
      "text/plain": [
       "<Figure size 864x432 with 0 Axes>"
      ]
     },
     "metadata": {},
     "output_type": "display_data"
    },
    {
     "data": {
      "image/png": "[encoded data removed]",
      "text/plain": [
       "<Figure size 432x288 with 1 Axes>"
      ]
     },
     "metadata": {
      "needs_background": "light"
     },
     "output_type": "display_data"
    },
    {
     "data": {
      "text/plain": [
       "<Figure size 864x432 with 0 Axes>"
      ]
     },
     "metadata": {},
     "output_type": "display_data"
    },
    {
     "data": {
      "image/png": "[encoded data removed]",
      "text/plain": [
       "<Figure size 432x288 with 1 Axes>"
      ]
     },
     "metadata": {
      "needs_background": "light"
     },
     "output_type": "display_data"
    },
    {
     "data": {
      "text/plain": [
       "<Figure size 864x432 with 0 Axes>"
      ]
     },
     "metadata": {},
     "output_type": "display_data"
    },
    {
     "data": {
      "image/png": "[encoded data removed]",
      "text/plain": [
       "<Figure size 432x288 with 1 Axes>"
      ]
     },
     "metadata": {
      "needs_background": "light"
     },
     "output_type": "display_data"
    },
    {
     "data": {
      "text/plain": [
       "<Figure size 864x432 with 0 Axes>"
      ]
     },
     "metadata": {},
     "output_type": "display_data"
    },
    {
     "data": {
      "image/png": "[encoded data removed]",
      "text/plain": [
       "<Figure size 432x288 with 1 Axes>"
      ]
     },
     "metadata": {
      "needs_background": "light"
     },
     "output_type": "display_data"
    },
    {
     "data": {
      "text/plain": [
       "<Figure size 864x432 with 0 Axes>"
      ]
     },
     "metadata": {},
     "output_type": "display_data"
    },
    {
     "data": {
      "image/png": "[encoded data removed]",
      "text/plain": [
       "<Figure size 432x288 with 1 Axes>"
      ]
     },
     "metadata": {
      "needs_background": "light"
     },
     "output_type": "display_data"
    },
    {
     "data": {
      "text/plain": [
       "<Figure size 864x432 with 0 Axes>"
      ]
     },
     "metadata": {},
     "output_type": "display_data"
    },
    {
     "data": {
      "image/png": "[encoded data removed]",
      "text/plain": [
       "<Figure size 432x288 with 1 Axes>"
      ]
     },
     "metadata": {
      "needs_background": "light"
     },
     "output_type": "display_data"
    },
    {
     "data": {
      "text/plain": [
       "<Figure size 864x432 with 0 Axes>"
      ]
     },
     "metadata": {},
     "output_type": "display_data"
    },
    {
     "data": {
      "image/png": "[encoded data removed]",
      "text/plain": [
       "<Figure size 432x288 with 1 Axes>"
      ]
     },
     "metadata": {
      "needs_background": "light"
     },
     "output_type": "display_data"
    },
    {
     "data": {
      "text/plain": [
       "<Figure size 864x432 with 0 Axes>"
      ]
     },
     "metadata": {},
     "output_type": "display_data"
    },
    {
     "data": {
      "image/png": "[encoded data removed]",
      "text/plain": [
       "<Figure size 432x288 with 1 Axes>"
      ]
     },
     "metadata": {
      "needs_background": "light"
     },
     "output_type": "display_data"
    },
    {
     "data": {
      "text/plain": [
       "<Figure size 864x432 with 0 Axes>"
      ]
     },
     "metadata": {},
     "output_type": "display_data"
    },
    {
     "data": {
      "image/png": "[encoded data removed]",
      "text/plain": [
       "<Figure size 432x288 with 1 Axes>"
      ]
     },
     "metadata": {
      "needs_background": "light"
     },
     "output_type": "display_data"
    }
   ],
   "source": [
    "import matplotlib.pyplot as plt\n",
    "\n",
    "# Plot the monthly seasonality for each location\n",
    "\n",
    "seasonality_locations = seasonality_df[\"location\"].unique()\n",
    "\n",
    "\n",
    "for location in seasonality_locations:\n",
    "    season_given_location = seasonality_df[seasonality_df[\"location\"] == location]\n",
    "\n",
    "    # Pivot the DataFrame for better plotting\n",
    "    pivot_df = season_given_location.pivot(index='month_year', columns='location', values='Seasonality_Index_%')\n",
    "\n",
    "    plt.figure(figsize=(12, 6))\n",
    "    pivot_df.plot(marker='o', linestyle='-')\n",
    "    plt.title(f'Seasonality of {location} for Each Month')\n",
    "    plt.xlabel('Month')\n",
    "    plt.ylabel('Seasonality Index %')\n",
    "    plt.grid(True)\n",
    "    plt.tight_layout()\n",
    "    plt.show()\n",
    "\n"
   ]
  },
  {
   "cell_type": "code",
   "execution_count": 219,
   "metadata": {},
   "outputs": [
    {
     "data": {
      "text/plain": [
       "' \\nTO DO FOR MODEL GENERATION:\\n- split the data set into test and train  \\n- etc. \\n'"
      ]
     },
     "execution_count": 219,
     "metadata": {},
     "output_type": "execute_result"
    }
   ],
   "source": [
    "''' \n",
    "TO DO FOR MODEL GENERATION:\n",
    "- split the data set into test and train  \n",
    "- etc. \n",
    "'''\n"
   ]
  },
  {
   "cell_type": "markdown",
   "metadata": {},
   "source": []
  },
  {
   "cell_type": "markdown",
   "metadata": {},
   "source": []
  },
  {
   "cell_type": "code",
   "execution_count": 190,
   "metadata": {},
   "outputs": [
    {
     "name": "stderr",
     "output_type": "stream",
     "text": [
      "C:\\Users\\elisa\\AppData\\Local\\Temp\\ipykernel_5756\\2521765867.py:7: SettingWithCopyWarning: \n",
      "A value is trying to be set on a copy of a slice from a DataFrame.\n",
      "Try using .loc[row_indexer,col_indexer] = value instead\n",
      "\n",
      "See the caveats in the documentation: https://pandas.pydata.org/pandas-docs/stable/user_guide/indexing.html#returning-a-view-versus-a-copy\n",
      "  amsterdam['month_year'] = amsterdam['month_year'].astype(str)\n"
     ]
    },
    {
     "data": {
      "image/png": "[encoded data removed]",
      "text/plain": [
       "<Figure size 432x288 with 1 Axes>"
      ]
     },
     "metadata": {
      "needs_background": "light"
     },
     "output_type": "display_data"
    }
   ],
   "source": [
    "city = 'Toronto'\n",
    "\n",
    "amsterdam = average_by_month[average_by_month['location']==city]\n",
    "\n",
    "av = amsterdam['average_days_available']\n",
    "\n",
    "amsterdam['month_year'] = amsterdam['month_year'].astype(str)\n",
    "\n",
    "\n",
    "import matplotlib.pyplot as plt\n",
    "\n",
    "plt.bar(amsterdam['month_year'], av )\n",
    "plt.xlabel('Month-Year')\n",
    "plt.ylabel('Average Days Available')\n",
    "plt.title('Average Days Available in Amsterdam Over Time')\n",
    "plt.show()"
   ]
  },
  {
   "cell_type": "markdown",
   "metadata": {},
   "source": [
    "## Pricing Analysis\n"
   ]
  },
  {
   "cell_type": "markdown",
   "metadata": {},
   "source": []
  }
 ],
 "metadata": {
  "kernelspec": {
   "display_name": "Python 3",
   "language": "python",
   "name": "python3"
  },
  "language_info": {
   "codemirror_mode": {
    "name": "ipython",
    "version": 3
   },
   "file_extension": ".py",
   "mimetype": "text/x-python",
   "name": "python",
   "nbconvert_exporter": "python",
   "pygments_lexer": "ipython3",
   "version": "3.11.4"
  }
 },
 "nbformat": 4,
 "nbformat_minor": 2
}
