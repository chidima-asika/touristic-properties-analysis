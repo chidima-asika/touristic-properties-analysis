{
 "cells": [
  {
   "cell_type": "code",
   "execution_count": null,
   "metadata": {},
   "outputs": [],
   "source": []
  },
  {
   "cell_type": "code",
   "execution_count": null,
   "metadata": {},
   "outputs": [],
   "source": [
    "print ()\"hi hi\"\n",
    "\"hello\""
   ]
  },
  {
   "cell_type": "markdown",
   "metadata": {},
   "source": []
  },
  {
   "cell_type": "code",
   "execution_count": 4,
   "metadata": {},
   "outputs": [
    {
     "name": "stdout",
     "output_type": "stream",
     "text": [
      "conflict is bad\n",
      "hi\n",
      "conflictt is bad\n",
      "hi\n",
      "conflicttt is bad\n",
      "hi\n",
      "conflictttt is bad\n",
      "hi\n",
      "conflicttttt is bad\n",
      "hi\n",
      "conflictttttt is bad\n",
      "hi\n",
      "conflicttttttt is bad\n",
      "hi\n"
     ]
    }
   ],
   "source": [
    "word = \"conflict\"\n",
    "for i in range (7):\n",
    "    print(f'{word} is bad')\n",
    "    word += \"t\"\n",
    "    print(\"hi\")"
   ]
  }
 ],
 "metadata": {
  "kernelspec": {
   "display_name": "Python 3",
   "language": "python",
   "name": "python3"
  },
  "language_info": {
   "codemirror_mode": {
    "name": "ipython",
    "version": 3
   },
   "file_extension": ".py",
   "mimetype": "text/x-python",
   "name": "python",
   "nbconvert_exporter": "python",
   "pygments_lexer": "ipython3",
   "version": "3.11.3"
  }
 },
 "nbformat": 4,
 "nbformat_minor": 2
}
